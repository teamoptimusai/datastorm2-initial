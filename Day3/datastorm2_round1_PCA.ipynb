{
  "nbformat": 4,
  "nbformat_minor": 0,
  "metadata": {
    "colab": {
      "name": "datastorm2- round1-PCA.ipynb",
      "provenance": []
    },
    "kernelspec": {
      "name": "python3",
      "display_name": "Python 3"
    }
  },
  "cells": [
    {
      "cell_type": "code",
      "metadata": {
        "id": "amW_y_V4RF-b"
      },
      "source": [
        "import pandas as pd \r\n",
        "import numpy as np\r\n",
        "import matplotlib.pyplot as plt\r\n",
        "from sklearn.decomposition import PCA\r\n",
        "from sklearn.preprocessing import StandardScaler\r\n",
        "%matplotlib inline"
      ],
      "execution_count": null,
      "outputs": []
    },
    {
      "cell_type": "code",
      "metadata": {
        "colab": {
          "base_uri": "https://localhost:8080/"
        },
        "id": "uvsdXGPxRO8x",
        "outputId": "e7f268c6-f2bb-44fc-8c3b-6be1395373fe"
      },
      "source": [
        "!gdown --id 1MIKKj8Gi-xUwhsYt6xEV6FSmX0_Le8iL\r\n",
        "!unzip -q 'data-storm-20.zip'"
      ],
      "execution_count": null,
      "outputs": [
        {
          "output_type": "stream",
          "text": [
            "Downloading...\n",
            "From: https://drive.google.com/uc?id=1MIKKj8Gi-xUwhsYt6xEV6FSmX0_Le8iL\n",
            "To: /content/data-storm-20.zip\n",
            "\r  0% 0.00/1.23M [00:00<?, ?B/s]\r100% 1.23M/1.23M [00:00<00:00, 79.5MB/s]\n",
            "replace DataStorm2.0_Q1-v2.pdf? [y]es, [n]o, [A]ll, [N]one, [r]ename: n\n",
            "replace Hotel-A-data-dictionary.csv? [y]es, [n]o, [A]ll, [N]one, [r]ename: A\n"
          ],
          "name": "stdout"
        }
      ]
    },
    {
      "cell_type": "code",
      "metadata": {
        "id": "ZqIrKG3fTCvp"
      },
      "source": [
        "data_train = pd.read_csv('cleaned_training_data.csv')\r\n",
        "data_validation = pd.read_csv('Hotel-A-validation.csv', index_col = 0)\r\n",
        "columns = data_train.columns.tolist()\r\n",
        "drop_list = ['Reservation-id','Expected_checkin', 'Expected_checkout', 'Booking_date']   \r\n",
        "data_train = data_train.drop(drop_list, 1)\r\n",
        "columns = data_train.columns.tolist().remove('Reservation_Status') "
      ],
      "execution_count": null,
      "outputs": []
    },
    {
      "cell_type": "code",
      "metadata": {
        "id": "MysOXhB0yNmz"
      },
      "source": [
        "from sklearn.utils import shuffle\r\n",
        "data_train = shuffle(data_train)"
      ],
      "execution_count": null,
      "outputs": []
    },
    {
      "cell_type": "code",
      "metadata": {
        "id": "-ckpPMmqYlOq"
      },
      "source": [
        "x = data_train.drop('Reservation_Status', 1)\r\n",
        "y = data_train['Reservation_Status']"
      ],
      "execution_count": null,
      "outputs": []
    },
    {
      "cell_type": "code",
      "metadata": {
        "id": "xCm62cYMxg_i"
      },
      "source": [
        "from sklearn.model_selection import train_test_split\r\n",
        "x_train, x_test, y_train, y_test = train_test_split(x, y, test_size = .5)"
      ],
      "execution_count": null,
      "outputs": []
    },
    {
      "cell_type": "code",
      "metadata": {
        "id": "JkEZk9TSc-qI",
        "colab": {
          "base_uri": "https://localhost:8080/"
        },
        "outputId": "82baf7e4-1189-4392-9d77-a1874251ad4b"
      },
      "source": [
        "from sklearn.preprocessing import StandardScaler\r\n",
        "scaler = StandardScaler()\r\n",
        "scaler.fit(x_train)\r\n",
        "train_img = scaler.transform(x_train)\r\n",
        "test_img = scaler.transform(x_test)\r\n",
        "train_img"
      ],
      "execution_count": null,
      "outputs": [
        {
          "output_type": "execute_result",
          "data": {
            "text/plain": [
              "array([[ 1.00996769, -0.19931331, -0.28324646, ..., -1.0393618 ,\n",
              "         0.12970202,  0.96133918],\n",
              "       [ 1.00996769, -1.05047294, -0.28324646, ..., -0.8309135 ,\n",
              "         1.32708544,  0.96133918],\n",
              "       [-0.99013069, -0.33026095, -1.13068851, ...,  0.5500565 ,\n",
              "         1.32708544,  0.96133918],\n",
              "       ...,\n",
              "       [ 1.00996769, -0.98499912, -0.28324646, ..., -0.3488768 ,\n",
              "        -0.46898969, -1.04021558],\n",
              "       [ 1.00996769,  1.63395357,  0.56419558, ...,  1.04512121,\n",
              "        -0.76833554, -1.04021558],\n",
              "       [ 1.00996769, -0.65763003, -1.13068851, ..., -0.30979275,\n",
              "        -1.36702725,  0.96133918]])"
            ]
          },
          "metadata": {
            "tags": []
          },
          "execution_count": 92
        }
      ]
    },
    {
      "cell_type": "code",
      "metadata": {
        "id": "rm_y2kqDwg5c"
      },
      "source": [
        "from sklearn.decomposition import PCA\r\n",
        "pca = PCA(.95)\r\n",
        "pca.fit(train_img)\r\n",
        "train_img = pca.transform(train_img)\r\n",
        "test_img = pca.transform(test_img)"
      ],
      "execution_count": null,
      "outputs": []
    },
    {
      "cell_type": "code",
      "metadata": {
        "id": "zwTPwh8BxvoU"
      },
      "source": [
        "from sklearn.linear_model import LogisticRegression #trying different models\r\n",
        "from sklearn.tree import DecisionTreeClassifier\r\n",
        "from sklearn.ensemble import RandomForestClassifier\r\n",
        "from sklearn.ensemble import GradientBoostingClassifier\r\n",
        "from sklearn.ensemble import AdaBoostClassifier\r\n",
        "from sklearn.ensemble import ExtraTreesClassifier\r\n",
        "from sklearn.neighbors import KNeighborsClassifier\r\n",
        "from sklearn.svm import SVC\r\n",
        "from sklearn.naive_bayes import GaussianNB\r\n",
        "#from sklearn.model_selection import KFold\r\n",
        "from sklearn.metrics import accuracy_score"
      ],
      "execution_count": null,
      "outputs": []
    },
    {
      "cell_type": "code",
      "metadata": {
        "id": "kFM_RIuFxyZr",
        "colab": {
          "base_uri": "https://localhost:8080/"
        },
        "outputId": "05b5a886-86f4-4179-9281-fb0ddb67a6a7"
      },
      "source": [
        "classifiers = [['Logistic Regression :', LogisticRegression(max_iter = 1500)],\r\n",
        "       ['Decision Tree Classification :', DecisionTreeClassifier()],\r\n",
        "       ['Gradient Boosting Classification :', GradientBoostingClassifier()],\r\n",
        "       ['Ada Boosting Classification :', AdaBoostClassifier()],\r\n",
        "       ['RandomForest Classification :', AdaBoostClassifier()],\r\n",
        "       ['Extra Tree Classification :', ExtraTreesClassifier()],\r\n",
        "       ['K-Neighbors Classification :', KNeighborsClassifier()],\r\n",
        "       ['Support Vector Classification :',SVC()],\r\n",
        "       ['Gaussian Naive Bayes :',GaussianNB()]]\r\n",
        "\r\n",
        "cla_pred = []\r\n",
        "from sklearn.metrics import confusion_matrix, classification_report\r\n",
        "for name,model in classifiers:\r\n",
        "  model = model\r\n",
        "  model.fit(train_img,y_train)\r\n",
        "  predictions = model.predict(test_img)\r\n",
        "  cla_pred.append(accuracy_score(y_test,predictions))\r\n",
        "  print(name,accuracy_score(y_test,predictions))\r\n",
        "  print(confusion_matrix(y_test,predictions))\r\n",
        "  print(classification_report(y_test,predictions))"
      ],
      "execution_count": null,
      "outputs": [
        {
          "output_type": "stream",
          "text": [
            "Logistic Regression : 0.7527770431102883\n",
            "[[11385     0     0]\n",
            " [ 2448     0     0]\n",
            " [ 1291     0     0]]\n",
            "              precision    recall  f1-score   support\n",
            "\n",
            "           1       0.75      1.00      0.86     11385\n",
            "           2       0.00      0.00      0.00      2448\n",
            "           3       0.00      0.00      0.00      1291\n",
            "\n",
            "    accuracy                           0.75     15124\n",
            "   macro avg       0.25      0.33      0.29     15124\n",
            "weighted avg       0.57      0.75      0.65     15124\n",
            "\n"
          ],
          "name": "stdout"
        },
        {
          "output_type": "stream",
          "text": [
            "/usr/local/lib/python3.7/dist-packages/sklearn/metrics/_classification.py:1272: UndefinedMetricWarning: Precision and F-score are ill-defined and being set to 0.0 in labels with no predicted samples. Use `zero_division` parameter to control this behavior.\n",
            "  _warn_prf(average, modifier, msg_start, len(result))\n"
          ],
          "name": "stderr"
        },
        {
          "output_type": "stream",
          "text": [
            "Decision Tree Classification : 0.6094287225601692\n",
            "[[8609 1818  958]\n",
            " [1721  485  242]\n",
            " [ 910  258  123]]\n",
            "              precision    recall  f1-score   support\n",
            "\n",
            "           1       0.77      0.76      0.76     11385\n",
            "           2       0.19      0.20      0.19      2448\n",
            "           3       0.09      0.10      0.09      1291\n",
            "\n",
            "    accuracy                           0.61     15124\n",
            "   macro avg       0.35      0.35      0.35     15124\n",
            "weighted avg       0.62      0.61      0.61     15124\n",
            "\n",
            "Gradient Boosting Classification : 0.75191748214758\n",
            "[[11364    14     7]\n",
            " [ 2442     6     0]\n",
            " [ 1284     5     2]]\n",
            "              precision    recall  f1-score   support\n",
            "\n",
            "           1       0.75      1.00      0.86     11385\n",
            "           2       0.24      0.00      0.00      2448\n",
            "           3       0.22      0.00      0.00      1291\n",
            "\n",
            "    accuracy                           0.75     15124\n",
            "   macro avg       0.41      0.33      0.29     15124\n",
            "weighted avg       0.62      0.75      0.65     15124\n",
            "\n",
            "Ada Boosting Classification : 0.7523803226659613\n",
            "[[11378     7     0]\n",
            " [ 2447     1     0]\n",
            " [ 1291     0     0]]\n",
            "              precision    recall  f1-score   support\n",
            "\n",
            "           1       0.75      1.00      0.86     11385\n",
            "           2       0.12      0.00      0.00      2448\n",
            "           3       0.00      0.00      0.00      1291\n",
            "\n",
            "    accuracy                           0.75     15124\n",
            "   macro avg       0.29      0.33      0.29     15124\n",
            "weighted avg       0.59      0.75      0.65     15124\n",
            "\n"
          ],
          "name": "stdout"
        },
        {
          "output_type": "stream",
          "text": [
            "/usr/local/lib/python3.7/dist-packages/sklearn/metrics/_classification.py:1272: UndefinedMetricWarning: Precision and F-score are ill-defined and being set to 0.0 in labels with no predicted samples. Use `zero_division` parameter to control this behavior.\n",
            "  _warn_prf(average, modifier, msg_start, len(result))\n"
          ],
          "name": "stderr"
        },
        {
          "output_type": "stream",
          "text": [
            "RandomForest Classification : 0.7523803226659613\n",
            "[[11378     7     0]\n",
            " [ 2447     1     0]\n",
            " [ 1291     0     0]]\n",
            "              precision    recall  f1-score   support\n",
            "\n",
            "           1       0.75      1.00      0.86     11385\n",
            "           2       0.12      0.00      0.00      2448\n",
            "           3       0.00      0.00      0.00      1291\n",
            "\n",
            "    accuracy                           0.75     15124\n",
            "   macro avg       0.29      0.33      0.29     15124\n",
            "weighted avg       0.59      0.75      0.65     15124\n",
            "\n"
          ],
          "name": "stdout"
        },
        {
          "output_type": "stream",
          "text": [
            "/usr/local/lib/python3.7/dist-packages/sklearn/metrics/_classification.py:1272: UndefinedMetricWarning: Precision and F-score are ill-defined and being set to 0.0 in labels with no predicted samples. Use `zero_division` parameter to control this behavior.\n",
            "  _warn_prf(average, modifier, msg_start, len(result))\n"
          ],
          "name": "stderr"
        },
        {
          "output_type": "stream",
          "text": [
            "Extra Tree Classification : 0.7526448029621793\n",
            "[[11379     6     0]\n",
            " [ 2444     4     0]\n",
            " [ 1287     4     0]]\n",
            "              precision    recall  f1-score   support\n",
            "\n",
            "           1       0.75      1.00      0.86     11385\n",
            "           2       0.29      0.00      0.00      2448\n",
            "           3       0.00      0.00      0.00      1291\n",
            "\n",
            "    accuracy                           0.75     15124\n",
            "   macro avg       0.35      0.33      0.29     15124\n",
            "weighted avg       0.61      0.75      0.65     15124\n",
            "\n"
          ],
          "name": "stdout"
        },
        {
          "output_type": "stream",
          "text": [
            "/usr/local/lib/python3.7/dist-packages/sklearn/metrics/_classification.py:1272: UndefinedMetricWarning: Precision and F-score are ill-defined and being set to 0.0 in labels with no predicted samples. Use `zero_division` parameter to control this behavior.\n",
            "  _warn_prf(average, modifier, msg_start, len(result))\n"
          ],
          "name": "stderr"
        },
        {
          "output_type": "stream",
          "text": [
            "K-Neighbors Classification : 0.730428458079873\n",
            "[[10896   428    61]\n",
            " [ 2292   141    15]\n",
            " [ 1206    75    10]]\n",
            "              precision    recall  f1-score   support\n",
            "\n",
            "           1       0.76      0.96      0.85     11385\n",
            "           2       0.22      0.06      0.09      2448\n",
            "           3       0.12      0.01      0.01      1291\n",
            "\n",
            "    accuracy                           0.73     15124\n",
            "   macro avg       0.36      0.34      0.32     15124\n",
            "weighted avg       0.62      0.73      0.65     15124\n",
            "\n",
            "Support Vector Classification : 0.7527770431102883\n",
            "[[11385     0     0]\n",
            " [ 2448     0     0]\n",
            " [ 1291     0     0]]\n",
            "              precision    recall  f1-score   support\n",
            "\n",
            "           1       0.75      1.00      0.86     11385\n",
            "           2       0.00      0.00      0.00      2448\n",
            "           3       0.00      0.00      0.00      1291\n",
            "\n",
            "    accuracy                           0.75     15124\n",
            "   macro avg       0.25      0.33      0.29     15124\n",
            "weighted avg       0.57      0.75      0.65     15124\n",
            "\n",
            "Gaussian Naive Bayes : 0.7510579211848717\n",
            "[[11347    38     0]\n",
            " [ 2436    12     0]\n",
            " [ 1282     9     0]]\n",
            "              precision    recall  f1-score   support\n",
            "\n",
            "           1       0.75      1.00      0.86     11385\n",
            "           2       0.20      0.00      0.01      2448\n",
            "           3       0.00      0.00      0.00      1291\n",
            "\n",
            "    accuracy                           0.75     15124\n",
            "   macro avg       0.32      0.33      0.29     15124\n",
            "weighted avg       0.60      0.75      0.65     15124\n",
            "\n"
          ],
          "name": "stdout"
        },
        {
          "output_type": "stream",
          "text": [
            "/usr/local/lib/python3.7/dist-packages/sklearn/metrics/_classification.py:1272: UndefinedMetricWarning: Precision and F-score are ill-defined and being set to 0.0 in labels with no predicted samples. Use `zero_division` parameter to control this behavior.\n",
            "  _warn_prf(average, modifier, msg_start, len(result))\n",
            "/usr/local/lib/python3.7/dist-packages/sklearn/metrics/_classification.py:1272: UndefinedMetricWarning: Precision and F-score are ill-defined and being set to 0.0 in labels with no predicted samples. Use `zero_division` parameter to control this behavior.\n",
            "  _warn_prf(average, modifier, msg_start, len(result))\n"
          ],
          "name": "stderr"
        }
      ]
    },
    {
      "cell_type": "code",
      "metadata": {
        "id": "2gk4Lp9xyfLR"
      },
      "source": [
        ""
      ],
      "execution_count": null,
      "outputs": []
    }
  ]
}