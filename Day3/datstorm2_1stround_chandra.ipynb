{
  "nbformat": 4,
  "nbformat_minor": 0,
  "metadata": {
    "colab": {
      "name": "datstorm2-1stround-chandra.ipynb",
      "provenance": [],
      "collapsed_sections": [],
      "toc_visible": true
    },
    "kernelspec": {
      "display_name": "Python 3",
      "name": "python3"
    }
  },
  "cells": [
    {
      "cell_type": "markdown",
      "metadata": {
        "id": "zzUgjLHi7AAB"
      },
      "source": [
        "Downloading the Dataset"
      ]
    },
    {
      "cell_type": "code",
      "metadata": {
        "colab": {
          "base_uri": "https://localhost:8080/"
        },
        "id": "JxXp71Kk4vHu",
        "outputId": "9beb42d3-5708-49c5-83b4-680926ad71b4"
      },
      "source": [
        "!gdown --id 1MIKKj8Gi-xUwhsYt6xEV6FSmX0_Le8iL\n",
        "!unzip -q 'data-storm-20.zip'"
      ],
      "execution_count": 1,
      "outputs": [
        {
          "output_type": "stream",
          "text": [
            "Downloading...\n",
            "From: https://drive.google.com/uc?id=1MIKKj8Gi-xUwhsYt6xEV6FSmX0_Le8iL\n",
            "To: /content/data-storm-20.zip\n",
            "\r  0% 0.00/1.23M [00:00<?, ?B/s]\r100% 1.23M/1.23M [00:00<00:00, 77.0MB/s]\n"
          ],
          "name": "stdout"
        }
      ]
    },
    {
      "cell_type": "markdown",
      "metadata": {
        "id": "sOC5ptGU7FFE"
      },
      "source": [
        "### Preparing Data & Feature Engineering"
      ]
    },
    {
      "cell_type": "code",
      "metadata": {
        "id": "zaX8cK0l47ke"
      },
      "source": [
        "import pandas as pd\n",
        "import numpy as np\n",
        "import matplotlib.pyplot as plt"
      ],
      "execution_count": 2,
      "outputs": []
    },
    {
      "cell_type": "code",
      "metadata": {
        "id": "uv0bUOKW5EFt"
      },
      "source": [
        "data_train = pd.read_csv('Hotel-A-train.csv', index_col=0)\n",
        "data_validation = pd.read_csv('Hotel-A-validation.csv', index_col = 0)"
      ],
      "execution_count": 3,
      "outputs": []
    },
    {
      "cell_type": "code",
      "metadata": {
        "colab": {
          "base_uri": "https://localhost:8080/"
        },
        "id": "TbkdjpLZXBGt",
        "outputId": "81c2415e-94c2-450d-dfff-114191cc9660"
      },
      "source": [
        "data_train.shape, data_validation.shape"
      ],
      "execution_count": 4,
      "outputs": [
        {
          "output_type": "execute_result",
          "data": {
            "text/plain": [
              "((27499, 23), (2749, 23))"
            ]
          },
          "metadata": {
            "tags": []
          },
          "execution_count": 4
        }
      ]
    },
    {
      "cell_type": "code",
      "metadata": {
        "id": "OOaFxRuPWz-6"
      },
      "source": [
        "data_train = data_train.append(data_validation)"
      ],
      "execution_count": 5,
      "outputs": []
    },
    {
      "cell_type": "code",
      "metadata": {
        "colab": {
          "base_uri": "https://localhost:8080/"
        },
        "id": "AOsm_1DsW_Jj",
        "outputId": "b52ab325-30e8-4c2b-d380-7d94d5b1dff8"
      },
      "source": [
        "data_train.shape"
      ],
      "execution_count": 6,
      "outputs": [
        {
          "output_type": "execute_result",
          "data": {
            "text/plain": [
              "(30248, 23)"
            ]
          },
          "metadata": {
            "tags": []
          },
          "execution_count": 6
        }
      ]
    },
    {
      "cell_type": "code",
      "metadata": {
        "colab": {
          "base_uri": "https://localhost:8080/",
          "height": 323
        },
        "id": "0Ti5CWq95bL-",
        "outputId": "0177b4b4-30c7-4213-a0fc-551b3fc0be2d"
      },
      "source": [
        "data_train.head()"
      ],
      "execution_count": 7,
      "outputs": [
        {
          "output_type": "execute_result",
          "data": {
            "text/html": [
              "<div>\n",
              "<style scoped>\n",
              "    .dataframe tbody tr th:only-of-type {\n",
              "        vertical-align: middle;\n",
              "    }\n",
              "\n",
              "    .dataframe tbody tr th {\n",
              "        vertical-align: top;\n",
              "    }\n",
              "\n",
              "    .dataframe thead th {\n",
              "        text-align: right;\n",
              "    }\n",
              "</style>\n",
              "<table border=\"1\" class=\"dataframe\">\n",
              "  <thead>\n",
              "    <tr style=\"text-align: right;\">\n",
              "      <th></th>\n",
              "      <th>Gender</th>\n",
              "      <th>Age</th>\n",
              "      <th>Ethnicity</th>\n",
              "      <th>Educational_Level</th>\n",
              "      <th>Income</th>\n",
              "      <th>Country_region</th>\n",
              "      <th>Hotel_Type</th>\n",
              "      <th>Expected_checkin</th>\n",
              "      <th>Expected_checkout</th>\n",
              "      <th>Booking_date</th>\n",
              "      <th>Adults</th>\n",
              "      <th>Children</th>\n",
              "      <th>Babies</th>\n",
              "      <th>Meal_Type</th>\n",
              "      <th>Visted_Previously</th>\n",
              "      <th>Previous_Cancellations</th>\n",
              "      <th>Deposit_type</th>\n",
              "      <th>Booking_channel</th>\n",
              "      <th>Required_Car_Parking</th>\n",
              "      <th>Reservation_Status</th>\n",
              "      <th>Use_Promotion</th>\n",
              "      <th>Discount_Rate</th>\n",
              "      <th>Room_Rate</th>\n",
              "    </tr>\n",
              "    <tr>\n",
              "      <th>Reservation-id</th>\n",
              "      <th></th>\n",
              "      <th></th>\n",
              "      <th></th>\n",
              "      <th></th>\n",
              "      <th></th>\n",
              "      <th></th>\n",
              "      <th></th>\n",
              "      <th></th>\n",
              "      <th></th>\n",
              "      <th></th>\n",
              "      <th></th>\n",
              "      <th></th>\n",
              "      <th></th>\n",
              "      <th></th>\n",
              "      <th></th>\n",
              "      <th></th>\n",
              "      <th></th>\n",
              "      <th></th>\n",
              "      <th></th>\n",
              "      <th></th>\n",
              "      <th></th>\n",
              "      <th></th>\n",
              "      <th></th>\n",
              "    </tr>\n",
              "  </thead>\n",
              "  <tbody>\n",
              "    <tr>\n",
              "      <th>39428300</th>\n",
              "      <td>F</td>\n",
              "      <td>40</td>\n",
              "      <td>Latino</td>\n",
              "      <td>Grad</td>\n",
              "      <td>&lt;25K</td>\n",
              "      <td>North</td>\n",
              "      <td>City Hotel</td>\n",
              "      <td>7/1/2015</td>\n",
              "      <td>7/2/2015</td>\n",
              "      <td>5/21/2015</td>\n",
              "      <td>2</td>\n",
              "      <td>2</td>\n",
              "      <td>0</td>\n",
              "      <td>BB</td>\n",
              "      <td>No</td>\n",
              "      <td>No</td>\n",
              "      <td>No Deposit</td>\n",
              "      <td>Online</td>\n",
              "      <td>Yes</td>\n",
              "      <td>Check-In</td>\n",
              "      <td>Yes</td>\n",
              "      <td>10</td>\n",
              "      <td>218</td>\n",
              "    </tr>\n",
              "    <tr>\n",
              "      <th>77491756</th>\n",
              "      <td>F</td>\n",
              "      <td>49</td>\n",
              "      <td>Latino</td>\n",
              "      <td>Mid-School</td>\n",
              "      <td>50K -- 100K</td>\n",
              "      <td>East</td>\n",
              "      <td>City Hotel</td>\n",
              "      <td>7/1/2015</td>\n",
              "      <td>7/2/2015</td>\n",
              "      <td>5/26/2015</td>\n",
              "      <td>3</td>\n",
              "      <td>3</td>\n",
              "      <td>0</td>\n",
              "      <td>BB</td>\n",
              "      <td>No</td>\n",
              "      <td>No</td>\n",
              "      <td>Refundable</td>\n",
              "      <td>Online</td>\n",
              "      <td>Yes</td>\n",
              "      <td>Check-In</td>\n",
              "      <td>No</td>\n",
              "      <td>0</td>\n",
              "      <td>185</td>\n",
              "    </tr>\n",
              "    <tr>\n",
              "      <th>73747291</th>\n",
              "      <td>F</td>\n",
              "      <td>42</td>\n",
              "      <td>caucasian</td>\n",
              "      <td>Grad</td>\n",
              "      <td>&lt;25K</td>\n",
              "      <td>East</td>\n",
              "      <td>City Hotel</td>\n",
              "      <td>7/2/2015</td>\n",
              "      <td>7/6/2015</td>\n",
              "      <td>6/29/2015</td>\n",
              "      <td>3</td>\n",
              "      <td>3</td>\n",
              "      <td>0</td>\n",
              "      <td>BB</td>\n",
              "      <td>No</td>\n",
              "      <td>No</td>\n",
              "      <td>No Deposit</td>\n",
              "      <td>Online</td>\n",
              "      <td>Yes</td>\n",
              "      <td>Check-In</td>\n",
              "      <td>No</td>\n",
              "      <td>0</td>\n",
              "      <td>119</td>\n",
              "    </tr>\n",
              "    <tr>\n",
              "      <th>67301739</th>\n",
              "      <td>M</td>\n",
              "      <td>25</td>\n",
              "      <td>African American</td>\n",
              "      <td>College</td>\n",
              "      <td>&gt;100K</td>\n",
              "      <td>South</td>\n",
              "      <td>Airport Hotels</td>\n",
              "      <td>7/2/2015</td>\n",
              "      <td>7/3/2015</td>\n",
              "      <td>6/20/2015</td>\n",
              "      <td>4</td>\n",
              "      <td>3</td>\n",
              "      <td>0</td>\n",
              "      <td>BB</td>\n",
              "      <td>No</td>\n",
              "      <td>No</td>\n",
              "      <td>Refundable</td>\n",
              "      <td>Agent</td>\n",
              "      <td>Yes</td>\n",
              "      <td>Check-In</td>\n",
              "      <td>Yes</td>\n",
              "      <td>5</td>\n",
              "      <td>144</td>\n",
              "    </tr>\n",
              "    <tr>\n",
              "      <th>77222321</th>\n",
              "      <td>F</td>\n",
              "      <td>62</td>\n",
              "      <td>Latino</td>\n",
              "      <td>High-School</td>\n",
              "      <td>25K --50K</td>\n",
              "      <td>East</td>\n",
              "      <td>Resort</td>\n",
              "      <td>7/3/2015</td>\n",
              "      <td>7/4/2015</td>\n",
              "      <td>6/20/2015</td>\n",
              "      <td>1</td>\n",
              "      <td>1</td>\n",
              "      <td>0</td>\n",
              "      <td>BB</td>\n",
              "      <td>No</td>\n",
              "      <td>No</td>\n",
              "      <td>No Deposit</td>\n",
              "      <td>Direct</td>\n",
              "      <td>No</td>\n",
              "      <td>Check-In</td>\n",
              "      <td>Yes</td>\n",
              "      <td>10</td>\n",
              "      <td>242</td>\n",
              "    </tr>\n",
              "  </tbody>\n",
              "</table>\n",
              "</div>"
            ],
            "text/plain": [
              "               Gender  Age  ... Discount_Rate Room_Rate\n",
              "Reservation-id              ...                        \n",
              "39428300            F   40  ...            10       218\n",
              "77491756            F   49  ...             0       185\n",
              "73747291            F   42  ...             0       119\n",
              "67301739            M   25  ...             5       144\n",
              "77222321            F   62  ...            10       242\n",
              "\n",
              "[5 rows x 23 columns]"
            ]
          },
          "metadata": {
            "tags": []
          },
          "execution_count": 7
        }
      ]
    },
    {
      "cell_type": "code",
      "metadata": {
        "colab": {
          "base_uri": "https://localhost:8080/"
        },
        "id": "TW1eoGh95dyq",
        "outputId": "88464d0e-cf85-47ef-ba62-d8545c35a2a7"
      },
      "source": [
        "data_train.dtypes"
      ],
      "execution_count": 8,
      "outputs": [
        {
          "output_type": "execute_result",
          "data": {
            "text/plain": [
              "Gender                    object\n",
              "Age                        int64\n",
              "Ethnicity                 object\n",
              "Educational_Level         object\n",
              "Income                    object\n",
              "Country_region            object\n",
              "Hotel_Type                object\n",
              "Expected_checkin          object\n",
              "Expected_checkout         object\n",
              "Booking_date              object\n",
              "Adults                     int64\n",
              "Children                   int64\n",
              "Babies                     int64\n",
              "Meal_Type                 object\n",
              "Visted_Previously         object\n",
              "Previous_Cancellations    object\n",
              "Deposit_type              object\n",
              "Booking_channel           object\n",
              "Required_Car_Parking      object\n",
              "Reservation_Status        object\n",
              "Use_Promotion             object\n",
              "Discount_Rate              int64\n",
              "Room_Rate                  int64\n",
              "dtype: object"
            ]
          },
          "metadata": {
            "tags": []
          },
          "execution_count": 8
        }
      ]
    },
    {
      "cell_type": "code",
      "metadata": {
        "colab": {
          "base_uri": "https://localhost:8080/",
          "height": 297
        },
        "id": "LoJg0hwu5l-V",
        "outputId": "418fc268-31c1-4bc1-fb0c-cdba07bdda42"
      },
      "source": [
        "data_train.describe()"
      ],
      "execution_count": 9,
      "outputs": [
        {
          "output_type": "execute_result",
          "data": {
            "text/html": [
              "<div>\n",
              "<style scoped>\n",
              "    .dataframe tbody tr th:only-of-type {\n",
              "        vertical-align: middle;\n",
              "    }\n",
              "\n",
              "    .dataframe tbody tr th {\n",
              "        vertical-align: top;\n",
              "    }\n",
              "\n",
              "    .dataframe thead th {\n",
              "        text-align: right;\n",
              "    }\n",
              "</style>\n",
              "<table border=\"1\" class=\"dataframe\">\n",
              "  <thead>\n",
              "    <tr style=\"text-align: right;\">\n",
              "      <th></th>\n",
              "      <th>Age</th>\n",
              "      <th>Adults</th>\n",
              "      <th>Children</th>\n",
              "      <th>Babies</th>\n",
              "      <th>Discount_Rate</th>\n",
              "      <th>Room_Rate</th>\n",
              "    </tr>\n",
              "  </thead>\n",
              "  <tbody>\n",
              "    <tr>\n",
              "      <th>count</th>\n",
              "      <td>30248.000000</td>\n",
              "      <td>30248.000000</td>\n",
              "      <td>30248.000000</td>\n",
              "      <td>30248.000000</td>\n",
              "      <td>30248.000000</td>\n",
              "      <td>30248.000000</td>\n",
              "    </tr>\n",
              "    <tr>\n",
              "      <th>mean</th>\n",
              "      <td>43.997388</td>\n",
              "      <td>2.333873</td>\n",
              "      <td>1.743586</td>\n",
              "      <td>0.349940</td>\n",
              "      <td>12.494214</td>\n",
              "      <td>175.009786</td>\n",
              "    </tr>\n",
              "    <tr>\n",
              "      <th>std</th>\n",
              "      <td>15.294786</td>\n",
              "      <td>1.177353</td>\n",
              "      <td>0.722228</td>\n",
              "      <td>0.572767</td>\n",
              "      <td>11.202236</td>\n",
              "      <td>43.878472</td>\n",
              "    </tr>\n",
              "    <tr>\n",
              "      <th>min</th>\n",
              "      <td>18.000000</td>\n",
              "      <td>1.000000</td>\n",
              "      <td>1.000000</td>\n",
              "      <td>0.000000</td>\n",
              "      <td>0.000000</td>\n",
              "      <td>100.000000</td>\n",
              "    </tr>\n",
              "    <tr>\n",
              "      <th>25%</th>\n",
              "      <td>31.000000</td>\n",
              "      <td>2.000000</td>\n",
              "      <td>1.000000</td>\n",
              "      <td>0.000000</td>\n",
              "      <td>5.000000</td>\n",
              "      <td>137.000000</td>\n",
              "    </tr>\n",
              "    <tr>\n",
              "      <th>50%</th>\n",
              "      <td>44.000000</td>\n",
              "      <td>2.000000</td>\n",
              "      <td>2.000000</td>\n",
              "      <td>0.000000</td>\n",
              "      <td>10.000000</td>\n",
              "      <td>174.000000</td>\n",
              "    </tr>\n",
              "    <tr>\n",
              "      <th>75%</th>\n",
              "      <td>57.000000</td>\n",
              "      <td>3.000000</td>\n",
              "      <td>2.000000</td>\n",
              "      <td>1.000000</td>\n",
              "      <td>20.000000</td>\n",
              "      <td>214.000000</td>\n",
              "    </tr>\n",
              "    <tr>\n",
              "      <th>max</th>\n",
              "      <td>70.000000</td>\n",
              "      <td>5.000000</td>\n",
              "      <td>3.000000</td>\n",
              "      <td>2.000000</td>\n",
              "      <td>40.000000</td>\n",
              "      <td>250.000000</td>\n",
              "    </tr>\n",
              "  </tbody>\n",
              "</table>\n",
              "</div>"
            ],
            "text/plain": [
              "                Age        Adults  ...  Discount_Rate     Room_Rate\n",
              "count  30248.000000  30248.000000  ...   30248.000000  30248.000000\n",
              "mean      43.997388      2.333873  ...      12.494214    175.009786\n",
              "std       15.294786      1.177353  ...      11.202236     43.878472\n",
              "min       18.000000      1.000000  ...       0.000000    100.000000\n",
              "25%       31.000000      2.000000  ...       5.000000    137.000000\n",
              "50%       44.000000      2.000000  ...      10.000000    174.000000\n",
              "75%       57.000000      3.000000  ...      20.000000    214.000000\n",
              "max       70.000000      5.000000  ...      40.000000    250.000000\n",
              "\n",
              "[8 rows x 6 columns]"
            ]
          },
          "metadata": {
            "tags": []
          },
          "execution_count": 9
        }
      ]
    },
    {
      "cell_type": "code",
      "metadata": {
        "colab": {
          "base_uri": "https://localhost:8080/"
        },
        "id": "QuslQMih5rUV",
        "outputId": "09529554-cdd4-461e-c4fd-3b07295565ac"
      },
      "source": [
        "data_train.isnull().sum()"
      ],
      "execution_count": 10,
      "outputs": [
        {
          "output_type": "execute_result",
          "data": {
            "text/plain": [
              "Gender                    0\n",
              "Age                       0\n",
              "Ethnicity                 0\n",
              "Educational_Level         0\n",
              "Income                    0\n",
              "Country_region            0\n",
              "Hotel_Type                0\n",
              "Expected_checkin          0\n",
              "Expected_checkout         0\n",
              "Booking_date              0\n",
              "Adults                    0\n",
              "Children                  0\n",
              "Babies                    0\n",
              "Meal_Type                 0\n",
              "Visted_Previously         0\n",
              "Previous_Cancellations    0\n",
              "Deposit_type              0\n",
              "Booking_channel           0\n",
              "Required_Car_Parking      0\n",
              "Reservation_Status        0\n",
              "Use_Promotion             0\n",
              "Discount_Rate             0\n",
              "Room_Rate                 0\n",
              "dtype: int64"
            ]
          },
          "metadata": {
            "tags": []
          },
          "execution_count": 10
        }
      ]
    },
    {
      "cell_type": "code",
      "metadata": {
        "colab": {
          "base_uri": "https://localhost:8080/"
        },
        "id": "zJqpP5aT509k",
        "outputId": "a22c04b3-3324-46bb-8144-de894c8279f3"
      },
      "source": [
        "data_train.columns"
      ],
      "execution_count": 11,
      "outputs": [
        {
          "output_type": "execute_result",
          "data": {
            "text/plain": [
              "Index(['Gender', 'Age', 'Ethnicity', 'Educational_Level', 'Income',\n",
              "       'Country_region', 'Hotel_Type', 'Expected_checkin', 'Expected_checkout',\n",
              "       'Booking_date', 'Adults', 'Children', 'Babies', 'Meal_Type',\n",
              "       'Visted_Previously', 'Previous_Cancellations', 'Deposit_type',\n",
              "       'Booking_channel', 'Required_Car_Parking', 'Reservation_Status',\n",
              "       'Use_Promotion', 'Discount_Rate', 'Room_Rate'],\n",
              "      dtype='object')"
            ]
          },
          "metadata": {
            "tags": []
          },
          "execution_count": 11
        }
      ]
    },
    {
      "cell_type": "code",
      "metadata": {
        "id": "hDRZTjxYPK_X"
      },
      "source": [
        "object_cols = ['Gender', 'Ethnicity', 'Educational_Level',\n",
        "       'Income', 'Country_region', 'Hotel_Type', \n",
        "       'Meal_Type', 'Visted_Previously', 'Previous_Cancellations',\n",
        "       'Deposit_type', 'Booking_channel', 'Required_Car_Parking',\n",
        "       'Reservation_Status', 'Use_Promotion']\n",
        "# these columns need to be onehot encode or vectorise\n",
        "\n",
        "dates = ['Expected_checkin', 'Expected_checkout', 'Booking_date'] #need to feature engineer"
      ],
      "execution_count": 12,
      "outputs": []
    },
    {
      "cell_type": "code",
      "metadata": {
        "colab": {
          "base_uri": "https://localhost:8080/"
        },
        "id": "EoCt8iKjRSKj",
        "outputId": "16f48039-565d-4755-9306-41619c971a65"
      },
      "source": [
        "for col in object_cols:\n",
        "  print(col, pd.unique(data_train[col]))"
      ],
      "execution_count": 13,
      "outputs": [
        {
          "output_type": "stream",
          "text": [
            "Gender ['F' 'M']\n",
            "Ethnicity ['Latino' 'caucasian' 'African American' 'Asian American']\n",
            "Educational_Level ['Grad' 'Mid-School' 'College' 'High-School']\n",
            "Income ['<25K' '50K -- 100K' '>100K' '25K --50K']\n",
            "Country_region ['North' 'East' 'South' 'West']\n",
            "Hotel_Type ['City Hotel' 'Airport Hotels' 'Resort']\n",
            "Meal_Type ['BB' 'FB' 'HB']\n",
            "Visted_Previously ['No' 'Yes']\n",
            "Previous_Cancellations ['No' 'Yes']\n",
            "Deposit_type ['No Deposit' 'Refundable' 'Non-Refundable']\n",
            "Booking_channel ['Online' 'Agent' 'Direct']\n",
            "Required_Car_Parking ['Yes' 'No']\n",
            "Reservation_Status ['Check-In' 'Canceled' 'No-Show']\n",
            "Use_Promotion ['Yes' 'No']\n"
          ],
          "name": "stdout"
        }
      ]
    },
    {
      "cell_type": "code",
      "metadata": {
        "id": "PD6_IuQbPxoJ"
      },
      "source": [
        "one_hot_encoded_lst = ['Ethnicity', 'Educational_Level',\n",
        "       'Income', 'Country_region', 'Hotel_Type', \n",
        "       'Meal_Type', 'Deposit_type', 'Booking_channel'] "
      ],
      "execution_count": 14,
      "outputs": []
    },
    {
      "cell_type": "code",
      "metadata": {
        "id": "5KDI3sWjP_pc"
      },
      "source": [
        "data_train = pd.get_dummies(data_train, columns=one_hot_encoded_lst)"
      ],
      "execution_count": 15,
      "outputs": []
    },
    {
      "cell_type": "code",
      "metadata": {
        "colab": {
          "base_uri": "https://localhost:8080/"
        },
        "id": "mgfsct9kQSN2",
        "outputId": "23d0a0ef-5294-40eb-bc54-ef11d0c6ab5b"
      },
      "source": [
        "data_train.columns"
      ],
      "execution_count": 16,
      "outputs": [
        {
          "output_type": "execute_result",
          "data": {
            "text/plain": [
              "Index(['Gender', 'Age', 'Expected_checkin', 'Expected_checkout',\n",
              "       'Booking_date', 'Adults', 'Children', 'Babies', 'Visted_Previously',\n",
              "       'Previous_Cancellations', 'Required_Car_Parking', 'Reservation_Status',\n",
              "       'Use_Promotion', 'Discount_Rate', 'Room_Rate',\n",
              "       'Ethnicity_African American', 'Ethnicity_Asian American',\n",
              "       'Ethnicity_Latino', 'Ethnicity_caucasian', 'Educational_Level_College',\n",
              "       'Educational_Level_Grad', 'Educational_Level_High-School',\n",
              "       'Educational_Level_Mid-School', 'Income_25K --50K',\n",
              "       'Income_50K -- 100K', 'Income_<25K', 'Income_>100K',\n",
              "       'Country_region_East', 'Country_region_North', 'Country_region_South',\n",
              "       'Country_region_West', 'Hotel_Type_Airport Hotels',\n",
              "       'Hotel_Type_City Hotel', 'Hotel_Type_Resort', 'Meal_Type_BB',\n",
              "       'Meal_Type_FB', 'Meal_Type_HB', 'Deposit_type_No Deposit',\n",
              "       'Deposit_type_Non-Refundable', 'Deposit_type_Refundable',\n",
              "       'Booking_channel_Agent', 'Booking_channel_Direct',\n",
              "       'Booking_channel_Online'],\n",
              "      dtype='object')"
            ]
          },
          "metadata": {
            "tags": []
          },
          "execution_count": 16
        }
      ]
    },
    {
      "cell_type": "code",
      "metadata": {
        "id": "sT5r3z--Qoeq"
      },
      "source": [
        "data_train['Gender'] = data_train['Gender'].map({'F':0, 'M':1})\n",
        "data_train['Visted_Previously'] = data_train['Visted_Previously'].map({'No':0, 'Yes':1})\n",
        "data_train['Previous_Cancellations'] = data_train['Previous_Cancellations'].map({'No':0, 'Yes':1})\n",
        "data_train['Required_Car_Parking'] = data_train['Required_Car_Parking'].map({'Yes':1, 'No':0})\n",
        "data_train['Use_Promotion'] = data_train['Use_Promotion'].map({'Yes':1, 'No':0})\n",
        "# data_train['Reservation_Status'] = data_train['Reservation_Status'].map({'Check-In':1, 'Canceled':2, 'No-Show':3})\n",
        "data_train['Reservation_Status'] = data_train['Reservation_Status'].map({'Check-In':0, 'Canceled':1, 'No-Show':2})"
      ],
      "execution_count": 17,
      "outputs": []
    },
    {
      "cell_type": "code",
      "metadata": {
        "colab": {
          "base_uri": "https://localhost:8080/"
        },
        "id": "b0G3jFOsBbfo",
        "outputId": "cc7d8d1f-846c-42a9-dfc1-b0a564903109"
      },
      "source": [
        "checkin, canceled, noshow = np.bincount(data_train['Reservation_Status'])\n",
        "total = checkin + canceled + noshow\n",
        "print('Examples:\\n    Total: {}\\n    Check-In: {} ({:.2f}% of total)\\n    Canceled: {} ({:.2f}% of total)\\n     No-Show: {} ({:.2f}% of total)\\n'.format(\n",
        "    total, checkin, 100 * checkin / total, canceled, 100 * canceled / total, noshow, 100 * noshow / total))"
      ],
      "execution_count": 18,
      "outputs": [
        {
          "output_type": "stream",
          "text": [
            "Examples:\n",
            "    Total: 30248\n",
            "    Check-In: 22850 (75.54% of total)\n",
            "    Canceled: 4875 (16.12% of total)\n",
            "     No-Show: 2523 (8.34% of total)\n",
            "\n"
          ],
          "name": "stdout"
        }
      ]
    },
    {
      "cell_type": "code",
      "metadata": {
        "id": "LsZBqlQTvp52"
      },
      "source": [
        "data_train[dates[0]] = pd.to_datetime(data_train[dates[0]])\n",
        "data_train[dates[1]] = pd.to_datetime(data_train[dates[1]])\n",
        "data_train[dates[2]] = pd.to_datetime(data_train[dates[2]])"
      ],
      "execution_count": 19,
      "outputs": []
    },
    {
      "cell_type": "code",
      "metadata": {
        "colab": {
          "base_uri": "https://localhost:8080/"
        },
        "id": "81HDzvBZv6k9",
        "outputId": "2b1e9f78-3735-41e1-a62f-0e4f01190c74"
      },
      "source": [
        "data_train['Expected_stay'] = (data_train[dates[1]] - data_train[dates[0]]).dt.days\n",
        "data_train['Expected_stay'].unique()"
      ],
      "execution_count": 20,
      "outputs": [
        {
          "output_type": "execute_result",
          "data": {
            "text/plain": [
              "array([1, 4, 3, 2])"
            ]
          },
          "metadata": {
            "tags": []
          },
          "execution_count": 20
        }
      ]
    },
    {
      "cell_type": "code",
      "metadata": {
        "id": "pcn8CZ2Iwaz0"
      },
      "source": [
        "data_train['Booking_to_checkingin'] = (data_train[dates[0]] - data_train[dates[2]]).dt.days"
      ],
      "execution_count": 21,
      "outputs": []
    },
    {
      "cell_type": "code",
      "metadata": {
        "id": "e0BMkLxYx88v"
      },
      "source": [
        "data_train['Month_of_stay'] = data_train[dates[0]].dt.month"
      ],
      "execution_count": 22,
      "outputs": []
    },
    {
      "cell_type": "code",
      "metadata": {
        "id": "NCKPOPzBwwGX"
      },
      "source": [
        "weekdayin = data_train[dates[0]].dt.dayofweek\n",
        "weekdayout = data_train[dates[1]].dt.dayofweek\n",
        "from pandas import DataFrame\n",
        "\n",
        "fina = []\n",
        "for x,y in zip(weekdayin, weekdayout):\n",
        "  t = []\n",
        "  if y >= x:\n",
        "    for i in range(x, y + 1):\n",
        "      t.append(i)\n",
        "    if 5 in t or 6 in t:\n",
        "      fina.append(1)\n",
        "    else:\n",
        "      fina.append(0)\n",
        "  else:\n",
        "    for i in range(x, 7):\n",
        "      t.append(i)\n",
        "    for j in range(0, y + 1):\n",
        "      t.append(i)\n",
        "    if 5 in t or 6 in t:\n",
        "      fina.append(1)\n",
        "    else:\n",
        "      fina.append(0)\n",
        "data_train['weekend_stay'] = DataFrame(fina,columns=['weekend_stay'])['weekend_stay'].values"
      ],
      "execution_count": 23,
      "outputs": []
    },
    {
      "cell_type": "code",
      "metadata": {
        "colab": {
          "base_uri": "https://localhost:8080/"
        },
        "id": "kK1DBaKFrbP-",
        "outputId": "17ca0434-0959-4636-9036-d7614b56731d"
      },
      "source": [
        "data_train['Actual_cost'] = data_train['Expected_stay'] * (data_train['Room_Rate']*(100 - data_train['Discount_Rate']))\n",
        "data_train['Actual_cost'].head()"
      ],
      "execution_count": 24,
      "outputs": [
        {
          "output_type": "execute_result",
          "data": {
            "text/plain": [
              "Reservation-id\n",
              "39428300    19620\n",
              "77491756    18500\n",
              "73747291    47600\n",
              "67301739    13680\n",
              "77222321    21780\n",
              "Name: Actual_cost, dtype: int64"
            ]
          },
          "metadata": {
            "tags": []
          },
          "execution_count": 24
        }
      ]
    },
    {
      "cell_type": "code",
      "metadata": {
        "colab": {
          "base_uri": "https://localhost:8080/"
        },
        "id": "f-STqpPwyET0",
        "outputId": "7bc9cbaf-bcf1-471e-ff0f-61013c84fabc"
      },
      "source": [
        "data_train.isnull().sum()"
      ],
      "execution_count": 25,
      "outputs": [
        {
          "output_type": "execute_result",
          "data": {
            "text/plain": [
              "Gender                           0\n",
              "Age                              0\n",
              "Expected_checkin                 0\n",
              "Expected_checkout                0\n",
              "Booking_date                     0\n",
              "Adults                           0\n",
              "Children                         0\n",
              "Babies                           0\n",
              "Visted_Previously                0\n",
              "Previous_Cancellations           0\n",
              "Required_Car_Parking             0\n",
              "Reservation_Status               0\n",
              "Use_Promotion                    0\n",
              "Discount_Rate                    0\n",
              "Room_Rate                        0\n",
              "Ethnicity_African American       0\n",
              "Ethnicity_Asian American         0\n",
              "Ethnicity_Latino                 0\n",
              "Ethnicity_caucasian              0\n",
              "Educational_Level_College        0\n",
              "Educational_Level_Grad           0\n",
              "Educational_Level_High-School    0\n",
              "Educational_Level_Mid-School     0\n",
              "Income_25K --50K                 0\n",
              "Income_50K -- 100K               0\n",
              "Income_<25K                      0\n",
              "Income_>100K                     0\n",
              "Country_region_East              0\n",
              "Country_region_North             0\n",
              "Country_region_South             0\n",
              "Country_region_West              0\n",
              "Hotel_Type_Airport Hotels        0\n",
              "Hotel_Type_City Hotel            0\n",
              "Hotel_Type_Resort                0\n",
              "Meal_Type_BB                     0\n",
              "Meal_Type_FB                     0\n",
              "Meal_Type_HB                     0\n",
              "Deposit_type_No Deposit          0\n",
              "Deposit_type_Non-Refundable      0\n",
              "Deposit_type_Refundable          0\n",
              "Booking_channel_Agent            0\n",
              "Booking_channel_Direct           0\n",
              "Booking_channel_Online           0\n",
              "Expected_stay                    0\n",
              "Booking_to_checkingin            0\n",
              "Month_of_stay                    0\n",
              "weekend_stay                     0\n",
              "Actual_cost                      0\n",
              "dtype: int64"
            ]
          },
          "metadata": {
            "tags": []
          },
          "execution_count": 25
        }
      ]
    },
    {
      "cell_type": "code",
      "metadata": {
        "colab": {
          "base_uri": "https://localhost:8080/",
          "height": 289
        },
        "id": "GoRHUhOOS8fq",
        "outputId": "fb7dba88-9e69-4b92-eb51-dca0f11684fa"
      },
      "source": [
        "data_train.head()"
      ],
      "execution_count": 26,
      "outputs": [
        {
          "output_type": "execute_result",
          "data": {
            "text/html": [
              "<div>\n",
              "<style scoped>\n",
              "    .dataframe tbody tr th:only-of-type {\n",
              "        vertical-align: middle;\n",
              "    }\n",
              "\n",
              "    .dataframe tbody tr th {\n",
              "        vertical-align: top;\n",
              "    }\n",
              "\n",
              "    .dataframe thead th {\n",
              "        text-align: right;\n",
              "    }\n",
              "</style>\n",
              "<table border=\"1\" class=\"dataframe\">\n",
              "  <thead>\n",
              "    <tr style=\"text-align: right;\">\n",
              "      <th></th>\n",
              "      <th>Gender</th>\n",
              "      <th>Age</th>\n",
              "      <th>Expected_checkin</th>\n",
              "      <th>Expected_checkout</th>\n",
              "      <th>Booking_date</th>\n",
              "      <th>Adults</th>\n",
              "      <th>Children</th>\n",
              "      <th>Babies</th>\n",
              "      <th>Visted_Previously</th>\n",
              "      <th>Previous_Cancellations</th>\n",
              "      <th>Required_Car_Parking</th>\n",
              "      <th>Reservation_Status</th>\n",
              "      <th>Use_Promotion</th>\n",
              "      <th>Discount_Rate</th>\n",
              "      <th>Room_Rate</th>\n",
              "      <th>Ethnicity_African American</th>\n",
              "      <th>Ethnicity_Asian American</th>\n",
              "      <th>Ethnicity_Latino</th>\n",
              "      <th>Ethnicity_caucasian</th>\n",
              "      <th>Educational_Level_College</th>\n",
              "      <th>Educational_Level_Grad</th>\n",
              "      <th>Educational_Level_High-School</th>\n",
              "      <th>Educational_Level_Mid-School</th>\n",
              "      <th>Income_25K --50K</th>\n",
              "      <th>Income_50K -- 100K</th>\n",
              "      <th>Income_&lt;25K</th>\n",
              "      <th>Income_&gt;100K</th>\n",
              "      <th>Country_region_East</th>\n",
              "      <th>Country_region_North</th>\n",
              "      <th>Country_region_South</th>\n",
              "      <th>Country_region_West</th>\n",
              "      <th>Hotel_Type_Airport Hotels</th>\n",
              "      <th>Hotel_Type_City Hotel</th>\n",
              "      <th>Hotel_Type_Resort</th>\n",
              "      <th>Meal_Type_BB</th>\n",
              "      <th>Meal_Type_FB</th>\n",
              "      <th>Meal_Type_HB</th>\n",
              "      <th>Deposit_type_No Deposit</th>\n",
              "      <th>Deposit_type_Non-Refundable</th>\n",
              "      <th>Deposit_type_Refundable</th>\n",
              "      <th>Booking_channel_Agent</th>\n",
              "      <th>Booking_channel_Direct</th>\n",
              "      <th>Booking_channel_Online</th>\n",
              "      <th>Expected_stay</th>\n",
              "      <th>Booking_to_checkingin</th>\n",
              "      <th>Month_of_stay</th>\n",
              "      <th>weekend_stay</th>\n",
              "      <th>Actual_cost</th>\n",
              "    </tr>\n",
              "    <tr>\n",
              "      <th>Reservation-id</th>\n",
              "      <th></th>\n",
              "      <th></th>\n",
              "      <th></th>\n",
              "      <th></th>\n",
              "      <th></th>\n",
              "      <th></th>\n",
              "      <th></th>\n",
              "      <th></th>\n",
              "      <th></th>\n",
              "      <th></th>\n",
              "      <th></th>\n",
              "      <th></th>\n",
              "      <th></th>\n",
              "      <th></th>\n",
              "      <th></th>\n",
              "      <th></th>\n",
              "      <th></th>\n",
              "      <th></th>\n",
              "      <th></th>\n",
              "      <th></th>\n",
              "      <th></th>\n",
              "      <th></th>\n",
              "      <th></th>\n",
              "      <th></th>\n",
              "      <th></th>\n",
              "      <th></th>\n",
              "      <th></th>\n",
              "      <th></th>\n",
              "      <th></th>\n",
              "      <th></th>\n",
              "      <th></th>\n",
              "      <th></th>\n",
              "      <th></th>\n",
              "      <th></th>\n",
              "      <th></th>\n",
              "      <th></th>\n",
              "      <th></th>\n",
              "      <th></th>\n",
              "      <th></th>\n",
              "      <th></th>\n",
              "      <th></th>\n",
              "      <th></th>\n",
              "      <th></th>\n",
              "      <th></th>\n",
              "      <th></th>\n",
              "      <th></th>\n",
              "      <th></th>\n",
              "      <th></th>\n",
              "    </tr>\n",
              "  </thead>\n",
              "  <tbody>\n",
              "    <tr>\n",
              "      <th>39428300</th>\n",
              "      <td>0</td>\n",
              "      <td>40</td>\n",
              "      <td>2015-07-01</td>\n",
              "      <td>2015-07-02</td>\n",
              "      <td>2015-05-21</td>\n",
              "      <td>2</td>\n",
              "      <td>2</td>\n",
              "      <td>0</td>\n",
              "      <td>0</td>\n",
              "      <td>0</td>\n",
              "      <td>1</td>\n",
              "      <td>0</td>\n",
              "      <td>1</td>\n",
              "      <td>10</td>\n",
              "      <td>218</td>\n",
              "      <td>0</td>\n",
              "      <td>0</td>\n",
              "      <td>1</td>\n",
              "      <td>0</td>\n",
              "      <td>0</td>\n",
              "      <td>1</td>\n",
              "      <td>0</td>\n",
              "      <td>0</td>\n",
              "      <td>0</td>\n",
              "      <td>0</td>\n",
              "      <td>1</td>\n",
              "      <td>0</td>\n",
              "      <td>0</td>\n",
              "      <td>1</td>\n",
              "      <td>0</td>\n",
              "      <td>0</td>\n",
              "      <td>0</td>\n",
              "      <td>1</td>\n",
              "      <td>0</td>\n",
              "      <td>1</td>\n",
              "      <td>0</td>\n",
              "      <td>0</td>\n",
              "      <td>1</td>\n",
              "      <td>0</td>\n",
              "      <td>0</td>\n",
              "      <td>0</td>\n",
              "      <td>0</td>\n",
              "      <td>1</td>\n",
              "      <td>1</td>\n",
              "      <td>41</td>\n",
              "      <td>7</td>\n",
              "      <td>0</td>\n",
              "      <td>19620</td>\n",
              "    </tr>\n",
              "    <tr>\n",
              "      <th>77491756</th>\n",
              "      <td>0</td>\n",
              "      <td>49</td>\n",
              "      <td>2015-07-01</td>\n",
              "      <td>2015-07-02</td>\n",
              "      <td>2015-05-26</td>\n",
              "      <td>3</td>\n",
              "      <td>3</td>\n",
              "      <td>0</td>\n",
              "      <td>0</td>\n",
              "      <td>0</td>\n",
              "      <td>1</td>\n",
              "      <td>0</td>\n",
              "      <td>0</td>\n",
              "      <td>0</td>\n",
              "      <td>185</td>\n",
              "      <td>0</td>\n",
              "      <td>0</td>\n",
              "      <td>1</td>\n",
              "      <td>0</td>\n",
              "      <td>0</td>\n",
              "      <td>0</td>\n",
              "      <td>0</td>\n",
              "      <td>1</td>\n",
              "      <td>0</td>\n",
              "      <td>1</td>\n",
              "      <td>0</td>\n",
              "      <td>0</td>\n",
              "      <td>1</td>\n",
              "      <td>0</td>\n",
              "      <td>0</td>\n",
              "      <td>0</td>\n",
              "      <td>0</td>\n",
              "      <td>1</td>\n",
              "      <td>0</td>\n",
              "      <td>1</td>\n",
              "      <td>0</td>\n",
              "      <td>0</td>\n",
              "      <td>0</td>\n",
              "      <td>0</td>\n",
              "      <td>1</td>\n",
              "      <td>0</td>\n",
              "      <td>0</td>\n",
              "      <td>1</td>\n",
              "      <td>1</td>\n",
              "      <td>36</td>\n",
              "      <td>7</td>\n",
              "      <td>0</td>\n",
              "      <td>18500</td>\n",
              "    </tr>\n",
              "    <tr>\n",
              "      <th>73747291</th>\n",
              "      <td>0</td>\n",
              "      <td>42</td>\n",
              "      <td>2015-07-02</td>\n",
              "      <td>2015-07-06</td>\n",
              "      <td>2015-06-29</td>\n",
              "      <td>3</td>\n",
              "      <td>3</td>\n",
              "      <td>0</td>\n",
              "      <td>0</td>\n",
              "      <td>0</td>\n",
              "      <td>1</td>\n",
              "      <td>0</td>\n",
              "      <td>0</td>\n",
              "      <td>0</td>\n",
              "      <td>119</td>\n",
              "      <td>0</td>\n",
              "      <td>0</td>\n",
              "      <td>0</td>\n",
              "      <td>1</td>\n",
              "      <td>0</td>\n",
              "      <td>1</td>\n",
              "      <td>0</td>\n",
              "      <td>0</td>\n",
              "      <td>0</td>\n",
              "      <td>0</td>\n",
              "      <td>1</td>\n",
              "      <td>0</td>\n",
              "      <td>1</td>\n",
              "      <td>0</td>\n",
              "      <td>0</td>\n",
              "      <td>0</td>\n",
              "      <td>0</td>\n",
              "      <td>1</td>\n",
              "      <td>0</td>\n",
              "      <td>1</td>\n",
              "      <td>0</td>\n",
              "      <td>0</td>\n",
              "      <td>1</td>\n",
              "      <td>0</td>\n",
              "      <td>0</td>\n",
              "      <td>0</td>\n",
              "      <td>0</td>\n",
              "      <td>1</td>\n",
              "      <td>4</td>\n",
              "      <td>3</td>\n",
              "      <td>7</td>\n",
              "      <td>1</td>\n",
              "      <td>47600</td>\n",
              "    </tr>\n",
              "    <tr>\n",
              "      <th>67301739</th>\n",
              "      <td>1</td>\n",
              "      <td>25</td>\n",
              "      <td>2015-07-02</td>\n",
              "      <td>2015-07-03</td>\n",
              "      <td>2015-06-20</td>\n",
              "      <td>4</td>\n",
              "      <td>3</td>\n",
              "      <td>0</td>\n",
              "      <td>0</td>\n",
              "      <td>0</td>\n",
              "      <td>1</td>\n",
              "      <td>0</td>\n",
              "      <td>1</td>\n",
              "      <td>5</td>\n",
              "      <td>144</td>\n",
              "      <td>1</td>\n",
              "      <td>0</td>\n",
              "      <td>0</td>\n",
              "      <td>0</td>\n",
              "      <td>1</td>\n",
              "      <td>0</td>\n",
              "      <td>0</td>\n",
              "      <td>0</td>\n",
              "      <td>0</td>\n",
              "      <td>0</td>\n",
              "      <td>0</td>\n",
              "      <td>1</td>\n",
              "      <td>0</td>\n",
              "      <td>0</td>\n",
              "      <td>1</td>\n",
              "      <td>0</td>\n",
              "      <td>1</td>\n",
              "      <td>0</td>\n",
              "      <td>0</td>\n",
              "      <td>1</td>\n",
              "      <td>0</td>\n",
              "      <td>0</td>\n",
              "      <td>0</td>\n",
              "      <td>0</td>\n",
              "      <td>1</td>\n",
              "      <td>1</td>\n",
              "      <td>0</td>\n",
              "      <td>0</td>\n",
              "      <td>1</td>\n",
              "      <td>12</td>\n",
              "      <td>7</td>\n",
              "      <td>0</td>\n",
              "      <td>13680</td>\n",
              "    </tr>\n",
              "    <tr>\n",
              "      <th>77222321</th>\n",
              "      <td>0</td>\n",
              "      <td>62</td>\n",
              "      <td>2015-07-03</td>\n",
              "      <td>2015-07-04</td>\n",
              "      <td>2015-06-20</td>\n",
              "      <td>1</td>\n",
              "      <td>1</td>\n",
              "      <td>0</td>\n",
              "      <td>0</td>\n",
              "      <td>0</td>\n",
              "      <td>0</td>\n",
              "      <td>0</td>\n",
              "      <td>1</td>\n",
              "      <td>10</td>\n",
              "      <td>242</td>\n",
              "      <td>0</td>\n",
              "      <td>0</td>\n",
              "      <td>1</td>\n",
              "      <td>0</td>\n",
              "      <td>0</td>\n",
              "      <td>0</td>\n",
              "      <td>1</td>\n",
              "      <td>0</td>\n",
              "      <td>1</td>\n",
              "      <td>0</td>\n",
              "      <td>0</td>\n",
              "      <td>0</td>\n",
              "      <td>1</td>\n",
              "      <td>0</td>\n",
              "      <td>0</td>\n",
              "      <td>0</td>\n",
              "      <td>0</td>\n",
              "      <td>0</td>\n",
              "      <td>1</td>\n",
              "      <td>1</td>\n",
              "      <td>0</td>\n",
              "      <td>0</td>\n",
              "      <td>1</td>\n",
              "      <td>0</td>\n",
              "      <td>0</td>\n",
              "      <td>0</td>\n",
              "      <td>1</td>\n",
              "      <td>0</td>\n",
              "      <td>1</td>\n",
              "      <td>13</td>\n",
              "      <td>7</td>\n",
              "      <td>1</td>\n",
              "      <td>21780</td>\n",
              "    </tr>\n",
              "  </tbody>\n",
              "</table>\n",
              "</div>"
            ],
            "text/plain": [
              "                Gender  Age  ... weekend_stay Actual_cost\n",
              "Reservation-id               ...                         \n",
              "39428300             0   40  ...            0       19620\n",
              "77491756             0   49  ...            0       18500\n",
              "73747291             0   42  ...            1       47600\n",
              "67301739             1   25  ...            0       13680\n",
              "77222321             0   62  ...            1       21780\n",
              "\n",
              "[5 rows x 48 columns]"
            ]
          },
          "metadata": {
            "tags": []
          },
          "execution_count": 26
        }
      ]
    },
    {
      "cell_type": "code",
      "metadata": {
        "id": "botZ8oQ7Tb3P"
      },
      "source": [
        "def find_correlation(data, threshold=0.85): #removing correlated rows > 0.85\n",
        "    corr_mat = data.corr()\n",
        "    corr_mat.loc[:, :] = np.tril(corr_mat, k=-1)\n",
        "    already_in = set()\n",
        "    result = []\n",
        "    for col in corr_mat:\n",
        "        perfect_corr = corr_mat[col][abs(corr_mat[col])> threshold].index.tolist()\n",
        "        if perfect_corr and col not in already_in:\n",
        "            already_in.update(set(perfect_corr))\n",
        "            perfect_corr.append(col)\n",
        "            result.append(perfect_corr)\n",
        "    select_nested = [f[1:] for f in result]\n",
        "    select_flat = [i for j in select_nested for i in j]\n",
        "    return select_flat"
      ],
      "execution_count": 27,
      "outputs": []
    },
    {
      "cell_type": "code",
      "metadata": {
        "colab": {
          "base_uri": "https://localhost:8080/"
        },
        "id": "_JxB9Rq_UvDX",
        "outputId": "de142995-47c3-4082-e660-9753feed3830"
      },
      "source": [
        "find_correlation(data_train)"
      ],
      "execution_count": 28,
      "outputs": [
        {
          "output_type": "execute_result",
          "data": {
            "text/plain": [
              "['Expected_stay']"
            ]
          },
          "metadata": {
            "tags": []
          },
          "execution_count": 28
        }
      ]
    },
    {
      "cell_type": "code",
      "metadata": {
        "id": "RzagNm5SXlv2"
      },
      "source": [
        " data_train = data_train.drop(dates, 1)"
      ],
      "execution_count": 29,
      "outputs": []
    },
    {
      "cell_type": "code",
      "metadata": {
        "id": "d2u3ZD_4hBBZ"
      },
      "source": [
        "from sklearn.utils import shuffle\n",
        "for _ in range(1000):\n",
        "  data_train = shuffle(data_train)"
      ],
      "execution_count": 30,
      "outputs": []
    },
    {
      "cell_type": "code",
      "metadata": {
        "id": "dORNU0hK7ygW"
      },
      "source": [
        "cleaned_df = data_train.copy()"
      ],
      "execution_count": 31,
      "outputs": []
    },
    {
      "cell_type": "code",
      "metadata": {
        "id": "7uhI36x188Ct"
      },
      "source": [
        "eps = 0.001\n",
        "cleaned_df['Log Actual_cost'] = np.log(cleaned_df.pop('Actual_cost')+eps)\n",
        "cleaned_df['Log Room_Rate'] = np.log(cleaned_df.pop('Room_Rate')+eps)"
      ],
      "execution_count": 32,
      "outputs": []
    },
    {
      "cell_type": "code",
      "metadata": {
        "colab": {
          "base_uri": "https://localhost:8080/",
          "height": 334
        },
        "id": "iKfqCmnt8-py",
        "outputId": "0aef729a-f161-4635-8df0-1311dcfcc40b"
      },
      "source": [
        "cleaned_df.describe()"
      ],
      "execution_count": 33,
      "outputs": [
        {
          "output_type": "execute_result",
          "data": {
            "text/html": [
              "<div>\n",
              "<style scoped>\n",
              "    .dataframe tbody tr th:only-of-type {\n",
              "        vertical-align: middle;\n",
              "    }\n",
              "\n",
              "    .dataframe tbody tr th {\n",
              "        vertical-align: top;\n",
              "    }\n",
              "\n",
              "    .dataframe thead th {\n",
              "        text-align: right;\n",
              "    }\n",
              "</style>\n",
              "<table border=\"1\" class=\"dataframe\">\n",
              "  <thead>\n",
              "    <tr style=\"text-align: right;\">\n",
              "      <th></th>\n",
              "      <th>Gender</th>\n",
              "      <th>Age</th>\n",
              "      <th>Adults</th>\n",
              "      <th>Children</th>\n",
              "      <th>Babies</th>\n",
              "      <th>Visted_Previously</th>\n",
              "      <th>Previous_Cancellations</th>\n",
              "      <th>Required_Car_Parking</th>\n",
              "      <th>Reservation_Status</th>\n",
              "      <th>Use_Promotion</th>\n",
              "      <th>Discount_Rate</th>\n",
              "      <th>Ethnicity_African American</th>\n",
              "      <th>Ethnicity_Asian American</th>\n",
              "      <th>Ethnicity_Latino</th>\n",
              "      <th>Ethnicity_caucasian</th>\n",
              "      <th>Educational_Level_College</th>\n",
              "      <th>Educational_Level_Grad</th>\n",
              "      <th>Educational_Level_High-School</th>\n",
              "      <th>Educational_Level_Mid-School</th>\n",
              "      <th>Income_25K --50K</th>\n",
              "      <th>Income_50K -- 100K</th>\n",
              "      <th>Income_&lt;25K</th>\n",
              "      <th>Income_&gt;100K</th>\n",
              "      <th>Country_region_East</th>\n",
              "      <th>Country_region_North</th>\n",
              "      <th>Country_region_South</th>\n",
              "      <th>Country_region_West</th>\n",
              "      <th>Hotel_Type_Airport Hotels</th>\n",
              "      <th>Hotel_Type_City Hotel</th>\n",
              "      <th>Hotel_Type_Resort</th>\n",
              "      <th>Meal_Type_BB</th>\n",
              "      <th>Meal_Type_FB</th>\n",
              "      <th>Meal_Type_HB</th>\n",
              "      <th>Deposit_type_No Deposit</th>\n",
              "      <th>Deposit_type_Non-Refundable</th>\n",
              "      <th>Deposit_type_Refundable</th>\n",
              "      <th>Booking_channel_Agent</th>\n",
              "      <th>Booking_channel_Direct</th>\n",
              "      <th>Booking_channel_Online</th>\n",
              "      <th>Expected_stay</th>\n",
              "      <th>Booking_to_checkingin</th>\n",
              "      <th>Month_of_stay</th>\n",
              "      <th>weekend_stay</th>\n",
              "      <th>Log Actual_cost</th>\n",
              "      <th>Log Room_Rate</th>\n",
              "    </tr>\n",
              "  </thead>\n",
              "  <tbody>\n",
              "    <tr>\n",
              "      <th>count</th>\n",
              "      <td>30248.000000</td>\n",
              "      <td>30248.000000</td>\n",
              "      <td>30248.000000</td>\n",
              "      <td>30248.000000</td>\n",
              "      <td>30248.000000</td>\n",
              "      <td>30248.000000</td>\n",
              "      <td>30248.000000</td>\n",
              "      <td>30248.000000</td>\n",
              "      <td>30248.000000</td>\n",
              "      <td>30248.000000</td>\n",
              "      <td>30248.000000</td>\n",
              "      <td>30248.000000</td>\n",
              "      <td>30248.000000</td>\n",
              "      <td>30248.000000</td>\n",
              "      <td>30248.000000</td>\n",
              "      <td>30248.000000</td>\n",
              "      <td>30248.000000</td>\n",
              "      <td>30248.000000</td>\n",
              "      <td>30248.000000</td>\n",
              "      <td>30248.000000</td>\n",
              "      <td>30248.000000</td>\n",
              "      <td>30248.000000</td>\n",
              "      <td>30248.000000</td>\n",
              "      <td>30248.000000</td>\n",
              "      <td>30248.000000</td>\n",
              "      <td>30248.000000</td>\n",
              "      <td>30248.000000</td>\n",
              "      <td>30248.000000</td>\n",
              "      <td>30248.000000</td>\n",
              "      <td>30248.000000</td>\n",
              "      <td>30248.000000</td>\n",
              "      <td>30248.000000</td>\n",
              "      <td>30248.000000</td>\n",
              "      <td>30248.000000</td>\n",
              "      <td>30248.000000</td>\n",
              "      <td>30248.000000</td>\n",
              "      <td>30248.000000</td>\n",
              "      <td>30248.000000</td>\n",
              "      <td>30248.000000</td>\n",
              "      <td>30248.000000</td>\n",
              "      <td>30248.000000</td>\n",
              "      <td>30248.000000</td>\n",
              "      <td>30248.000000</td>\n",
              "      <td>30248.000000</td>\n",
              "      <td>30248.000000</td>\n",
              "    </tr>\n",
              "    <tr>\n",
              "      <th>mean</th>\n",
              "      <td>0.497653</td>\n",
              "      <td>43.997388</td>\n",
              "      <td>2.333873</td>\n",
              "      <td>1.743586</td>\n",
              "      <td>0.349940</td>\n",
              "      <td>0.334336</td>\n",
              "      <td>0.113991</td>\n",
              "      <td>0.713700</td>\n",
              "      <td>0.327989</td>\n",
              "      <td>0.752281</td>\n",
              "      <td>12.494214</td>\n",
              "      <td>0.252909</td>\n",
              "      <td>0.248611</td>\n",
              "      <td>0.247653</td>\n",
              "      <td>0.250827</td>\n",
              "      <td>0.402539</td>\n",
              "      <td>0.197831</td>\n",
              "      <td>0.200145</td>\n",
              "      <td>0.199484</td>\n",
              "      <td>0.285903</td>\n",
              "      <td>0.288350</td>\n",
              "      <td>0.281804</td>\n",
              "      <td>0.143943</td>\n",
              "      <td>0.199121</td>\n",
              "      <td>0.205964</td>\n",
              "      <td>0.397051</td>\n",
              "      <td>0.197864</td>\n",
              "      <td>0.338336</td>\n",
              "      <td>0.331757</td>\n",
              "      <td>0.329906</td>\n",
              "      <td>0.500727</td>\n",
              "      <td>0.202691</td>\n",
              "      <td>0.296582</td>\n",
              "      <td>0.664077</td>\n",
              "      <td>0.082319</td>\n",
              "      <td>0.253604</td>\n",
              "      <td>0.144770</td>\n",
              "      <td>0.288482</td>\n",
              "      <td>0.566748</td>\n",
              "      <td>1.832683</td>\n",
              "      <td>109.895696</td>\n",
              "      <td>6.571079</td>\n",
              "      <td>0.516431</td>\n",
              "      <td>10.066259</td>\n",
              "      <td>5.131498</td>\n",
              "    </tr>\n",
              "    <tr>\n",
              "      <th>std</th>\n",
              "      <td>0.500003</td>\n",
              "      <td>15.294786</td>\n",
              "      <td>1.177353</td>\n",
              "      <td>0.722228</td>\n",
              "      <td>0.572767</td>\n",
              "      <td>0.471766</td>\n",
              "      <td>0.317806</td>\n",
              "      <td>0.452039</td>\n",
              "      <td>0.622291</td>\n",
              "      <td>0.431695</td>\n",
              "      <td>11.202236</td>\n",
              "      <td>0.434687</td>\n",
              "      <td>0.432215</td>\n",
              "      <td>0.431656</td>\n",
              "      <td>0.433496</td>\n",
              "      <td>0.490417</td>\n",
              "      <td>0.398371</td>\n",
              "      <td>0.400116</td>\n",
              "      <td>0.399619</td>\n",
              "      <td>0.451851</td>\n",
              "      <td>0.453002</td>\n",
              "      <td>0.449886</td>\n",
              "      <td>0.351038</td>\n",
              "      <td>0.399346</td>\n",
              "      <td>0.404411</td>\n",
              "      <td>0.489295</td>\n",
              "      <td>0.398396</td>\n",
              "      <td>0.473151</td>\n",
              "      <td>0.470852</td>\n",
              "      <td>0.470187</td>\n",
              "      <td>0.500008</td>\n",
              "      <td>0.402011</td>\n",
              "      <td>0.456758</td>\n",
              "      <td>0.472320</td>\n",
              "      <td>0.274855</td>\n",
              "      <td>0.435081</td>\n",
              "      <td>0.351875</td>\n",
              "      <td>0.453064</td>\n",
              "      <td>0.495533</td>\n",
              "      <td>0.984225</td>\n",
              "      <td>76.926047</td>\n",
              "      <td>3.336087</td>\n",
              "      <td>0.499738</td>\n",
              "      <td>0.585590</td>\n",
              "      <td>0.262621</td>\n",
              "    </tr>\n",
              "    <tr>\n",
              "      <th>min</th>\n",
              "      <td>0.000000</td>\n",
              "      <td>18.000000</td>\n",
              "      <td>1.000000</td>\n",
              "      <td>1.000000</td>\n",
              "      <td>0.000000</td>\n",
              "      <td>0.000000</td>\n",
              "      <td>0.000000</td>\n",
              "      <td>0.000000</td>\n",
              "      <td>0.000000</td>\n",
              "      <td>0.000000</td>\n",
              "      <td>0.000000</td>\n",
              "      <td>0.000000</td>\n",
              "      <td>0.000000</td>\n",
              "      <td>0.000000</td>\n",
              "      <td>0.000000</td>\n",
              "      <td>0.000000</td>\n",
              "      <td>0.000000</td>\n",
              "      <td>0.000000</td>\n",
              "      <td>0.000000</td>\n",
              "      <td>0.000000</td>\n",
              "      <td>0.000000</td>\n",
              "      <td>0.000000</td>\n",
              "      <td>0.000000</td>\n",
              "      <td>0.000000</td>\n",
              "      <td>0.000000</td>\n",
              "      <td>0.000000</td>\n",
              "      <td>0.000000</td>\n",
              "      <td>0.000000</td>\n",
              "      <td>0.000000</td>\n",
              "      <td>0.000000</td>\n",
              "      <td>0.000000</td>\n",
              "      <td>0.000000</td>\n",
              "      <td>0.000000</td>\n",
              "      <td>0.000000</td>\n",
              "      <td>0.000000</td>\n",
              "      <td>0.000000</td>\n",
              "      <td>0.000000</td>\n",
              "      <td>0.000000</td>\n",
              "      <td>0.000000</td>\n",
              "      <td>1.000000</td>\n",
              "      <td>-4.000000</td>\n",
              "      <td>1.000000</td>\n",
              "      <td>0.000000</td>\n",
              "      <td>8.699515</td>\n",
              "      <td>4.605180</td>\n",
              "    </tr>\n",
              "    <tr>\n",
              "      <th>25%</th>\n",
              "      <td>0.000000</td>\n",
              "      <td>31.000000</td>\n",
              "      <td>2.000000</td>\n",
              "      <td>1.000000</td>\n",
              "      <td>0.000000</td>\n",
              "      <td>0.000000</td>\n",
              "      <td>0.000000</td>\n",
              "      <td>0.000000</td>\n",
              "      <td>0.000000</td>\n",
              "      <td>1.000000</td>\n",
              "      <td>5.000000</td>\n",
              "      <td>0.000000</td>\n",
              "      <td>0.000000</td>\n",
              "      <td>0.000000</td>\n",
              "      <td>0.000000</td>\n",
              "      <td>0.000000</td>\n",
              "      <td>0.000000</td>\n",
              "      <td>0.000000</td>\n",
              "      <td>0.000000</td>\n",
              "      <td>0.000000</td>\n",
              "      <td>0.000000</td>\n",
              "      <td>0.000000</td>\n",
              "      <td>0.000000</td>\n",
              "      <td>0.000000</td>\n",
              "      <td>0.000000</td>\n",
              "      <td>0.000000</td>\n",
              "      <td>0.000000</td>\n",
              "      <td>0.000000</td>\n",
              "      <td>0.000000</td>\n",
              "      <td>0.000000</td>\n",
              "      <td>0.000000</td>\n",
              "      <td>0.000000</td>\n",
              "      <td>0.000000</td>\n",
              "      <td>0.000000</td>\n",
              "      <td>0.000000</td>\n",
              "      <td>0.000000</td>\n",
              "      <td>0.000000</td>\n",
              "      <td>0.000000</td>\n",
              "      <td>0.000000</td>\n",
              "      <td>1.000000</td>\n",
              "      <td>46.000000</td>\n",
              "      <td>4.000000</td>\n",
              "      <td>0.000000</td>\n",
              "      <td>9.615806</td>\n",
              "      <td>4.919988</td>\n",
              "    </tr>\n",
              "    <tr>\n",
              "      <th>50%</th>\n",
              "      <td>0.000000</td>\n",
              "      <td>44.000000</td>\n",
              "      <td>2.000000</td>\n",
              "      <td>2.000000</td>\n",
              "      <td>0.000000</td>\n",
              "      <td>0.000000</td>\n",
              "      <td>0.000000</td>\n",
              "      <td>1.000000</td>\n",
              "      <td>0.000000</td>\n",
              "      <td>1.000000</td>\n",
              "      <td>10.000000</td>\n",
              "      <td>0.000000</td>\n",
              "      <td>0.000000</td>\n",
              "      <td>0.000000</td>\n",
              "      <td>0.000000</td>\n",
              "      <td>0.000000</td>\n",
              "      <td>0.000000</td>\n",
              "      <td>0.000000</td>\n",
              "      <td>0.000000</td>\n",
              "      <td>0.000000</td>\n",
              "      <td>0.000000</td>\n",
              "      <td>0.000000</td>\n",
              "      <td>0.000000</td>\n",
              "      <td>0.000000</td>\n",
              "      <td>0.000000</td>\n",
              "      <td>0.000000</td>\n",
              "      <td>0.000000</td>\n",
              "      <td>0.000000</td>\n",
              "      <td>0.000000</td>\n",
              "      <td>0.000000</td>\n",
              "      <td>1.000000</td>\n",
              "      <td>0.000000</td>\n",
              "      <td>0.000000</td>\n",
              "      <td>1.000000</td>\n",
              "      <td>0.000000</td>\n",
              "      <td>0.000000</td>\n",
              "      <td>0.000000</td>\n",
              "      <td>0.000000</td>\n",
              "      <td>1.000000</td>\n",
              "      <td>2.000000</td>\n",
              "      <td>102.000000</td>\n",
              "      <td>7.000000</td>\n",
              "      <td>1.000000</td>\n",
              "      <td>9.985068</td>\n",
              "      <td>5.159061</td>\n",
              "    </tr>\n",
              "    <tr>\n",
              "      <th>75%</th>\n",
              "      <td>1.000000</td>\n",
              "      <td>57.000000</td>\n",
              "      <td>3.000000</td>\n",
              "      <td>2.000000</td>\n",
              "      <td>1.000000</td>\n",
              "      <td>1.000000</td>\n",
              "      <td>0.000000</td>\n",
              "      <td>1.000000</td>\n",
              "      <td>0.000000</td>\n",
              "      <td>1.000000</td>\n",
              "      <td>20.000000</td>\n",
              "      <td>1.000000</td>\n",
              "      <td>0.000000</td>\n",
              "      <td>0.000000</td>\n",
              "      <td>1.000000</td>\n",
              "      <td>1.000000</td>\n",
              "      <td>0.000000</td>\n",
              "      <td>0.000000</td>\n",
              "      <td>0.000000</td>\n",
              "      <td>1.000000</td>\n",
              "      <td>1.000000</td>\n",
              "      <td>1.000000</td>\n",
              "      <td>0.000000</td>\n",
              "      <td>0.000000</td>\n",
              "      <td>0.000000</td>\n",
              "      <td>1.000000</td>\n",
              "      <td>0.000000</td>\n",
              "      <td>1.000000</td>\n",
              "      <td>1.000000</td>\n",
              "      <td>1.000000</td>\n",
              "      <td>1.000000</td>\n",
              "      <td>0.000000</td>\n",
              "      <td>1.000000</td>\n",
              "      <td>1.000000</td>\n",
              "      <td>0.000000</td>\n",
              "      <td>1.000000</td>\n",
              "      <td>0.000000</td>\n",
              "      <td>1.000000</td>\n",
              "      <td>1.000000</td>\n",
              "      <td>2.000000</td>\n",
              "      <td>166.000000</td>\n",
              "      <td>9.000000</td>\n",
              "      <td>1.000000</td>\n",
              "      <td>10.540064</td>\n",
              "      <td>5.365981</td>\n",
              "    </tr>\n",
              "    <tr>\n",
              "      <th>max</th>\n",
              "      <td>1.000000</td>\n",
              "      <td>70.000000</td>\n",
              "      <td>5.000000</td>\n",
              "      <td>3.000000</td>\n",
              "      <td>2.000000</td>\n",
              "      <td>1.000000</td>\n",
              "      <td>1.000000</td>\n",
              "      <td>1.000000</td>\n",
              "      <td>2.000000</td>\n",
              "      <td>1.000000</td>\n",
              "      <td>40.000000</td>\n",
              "      <td>1.000000</td>\n",
              "      <td>1.000000</td>\n",
              "      <td>1.000000</td>\n",
              "      <td>1.000000</td>\n",
              "      <td>1.000000</td>\n",
              "      <td>1.000000</td>\n",
              "      <td>1.000000</td>\n",
              "      <td>1.000000</td>\n",
              "      <td>1.000000</td>\n",
              "      <td>1.000000</td>\n",
              "      <td>1.000000</td>\n",
              "      <td>1.000000</td>\n",
              "      <td>1.000000</td>\n",
              "      <td>1.000000</td>\n",
              "      <td>1.000000</td>\n",
              "      <td>1.000000</td>\n",
              "      <td>1.000000</td>\n",
              "      <td>1.000000</td>\n",
              "      <td>1.000000</td>\n",
              "      <td>1.000000</td>\n",
              "      <td>1.000000</td>\n",
              "      <td>1.000000</td>\n",
              "      <td>1.000000</td>\n",
              "      <td>1.000000</td>\n",
              "      <td>1.000000</td>\n",
              "      <td>1.000000</td>\n",
              "      <td>1.000000</td>\n",
              "      <td>1.000000</td>\n",
              "      <td>4.000000</td>\n",
              "      <td>708.000000</td>\n",
              "      <td>12.000000</td>\n",
              "      <td>1.000000</td>\n",
              "      <td>11.512925</td>\n",
              "      <td>5.521465</td>\n",
              "    </tr>\n",
              "  </tbody>\n",
              "</table>\n",
              "</div>"
            ],
            "text/plain": [
              "             Gender           Age  ...  Log Actual_cost  Log Room_Rate\n",
              "count  30248.000000  30248.000000  ...     30248.000000   30248.000000\n",
              "mean       0.497653     43.997388  ...        10.066259       5.131498\n",
              "std        0.500003     15.294786  ...         0.585590       0.262621\n",
              "min        0.000000     18.000000  ...         8.699515       4.605180\n",
              "25%        0.000000     31.000000  ...         9.615806       4.919988\n",
              "50%        0.000000     44.000000  ...         9.985068       5.159061\n",
              "75%        1.000000     57.000000  ...        10.540064       5.365981\n",
              "max        1.000000     70.000000  ...        11.512925       5.521465\n",
              "\n",
              "[8 rows x 45 columns]"
            ]
          },
          "metadata": {
            "tags": []
          },
          "execution_count": 33
        }
      ]
    },
    {
      "cell_type": "code",
      "metadata": {
        "id": "e2gwvJD8WDrp"
      },
      "source": [
        "from sklearn.model_selection import train_test_split"
      ],
      "execution_count": 34,
      "outputs": []
    },
    {
      "cell_type": "code",
      "metadata": {
        "colab": {
          "base_uri": "https://localhost:8080/"
        },
        "id": "jPEigmH39PNt",
        "outputId": "56e65f19-18f5-435a-d9ec-d9ba47d7f72e"
      },
      "source": [
        "train_df, test_df = train_test_split(cleaned_df, test_size=0.2)\n",
        "train_df, val_df = train_test_split(train_df, test_size=0.2)\n",
        "\n",
        "checkin, canceled, noshow = np.bincount(train_df['Reservation_Status'])\n",
        "total = checkin + canceled + noshow\n",
        "print('Train Dataframe:\\n    Total: {}\\n    Check-In: {} ({:.2f}% of total)\\n    Canceled: {} ({:.2f}% of total)\\n     No-Show: {} ({:.2f}% of total)\\n'.format(\n",
        "    total, checkin, 100 * checkin / total, canceled, 100 * canceled / total, noshow, 100 * noshow / total))\n",
        "\n",
        "checkin, canceled, noshow = np.bincount(test_df['Reservation_Status'])\n",
        "total = checkin + canceled + noshow\n",
        "print('Test Dataframe:\\n    Total: {}\\n    Check-In: {} ({:.2f}% of total)\\n    Canceled: {} ({:.2f}% of total)\\n     No-Show: {} ({:.2f}% of total)\\n'.format(\n",
        "    total, checkin, 100 * checkin / total, canceled, 100 * canceled / total, noshow, 100 * noshow / total))\n",
        "\n",
        "checkin, canceled, noshow = np.bincount(val_df['Reservation_Status'])\n",
        "total = checkin + canceled + noshow\n",
        "print('Validation Dataframe:\\n    Total: {}\\n    Check-In: {} ({:.2f}% of total)\\n    Canceled: {} ({:.2f}% of total)\\n     No-Show: {} ({:.2f}% of total)\\n'.format(\n",
        "    total, checkin, 100 * checkin / total, canceled, 100 * canceled / total, noshow, 100 * noshow / total))\n"
      ],
      "execution_count": 35,
      "outputs": [
        {
          "output_type": "stream",
          "text": [
            "Train Dataframe:\n",
            "    Total: 19358\n",
            "    Check-In: 14643 (75.64% of total)\n",
            "    Canceled: 3090 (15.96% of total)\n",
            "     No-Show: 1625 (8.39% of total)\n",
            "\n",
            "Test Dataframe:\n",
            "    Total: 6050\n",
            "    Check-In: 4560 (75.37% of total)\n",
            "    Canceled: 987 (16.31% of total)\n",
            "     No-Show: 503 (8.31% of total)\n",
            "\n",
            "Validation Dataframe:\n",
            "    Total: 4840\n",
            "    Check-In: 3647 (75.35% of total)\n",
            "    Canceled: 798 (16.49% of total)\n",
            "     No-Show: 395 (8.16% of total)\n",
            "\n"
          ],
          "name": "stdout"
        }
      ]
    },
    {
      "cell_type": "code",
      "metadata": {
        "id": "J2J31wRiWAsi"
      },
      "source": [
        "train_labels = np.array(train_df.pop('Reservation_Status'))\n",
        "bool_checkin_labels = train_labels == 0\n",
        "bool_canceled_labels = train_labels == 1\n",
        "bool_noshow_labels = train_labels == 2\n",
        "val_labels = np.array(val_df.pop('Reservation_Status'))\n",
        "test_labels = np.array(test_df.pop('Reservation_Status'))\n",
        "\n",
        "train_features = np.array(train_df)\n",
        "val_features = np.array(val_df)\n",
        "test_features = np.array(test_df)"
      ],
      "execution_count": 36,
      "outputs": []
    },
    {
      "cell_type": "code",
      "metadata": {
        "id": "FKppJ5fi_chK"
      },
      "source": [
        "from sklearn.preprocessing import StandardScaler"
      ],
      "execution_count": 37,
      "outputs": []
    },
    {
      "cell_type": "code",
      "metadata": {
        "colab": {
          "base_uri": "https://localhost:8080/"
        },
        "id": "aCM24ReT_WWj",
        "outputId": "66a239d5-78d0-4c7b-dcf1-3f93d6b2b5bf"
      },
      "source": [
        "scaler = StandardScaler()\n",
        "train_features = scaler.fit_transform(train_features)\n",
        "\n",
        "val_features = scaler.transform(val_features)\n",
        "test_features = scaler.transform(test_features)\n",
        "\n",
        "train_features = np.clip(train_features, -5, 5)\n",
        "val_features = np.clip(val_features, -5, 5)\n",
        "test_features = np.clip(test_features, -5, 5)\n",
        "\n",
        "\n",
        "print('Training labels shape:', train_labels.shape)\n",
        "print('Validation labels shape:', val_labels.shape)\n",
        "print('Test labels shape:', test_labels.shape)\n",
        "\n",
        "print('Training features shape:', train_features.shape)\n",
        "print('Validation features shape:', val_features.shape)\n",
        "print('Test features shape:', test_features.shape)"
      ],
      "execution_count": 38,
      "outputs": [
        {
          "output_type": "stream",
          "text": [
            "Training labels shape: (19358,)\n",
            "Validation labels shape: (4840,)\n",
            "Test labels shape: (6050,)\n",
            "Training features shape: (19358, 44)\n",
            "Validation features shape: (4840, 44)\n",
            "Test features shape: (6050, 44)\n"
          ],
          "name": "stdout"
        }
      ]
    },
    {
      "cell_type": "code",
      "metadata": {
        "id": "wn1Zr7jtApW5"
      },
      "source": [
        "import matplotlib as mpl\n",
        "import matplotlib.pyplot as plt\n",
        "import numpy as np\n",
        "import pandas as pd\n",
        "import seaborn as sns"
      ],
      "execution_count": 39,
      "outputs": []
    },
    {
      "cell_type": "code",
      "metadata": {
        "colab": {
          "base_uri": "https://localhost:8080/",
          "height": 1000
        },
        "id": "Eo12Zc_bAlP_",
        "outputId": "adfb33c5-b983-43c7-e379-0e571530bdb0"
      },
      "source": [
        "checkin_df = pd.DataFrame(train_features[ bool_checkin_labels], columns=train_df.columns)\n",
        "canceled_df = pd.DataFrame(train_features[bool_canceled_labels], columns=train_df.columns)\n",
        "noshow_df = pd.DataFrame(train_features[bool_noshow_labels], columns=train_df.columns)\n",
        "\n",
        "sns.jointplot(checkin_df['Booking_to_checkingin'], checkin_df['Log Actual_cost'],\n",
        "              kind='hex', xlim=(-5,5), ylim=(-5,5))\n",
        "plt.suptitle(\"Check-In distribution\")\n",
        "\n",
        "sns.jointplot(canceled_df['Booking_to_checkingin'], canceled_df['Log Actual_cost'],\n",
        "              kind='hex', xlim=(-5,5), ylim=(-5,5))\n",
        "_ = plt.suptitle(\"Canceled distribution\")\n",
        "\n",
        "sns.jointplot(noshow_df['Booking_to_checkingin'], noshow_df['Log Actual_cost'],\n",
        "              kind='hex', xlim=(-5,5), ylim=(-5,5))\n",
        "_ = plt.suptitle(\"No-Show distribution\")"
      ],
      "execution_count": 40,
      "outputs": [
        {
          "output_type": "stream",
          "text": [
            "/usr/local/lib/python3.7/dist-packages/seaborn/_decorators.py:43: FutureWarning: Pass the following variables as keyword args: x, y. From version 0.12, the only valid positional argument will be `data`, and passing other arguments without an explicit keyword will result in an error or misinterpretation.\n",
            "  FutureWarning\n",
            "/usr/local/lib/python3.7/dist-packages/seaborn/_decorators.py:43: FutureWarning: Pass the following variables as keyword args: x, y. From version 0.12, the only valid positional argument will be `data`, and passing other arguments without an explicit keyword will result in an error or misinterpretation.\n",
            "  FutureWarning\n",
            "/usr/local/lib/python3.7/dist-packages/seaborn/_decorators.py:43: FutureWarning: Pass the following variables as keyword args: x, y. From version 0.12, the only valid positional argument will be `data`, and passing other arguments without an explicit keyword will result in an error or misinterpretation.\n",
            "  FutureWarning\n"
          ],
          "name": "stderr"
        },
        {
          "output_type": "display_data",
          "data": {
            "image/png": "[encoded data removed]",
            "text/plain": [
              "<Figure size 432x432 with 3 Axes>"
            ]
          },
          "metadata": {
            "tags": [],
            "needs_background": "light"
          }
        },
        {
          "output_type": "display_data",
          "data": {
            "image/png": "[encoded data removed]",
            "text/plain": [
              "<Figure size 432x432 with 3 Axes>"
            ]
          },
          "metadata": {
            "tags": [],
            "needs_background": "light"
          }
        },
        {
          "output_type": "display_data",
          "data": {
            "image/png": "[encoded data removed]",
            "text/plain": [
              "<Figure size 432x432 with 3 Axes>"
            ]
          },
          "metadata": {
            "tags": [],
            "needs_background": "light"
          }
        }
      ]
    },
    {
      "cell_type": "code",
      "metadata": {
        "colab": {
          "base_uri": "https://localhost:8080/"
        },
        "id": "MOUGWA4dBPoA",
        "outputId": "3774ca3d-406f-4428-875d-ccc25d762aa3"
      },
      "source": [
        "weight_for_0 = (1 / checkin)*(total)/2.0 \n",
        "weight_for_1 = (1 / canceled)*(total)/2.0\n",
        "weight_for_2 = (1 / noshow)*(total)/2.0\n",
        "\n",
        "class_weight = {0: weight_for_0, 1: weight_for_1, 2: weight_for_2}\n",
        "\n",
        "print('Weight for class 0: {:.2f}'.format(weight_for_0))\n",
        "print('Weight for class 1: {:.2f}'.format(weight_for_1))\n",
        "print('Weight for class 2: {:.2f}'.format(weight_for_2))"
      ],
      "execution_count": 41,
      "outputs": [
        {
          "output_type": "stream",
          "text": [
            "Weight for class 0: 0.66\n",
            "Weight for class 1: 3.03\n",
            "Weight for class 2: 6.13\n"
          ],
          "name": "stdout"
        }
      ]
    },
    {
      "cell_type": "code",
      "metadata": {
        "colab": {
          "base_uri": "https://localhost:8080/"
        },
        "id": "r525LzvKE8TQ",
        "outputId": "8d0a70f3-7790-41ef-ac4e-6c2a95778978"
      },
      "source": [
        "class_weight"
      ],
      "execution_count": 42,
      "outputs": [
        {
          "output_type": "execute_result",
          "data": {
            "text/plain": [
              "{0: 0.6635590896627365, 1: 3.032581453634085, 2: 6.1265822784810124}"
            ]
          },
          "metadata": {
            "tags": []
          },
          "execution_count": 42
        }
      ]
    },
    {
      "cell_type": "markdown",
      "metadata": {
        "id": "i8XDxp8sLRnu"
      },
      "source": [
        "### Trying out Models"
      ]
    },
    {
      "cell_type": "markdown",
      "metadata": {
        "id": "WJgKQyeYIl14"
      },
      "source": [
        "#### Dafault Models and Weighted Models"
      ]
    },
    {
      "cell_type": "code",
      "metadata": {
        "id": "9MXCmiPxVpD_"
      },
      "source": [
        "from sklearn.linear_model import LogisticRegression #trying different models\n",
        "from sklearn.tree import DecisionTreeClassifier\n",
        "from sklearn.ensemble import RandomForestClassifier\n",
        "from sklearn.ensemble import GradientBoostingClassifier\n",
        "from sklearn.ensemble import AdaBoostClassifier\n",
        "from sklearn.ensemble import ExtraTreesClassifier\n",
        "from sklearn.neighbors import KNeighborsClassifier\n",
        "from sklearn.svm import SVC\n",
        "from sklearn.naive_bayes import GaussianNB\n",
        "#from sklearn.model_selection import KFold\n",
        "from sklearn.metrics import accuracy_score\n",
        "from sklearn.metrics import classification_report,confusion_matrix"
      ],
      "execution_count": 43,
      "outputs": []
    },
    {
      "cell_type": "code",
      "metadata": {
        "colab": {
          "base_uri": "https://localhost:8080/"
        },
        "id": "o99Z7PzBV_Jv",
        "outputId": "1319cd7d-52f4-4a6b-f471-1d9a3b8b96ec"
      },
      "source": [
        "classifiers = [['Logistic Regression :', LogisticRegression(max_iter = 1500)],\n",
        "       ['Decision Tree Classification :', DecisionTreeClassifier()],\n",
        "       ['Gradient Boosting Classification :', GradientBoostingClassifier()],\n",
        "       ['Ada Boosting Classification :', AdaBoostClassifier()],\n",
        "       ['RandomForest Classification :', RandomForestClassifier()],\n",
        "       ['RandomForest Classification_Balanced :', RandomForestClassifier(random_state=0, n_jobs=-1, n_estimators=10, class_weight=\"balanced\")],\n",
        "       ['RandomForest Classification_Balanced_SubSample :', RandomForestClassifier(random_state=0, n_jobs=-1, n_estimators=10, class_weight=\"balanced_subsample\")],\n",
        "       ['RandomForest Classification_Custom_Weighted :', RandomForestClassifier(random_state=0, n_jobs=-1, n_estimators=10, class_weight=class_weight)],\n",
        "       ['Extra Tree Classification :', ExtraTreesClassifier()],\n",
        "       ['K-Neighbors Classification :', KNeighborsClassifier()],\n",
        "      #  ['Support Vector Classification :',SVC()],\n",
        "       ['Gaussian Naive Bayes :',GaussianNB()]]\n",
        "\n",
        "for name,model in classifiers:\n",
        "    model = model\n",
        "    model.fit(train_features,train_labels)\n",
        "    predictions = model.predict(val_features)\n",
        "    print(name,accuracy_score(val_labels,predictions))\n",
        "    print(confusion_matrix(val_labels,predictions))\n",
        "    print(classification_report(val_labels,predictions))"
      ],
      "execution_count": 44,
      "outputs": [
        {
          "output_type": "stream",
          "text": [
            "Logistic Regression : 0.7535123966942149\n",
            "[[3647    0    0]\n",
            " [ 798    0    0]\n",
            " [ 395    0    0]]\n",
            "              precision    recall  f1-score   support\n",
            "\n",
            "           0       0.75      1.00      0.86      3647\n",
            "           1       0.00      0.00      0.00       798\n",
            "           2       0.00      0.00      0.00       395\n",
            "\n",
            "    accuracy                           0.75      4840\n",
            "   macro avg       0.25      0.33      0.29      4840\n",
            "weighted avg       0.57      0.75      0.65      4840\n",
            "\n"
          ],
          "name": "stdout"
        },
        {
          "output_type": "stream",
          "text": [
            "/usr/local/lib/python3.7/dist-packages/sklearn/metrics/_classification.py:1272: UndefinedMetricWarning: Precision and F-score are ill-defined and being set to 0.0 in labels with no predicted samples. Use `zero_division` parameter to control this behavior.\n",
            "  _warn_prf(average, modifier, msg_start, len(result))\n"
          ],
          "name": "stderr"
        },
        {
          "output_type": "stream",
          "text": [
            "Decision Tree Classification : 0.5927685950413223\n",
            "[[2647  637  363]\n",
            " [ 533  168   97]\n",
            " [ 255   86   54]]\n",
            "              precision    recall  f1-score   support\n",
            "\n",
            "           0       0.77      0.73      0.75      3647\n",
            "           1       0.19      0.21      0.20       798\n",
            "           2       0.11      0.14      0.12       395\n",
            "\n",
            "    accuracy                           0.59      4840\n",
            "   macro avg       0.35      0.36      0.36      4840\n",
            "weighted avg       0.62      0.59      0.61      4840\n",
            "\n",
            "Gradient Boosting Classification : 0.753305785123967\n",
            "[[3646    1    0]\n",
            " [ 798    0    0]\n",
            " [ 395    0    0]]\n",
            "              precision    recall  f1-score   support\n",
            "\n",
            "           0       0.75      1.00      0.86      3647\n",
            "           1       0.00      0.00      0.00       798\n",
            "           2       0.00      0.00      0.00       395\n",
            "\n",
            "    accuracy                           0.75      4840\n",
            "   macro avg       0.25      0.33      0.29      4840\n",
            "weighted avg       0.57      0.75      0.65      4840\n",
            "\n"
          ],
          "name": "stdout"
        },
        {
          "output_type": "stream",
          "text": [
            "/usr/local/lib/python3.7/dist-packages/sklearn/metrics/_classification.py:1272: UndefinedMetricWarning: Precision and F-score are ill-defined and being set to 0.0 in labels with no predicted samples. Use `zero_division` parameter to control this behavior.\n",
            "  _warn_prf(average, modifier, msg_start, len(result))\n"
          ],
          "name": "stderr"
        },
        {
          "output_type": "stream",
          "text": [
            "Ada Boosting Classification : 0.7535123966942149\n",
            "[[3647    0    0]\n",
            " [ 798    0    0]\n",
            " [ 395    0    0]]\n",
            "              precision    recall  f1-score   support\n",
            "\n",
            "           0       0.75      1.00      0.86      3647\n",
            "           1       0.00      0.00      0.00       798\n",
            "           2       0.00      0.00      0.00       395\n",
            "\n",
            "    accuracy                           0.75      4840\n",
            "   macro avg       0.25      0.33      0.29      4840\n",
            "weighted avg       0.57      0.75      0.65      4840\n",
            "\n"
          ],
          "name": "stdout"
        },
        {
          "output_type": "stream",
          "text": [
            "/usr/local/lib/python3.7/dist-packages/sklearn/metrics/_classification.py:1272: UndefinedMetricWarning: Precision and F-score are ill-defined and being set to 0.0 in labels with no predicted samples. Use `zero_division` parameter to control this behavior.\n",
            "  _warn_prf(average, modifier, msg_start, len(result))\n"
          ],
          "name": "stderr"
        },
        {
          "output_type": "stream",
          "text": [
            "RandomForest Classification : 0.753305785123967\n",
            "[[3646    1    0]\n",
            " [ 798    0    0]\n",
            " [ 395    0    0]]\n",
            "              precision    recall  f1-score   support\n",
            "\n",
            "           0       0.75      1.00      0.86      3647\n",
            "           1       0.00      0.00      0.00       798\n",
            "           2       0.00      0.00      0.00       395\n",
            "\n",
            "    accuracy                           0.75      4840\n",
            "   macro avg       0.25      0.33      0.29      4840\n",
            "weighted avg       0.57      0.75      0.65      4840\n",
            "\n"
          ],
          "name": "stdout"
        },
        {
          "output_type": "stream",
          "text": [
            "/usr/local/lib/python3.7/dist-packages/sklearn/metrics/_classification.py:1272: UndefinedMetricWarning: Precision and F-score are ill-defined and being set to 0.0 in labels with no predicted samples. Use `zero_division` parameter to control this behavior.\n",
            "  _warn_prf(average, modifier, msg_start, len(result))\n"
          ],
          "name": "stderr"
        },
        {
          "output_type": "stream",
          "text": [
            "RandomForest Classification_Balanced : 0.7444214876033057\n",
            "[[3579   59    9]\n",
            " [ 771   22    5]\n",
            " [ 380   13    2]]\n",
            "              precision    recall  f1-score   support\n",
            "\n",
            "           0       0.76      0.98      0.85      3647\n",
            "           1       0.23      0.03      0.05       798\n",
            "           2       0.12      0.01      0.01       395\n",
            "\n",
            "    accuracy                           0.74      4840\n",
            "   macro avg       0.37      0.34      0.30      4840\n",
            "weighted avg       0.62      0.74      0.65      4840\n",
            "\n",
            "RandomForest Classification_Balanced_SubSample : 0.743595041322314\n",
            "[[3577   60   10]\n",
            " [ 770   20    8]\n",
            " [ 384    9    2]]\n",
            "              precision    recall  f1-score   support\n",
            "\n",
            "           0       0.76      0.98      0.85      3647\n",
            "           1       0.22      0.03      0.05       798\n",
            "           2       0.10      0.01      0.01       395\n",
            "\n",
            "    accuracy                           0.74      4840\n",
            "   macro avg       0.36      0.34      0.30      4840\n",
            "weighted avg       0.61      0.74      0.65      4840\n",
            "\n",
            "RandomForest Classification_Custom_Weighted : 0.7433884297520661\n",
            "[[3576   55   16]\n",
            " [ 775   21    2]\n",
            " [ 383   11    1]]\n",
            "              precision    recall  f1-score   support\n",
            "\n",
            "           0       0.76      0.98      0.85      3647\n",
            "           1       0.24      0.03      0.05       798\n",
            "           2       0.05      0.00      0.00       395\n",
            "\n",
            "    accuracy                           0.74      4840\n",
            "   macro avg       0.35      0.34      0.30      4840\n",
            "weighted avg       0.61      0.74      0.65      4840\n",
            "\n",
            "Extra Tree Classification : 0.7506198347107438\n",
            "[[3630   16    1]\n",
            " [ 795    3    0]\n",
            " [ 391    4    0]]\n",
            "              precision    recall  f1-score   support\n",
            "\n",
            "           0       0.75      1.00      0.86      3647\n",
            "           1       0.13      0.00      0.01       798\n",
            "           2       0.00      0.00      0.00       395\n",
            "\n",
            "    accuracy                           0.75      4840\n",
            "   macro avg       0.29      0.33      0.29      4840\n",
            "weighted avg       0.59      0.75      0.65      4840\n",
            "\n",
            "K-Neighbors Classification : 0.724793388429752\n",
            "[[3461  168   18]\n",
            " [ 752   44    2]\n",
            " [ 366   26    3]]\n",
            "              precision    recall  f1-score   support\n",
            "\n",
            "           0       0.76      0.95      0.84      3647\n",
            "           1       0.18      0.06      0.08       798\n",
            "           2       0.13      0.01      0.01       395\n",
            "\n",
            "    accuracy                           0.72      4840\n",
            "   macro avg       0.36      0.34      0.31      4840\n",
            "weighted avg       0.61      0.72      0.65      4840\n",
            "\n",
            "Gaussian Naive Bayes : 0.709504132231405\n",
            "[[3297  328   22]\n",
            " [ 653  134   11]\n",
            " [ 318   74    3]]\n",
            "              precision    recall  f1-score   support\n",
            "\n",
            "           0       0.77      0.90      0.83      3647\n",
            "           1       0.25      0.17      0.20       798\n",
            "           2       0.08      0.01      0.01       395\n",
            "\n",
            "    accuracy                           0.71      4840\n",
            "   macro avg       0.37      0.36      0.35      4840\n",
            "weighted avg       0.63      0.71      0.66      4840\n",
            "\n"
          ],
          "name": "stdout"
        }
      ]
    },
    {
      "cell_type": "markdown",
      "metadata": {
        "id": "hAObD3XuFfDf"
      },
      "source": [
        "#### Oversampling"
      ]
    },
    {
      "cell_type": "code",
      "metadata": {
        "id": "aStMj5EaFh-F"
      },
      "source": [
        "checkin_features = train_features[bool_checkin_labels]\n",
        "canceled_features = train_features[bool_canceled_labels]\n",
        "noshow_features = train_features[bool_noshow_labels]\n",
        "\n",
        "checkin_labels = train_labels[bool_checkin_labels]\n",
        "canceled_labels = train_labels[bool_canceled_labels]\n",
        "noshow_labels = train_labels[bool_noshow_labels]"
      ],
      "execution_count": 45,
      "outputs": []
    },
    {
      "cell_type": "code",
      "metadata": {
        "colab": {
          "base_uri": "https://localhost:8080/"
        },
        "id": "IqwLALTjFea-",
        "outputId": "c1a4b40f-0a44-48c3-ae17-c52f8081f250"
      },
      "source": [
        "ids = np.arange(len(canceled_features))\n",
        "choices = np.random.choice(ids, len(checkin_features))\n",
        "print(ids)\n",
        "res_canceled_features = canceled_features[choices]\n",
        "res_canceled_labels = canceled_labels[choices]\n",
        "\n",
        "res_canceled_features.shape"
      ],
      "execution_count": 46,
      "outputs": [
        {
          "output_type": "stream",
          "text": [
            "[   0    1    2 ... 3087 3088 3089]\n"
          ],
          "name": "stdout"
        },
        {
          "output_type": "execute_result",
          "data": {
            "text/plain": [
              "(14643, 44)"
            ]
          },
          "metadata": {
            "tags": []
          },
          "execution_count": 46
        }
      ]
    },
    {
      "cell_type": "code",
      "metadata": {
        "colab": {
          "base_uri": "https://localhost:8080/"
        },
        "id": "e-Woe0SLFaQ5",
        "outputId": "53d27642-39aa-4ba9-8822-f5ad2b6b8833"
      },
      "source": [
        "ids = np.arange(len(noshow_features))\n",
        "choices = np.random.choice(ids, len(checkin_features))\n",
        "print(ids)\n",
        "res_noshow_features = noshow_features[choices]\n",
        "res_noshow_labels = noshow_labels[choices]\n",
        "\n",
        "res_noshow_features.shape"
      ],
      "execution_count": 47,
      "outputs": [
        {
          "output_type": "stream",
          "text": [
            "[   0    1    2 ... 1622 1623 1624]\n"
          ],
          "name": "stdout"
        },
        {
          "output_type": "execute_result",
          "data": {
            "text/plain": [
              "(14643, 44)"
            ]
          },
          "metadata": {
            "tags": []
          },
          "execution_count": 47
        }
      ]
    },
    {
      "cell_type": "code",
      "metadata": {
        "colab": {
          "base_uri": "https://localhost:8080/"
        },
        "id": "1pn2s2MIGi0X",
        "outputId": "966afbb9-6bc8-4c6a-81ec-c5035f751a42"
      },
      "source": [
        "resampled_features = np.concatenate([res_noshow_features, res_canceled_features, checkin_features], axis=0)\n",
        "resampled_labels = np.concatenate([res_noshow_labels, res_canceled_labels, checkin_labels], axis=0)\n",
        "\n",
        "order = np.arange(len(resampled_labels))\n",
        "np.random.shuffle(order)\n",
        "resampled_features = resampled_features[order]\n",
        "resampled_labels = resampled_labels[order]\n",
        "\n",
        "resampled_features.shape"
      ],
      "execution_count": 48,
      "outputs": [
        {
          "output_type": "execute_result",
          "data": {
            "text/plain": [
              "(43929, 44)"
            ]
          },
          "metadata": {
            "tags": []
          },
          "execution_count": 48
        }
      ]
    },
    {
      "cell_type": "code",
      "metadata": {
        "colab": {
          "base_uri": "https://localhost:8080/"
        },
        "id": "7QiVYYZ-Gs8l",
        "outputId": "54750a39-5ff9-4bc6-adbc-9d3081d62e4f"
      },
      "source": [
        "classifiers = [['Logistic Regression :', LogisticRegression(max_iter = 1500)],\n",
        "       ['Decision Tree Classification :', DecisionTreeClassifier()],\n",
        "       ['Gradient Boosting Classification :', GradientBoostingClassifier()],\n",
        "       ['Ada Boosting Classification :', AdaBoostClassifier()],\n",
        "       ['RandomForest Classification :', RandomForestClassifier()],\n",
        "       ['RandomForest Classification_Balanced :', RandomForestClassifier(random_state=0, n_jobs=-1, n_estimators=10, class_weight=\"balanced\")],\n",
        "       ['RandomForest Classification_Balanced_SubSample :', RandomForestClassifier(random_state=0, n_jobs=-1, n_estimators=10, class_weight=\"balanced_subsample\")],\n",
        "       ['RandomForest Classification_Custom_Weighted :', RandomForestClassifier(random_state=0, n_jobs=-1, n_estimators=10, class_weight=class_weight)],\n",
        "       ['Extra Tree Classification :', ExtraTreesClassifier()],\n",
        "       ['K-Neighbors Classification :', KNeighborsClassifier()],\n",
        "      #  ['Support Vector Classification :',SVC()],\n",
        "       ['Gaussian Naive Bayes :',GaussianNB()]]\n",
        "\n",
        "for name,model in classifiers:\n",
        "    model = model\n",
        "    model.fit(resampled_features,resampled_labels)\n",
        "    predictions = model.predict(val_features)\n",
        "    print(name,accuracy_score(val_labels,predictions))\n",
        "    print(confusion_matrix(val_labels,predictions))\n",
        "    print(classification_report(val_labels,predictions))"
      ],
      "execution_count": 49,
      "outputs": [
        {
          "output_type": "stream",
          "text": [
            "Logistic Regression : 0.4964876033057851\n",
            "[[2042  720  885]\n",
            " [ 290  217  291]\n",
            " [ 136  115  144]]\n",
            "              precision    recall  f1-score   support\n",
            "\n",
            "           0       0.83      0.56      0.67      3647\n",
            "           1       0.21      0.27      0.23       798\n",
            "           2       0.11      0.36      0.17       395\n",
            "\n",
            "    accuracy                           0.50      4840\n",
            "   macro avg       0.38      0.40      0.36      4840\n",
            "weighted avg       0.67      0.50      0.56      4840\n",
            "\n",
            "Decision Tree Classification : 0.6084710743801653\n",
            "[[2744  609  294]\n",
            " [ 563  154   81]\n",
            " [ 273   75   47]]\n",
            "              precision    recall  f1-score   support\n",
            "\n",
            "           0       0.77      0.75      0.76      3647\n",
            "           1       0.18      0.19      0.19       798\n",
            "           2       0.11      0.12      0.12       395\n",
            "\n",
            "    accuracy                           0.61      4840\n",
            "   macro avg       0.35      0.35      0.35      4840\n",
            "weighted avg       0.62      0.61      0.61      4840\n",
            "\n",
            "Gradient Boosting Classification : 0.4793388429752066\n",
            "[[1895  892  860]\n",
            " [ 231  287  280]\n",
            " [ 109  148  138]]\n",
            "              precision    recall  f1-score   support\n",
            "\n",
            "           0       0.85      0.52      0.64      3647\n",
            "           1       0.22      0.36      0.27       798\n",
            "           2       0.11      0.35      0.16       395\n",
            "\n",
            "    accuracy                           0.48      4840\n",
            "   macro avg       0.39      0.41      0.36      4840\n",
            "weighted avg       0.68      0.48      0.54      4840\n",
            "\n",
            "Ada Boosting Classification : 0.5041322314049587\n",
            "[[2056  760  831]\n",
            " [ 267  240  291]\n",
            " [ 133  118  144]]\n",
            "              precision    recall  f1-score   support\n",
            "\n",
            "           0       0.84      0.56      0.67      3647\n",
            "           1       0.21      0.30      0.25       798\n",
            "           2       0.11      0.36      0.17       395\n",
            "\n",
            "    accuracy                           0.50      4840\n",
            "   macro avg       0.39      0.41      0.37      4840\n",
            "weighted avg       0.68      0.50      0.56      4840\n",
            "\n",
            "RandomForest Classification : 0.7518595041322315\n",
            "[[3633   13    1]\n",
            " [ 791    6    1]\n",
            " [ 393    2    0]]\n",
            "              precision    recall  f1-score   support\n",
            "\n",
            "           0       0.75      1.00      0.86      3647\n",
            "           1       0.29      0.01      0.01       798\n",
            "           2       0.00      0.00      0.00       395\n",
            "\n",
            "    accuracy                           0.75      4840\n",
            "   macro avg       0.35      0.33      0.29      4840\n",
            "weighted avg       0.62      0.75      0.65      4840\n",
            "\n",
            "RandomForest Classification_Balanced : 0.7163223140495868\n",
            "[[3387  217   43]\n",
            " [ 707   71   20]\n",
            " [ 350   36    9]]\n",
            "              precision    recall  f1-score   support\n",
            "\n",
            "           0       0.76      0.93      0.84      3647\n",
            "           1       0.22      0.09      0.13       798\n",
            "           2       0.12      0.02      0.04       395\n",
            "\n",
            "    accuracy                           0.72      4840\n",
            "   macro avg       0.37      0.35      0.33      4840\n",
            "weighted avg       0.62      0.72      0.65      4840\n",
            "\n",
            "RandomForest Classification_Balanced_SubSample : 0.7212809917355372\n",
            "[[3407  197   43]\n",
            " [ 703   74   21]\n",
            " [ 348   37   10]]\n",
            "              precision    recall  f1-score   support\n",
            "\n",
            "           0       0.76      0.93      0.84      3647\n",
            "           1       0.24      0.09      0.13       798\n",
            "           2       0.14      0.03      0.04       395\n",
            "\n",
            "    accuracy                           0.72      4840\n",
            "   macro avg       0.38      0.35      0.34      4840\n",
            "weighted avg       0.63      0.72      0.66      4840\n",
            "\n",
            "RandomForest Classification_Custom_Weighted : 0.7295454545454545\n",
            "[[3469  145   33]\n",
            " [ 738   53    7]\n",
            " [ 358   28    9]]\n",
            "              precision    recall  f1-score   support\n",
            "\n",
            "           0       0.76      0.95      0.84      3647\n",
            "           1       0.23      0.07      0.10       798\n",
            "           2       0.18      0.02      0.04       395\n",
            "\n",
            "    accuracy                           0.73      4840\n",
            "   macro avg       0.39      0.35      0.33      4840\n",
            "weighted avg       0.63      0.73      0.66      4840\n",
            "\n",
            "Extra Tree Classification : 0.753099173553719\n",
            "[[3640    6    1]\n",
            " [ 793    5    0]\n",
            " [ 393    2    0]]\n",
            "              precision    recall  f1-score   support\n",
            "\n",
            "           0       0.75      1.00      0.86      3647\n",
            "           1       0.38      0.01      0.01       798\n",
            "           2       0.00      0.00      0.00       395\n",
            "\n",
            "    accuracy                           0.75      4840\n",
            "   macro avg       0.38      0.33      0.29      4840\n",
            "weighted avg       0.63      0.75      0.65      4840\n",
            "\n",
            "K-Neighbors Classification : 0.45227272727272727\n",
            "[[1804 1211  632]\n",
            " [ 345  307  146]\n",
            " [ 172  145   78]]\n",
            "              precision    recall  f1-score   support\n",
            "\n",
            "           0       0.78      0.49      0.60      3647\n",
            "           1       0.18      0.38      0.25       798\n",
            "           2       0.09      0.20      0.12       395\n",
            "\n",
            "    accuracy                           0.45      4840\n",
            "   macro avg       0.35      0.36      0.33      4840\n",
            "weighted avg       0.62      0.45      0.51      4840\n",
            "\n",
            "Gaussian Naive Bayes : 0.5148760330578512\n",
            "[[2116  737  794]\n",
            " [ 292  248  258]\n",
            " [ 140  127  128]]\n",
            "              precision    recall  f1-score   support\n",
            "\n",
            "           0       0.83      0.58      0.68      3647\n",
            "           1       0.22      0.31      0.26       798\n",
            "           2       0.11      0.32      0.16       395\n",
            "\n",
            "    accuracy                           0.51      4840\n",
            "   macro avg       0.39      0.41      0.37      4840\n",
            "weighted avg       0.67      0.51      0.57      4840\n",
            "\n"
          ],
          "name": "stdout"
        }
      ]
    },
    {
      "cell_type": "code",
      "metadata": {
        "colab": {
          "base_uri": "https://localhost:8080/"
        },
        "id": "uxlbGRYnX-8u",
        "outputId": "ff95a239-150b-4095-a022-18269d0239b9"
      },
      "source": [
        "model = RandomForestClassifier(random_state=0, n_jobs=-1, n_estimators=10, class_weight=class_weight)\n",
        "model.fit(resampled_features,resampled_labels)\n",
        "predictions = model.predict(test_features)\n",
        "print(accuracy_score(test_labels,predictions))\n",
        "print(confusion_matrix(test_labels,predictions))\n",
        "print(classification_report(test_labels,predictions))"
      ],
      "execution_count": 50,
      "outputs": [
        {
          "output_type": "stream",
          "text": [
            "0.7290909090909091\n",
            "[[4343  181   36]\n",
            " [ 909   60   18]\n",
            " [ 471   24    8]]\n",
            "              precision    recall  f1-score   support\n",
            "\n",
            "           0       0.76      0.95      0.84      4560\n",
            "           1       0.23      0.06      0.10       987\n",
            "           2       0.13      0.02      0.03       503\n",
            "\n",
            "    accuracy                           0.73      6050\n",
            "   macro avg       0.37      0.34      0.32      6050\n",
            "weighted avg       0.62      0.73      0.65      6050\n",
            "\n"
          ],
          "name": "stdout"
        }
      ]
    },
    {
      "cell_type": "markdown",
      "metadata": {
        "id": "Or7IKsCveKRS"
      },
      "source": [
        "#### Multi Model *Experiment*"
      ]
    },
    {
      "cell_type": "code",
      "metadata": {
        "colab": {
          "base_uri": "https://localhost:8080/"
        },
        "id": "_gLikkWVjyTG",
        "outputId": "1bd71015-c844-4c2c-f2ec-afe77b3aa228"
      },
      "source": [
        "train1_df, train2_df = train_test_split(cleaned_df, test_size=0.33)\n",
        "train3_df, train1_df = train_test_split(train1_df, test_size=0.5)\n",
        "train3_df, combined_val_df = train_test_split(train3_df, test_size=0.2)\n",
        "\n",
        "checkin, canceled, noshow = np.bincount(train1_df['Reservation_Status'])\n",
        "total = checkin + canceled + noshow\n",
        "print('Train 1 Dataframe:\\n    Total: {}\\n    Check-In: {} ({:.2f}% of total)\\n    Canceled: {} ({:.2f}% of total)\\n     No-Show: {} ({:.2f}% of total)\\n'.format(\n",
        "    total, checkin, 100 * checkin / total, canceled, 100 * canceled / total, noshow, 100 * noshow / total))\n",
        "\n",
        "checkin, canceled, noshow = np.bincount(train2_df['Reservation_Status'])\n",
        "total = checkin + canceled + noshow\n",
        "print('Train 2 Dataframe:\\n    Total: {}\\n    Check-In: {} ({:.2f}% of total)\\n    Canceled: {} ({:.2f}% of total)\\n     No-Show: {} ({:.2f}% of total)\\n'.format(\n",
        "    total, checkin, 100 * checkin / total, canceled, 100 * canceled / total, noshow, 100 * noshow / total))\n",
        "\n",
        "checkin, canceled, noshow = np.bincount(train3_df['Reservation_Status'])\n",
        "total = checkin + canceled + noshow\n",
        "print('Train 3 Dataframe:\\n    Total: {}\\n    Check-In: {} ({:.2f}% of total)\\n    Canceled: {} ({:.2f}% of total)\\n     No-Show: {} ({:.2f}% of total)\\n'.format(\n",
        "    total, checkin, 100 * checkin / total, canceled, 100 * canceled / total, noshow, 100 * noshow / total))\n",
        "\n",
        "checkin, canceled, noshow = np.bincount(combined_val_df['Reservation_Status'])\n",
        "total = checkin + canceled + noshow\n",
        "print('Validation Dataframe:\\n    Total: {}\\n    Check-In: {} ({:.2f}% of total)\\n    Canceled: {} ({:.2f}% of total)\\n     No-Show: {} ({:.2f}% of total)\\n'.format(\n",
        "    total, checkin, 100 * checkin / total, canceled, 100 * canceled / total, noshow, 100 * noshow / total))\n"
      ],
      "execution_count": 133,
      "outputs": [
        {
          "output_type": "stream",
          "text": [
            "Train 1 Dataframe:\n",
            "    Total: 10133\n",
            "    Check-In: 7603 (75.03% of total)\n",
            "    Canceled: 1659 (16.37% of total)\n",
            "     No-Show: 871 (8.60% of total)\n",
            "\n",
            "Train 2 Dataframe:\n",
            "    Total: 9982\n",
            "    Check-In: 7638 (76.52% of total)\n",
            "    Canceled: 1531 (15.34% of total)\n",
            "     No-Show: 813 (8.14% of total)\n",
            "\n",
            "Train 3 Dataframe:\n",
            "    Total: 8106\n",
            "    Check-In: 6077 (74.97% of total)\n",
            "    Canceled: 1364 (16.83% of total)\n",
            "     No-Show: 665 (8.20% of total)\n",
            "\n",
            "Validation Dataframe:\n",
            "    Total: 2027\n",
            "    Check-In: 1532 (75.58% of total)\n",
            "    Canceled: 321 (15.84% of total)\n",
            "     No-Show: 174 (8.58% of total)\n",
            "\n"
          ],
          "name": "stdout"
        }
      ]
    },
    {
      "cell_type": "code",
      "metadata": {
        "id": "VMnKdPA3kUlJ"
      },
      "source": [
        "train1_labels = np.array(train1_df.pop('Reservation_Status'))\n",
        "train2_labels = np.array(train2_df.pop('Reservation_Status'))\n",
        "train3_labels = np.array(train3_df.pop('Reservation_Status'))\n",
        "combined_val_labels = np.array(combined_val_df.pop('Reservation_Status'))\n",
        "\n",
        "train1_features = np.array(train1_df)\n",
        "train2_features = np.array(train2_df)\n",
        "train3_features = np.array(train3_df)\n",
        "combined_val_features = np.array(combined_val_df)"
      ],
      "execution_count": 134,
      "outputs": []
    },
    {
      "cell_type": "code",
      "metadata": {
        "colab": {
          "base_uri": "https://localhost:8080/"
        },
        "id": "xKwX_FN9lJur",
        "outputId": "7b803a7f-5c40-4755-c322-f67337e43003"
      },
      "source": [
        "combined_scaler = StandardScaler()\n",
        "\n",
        "train1_features = combined_scaler.fit_transform(train1_features)\n",
        "train2_features = combined_scaler.transform(train2_features)\n",
        "train3_features = combined_scaler.transform(train3_features)\n",
        "combined_val_features = combined_scaler.transform(combined_val_features)\n",
        "\n",
        "train1_features = np.clip(train1_features, -5, 5)\n",
        "train2_features = np.clip(train2_features, -5, 5)\n",
        "train3_features = np.clip(train3_features, -5, 5)\n",
        "combined_val_features = np.clip(combined_val_features, -5, 5)\n",
        "\n",
        "\n",
        "print('Train 1 labels shape:', train1_labels.shape)\n",
        "print('Tran 2 labels shape:', train2_labels.shape)\n",
        "print('Tran 3 labels shape:', train3_labels.shape)\n",
        "print('Validation labels shape:', combined_val_labels.shape)\n",
        "\n",
        "print('Train 1 features shape:', train1_features.shape)\n",
        "print('Train 2 features shape:', train2_features.shape)\n",
        "print('Train 3 features shape:', train3_features.shape)\n",
        "print('Validation features shape:', combined_val_features.shape)"
      ],
      "execution_count": 135,
      "outputs": [
        {
          "output_type": "stream",
          "text": [
            "Train 1 labels shape: (10133,)\n",
            "Tran 2 labels shape: (9982,)\n",
            "Tran 3 labels shape: (8106,)\n",
            "Validation labels shape: (2027,)\n",
            "Train 1 features shape: (10133, 44)\n",
            "Train 2 features shape: (9982, 44)\n",
            "Train 3 features shape: (8106, 44)\n",
            "Validation features shape: (2027, 44)\n"
          ],
          "name": "stdout"
        }
      ]
    },
    {
      "cell_type": "code",
      "metadata": {
        "id": "QFu8y67yeH3w"
      },
      "source": [
        "model1 = RandomForestClassifier(random_state=0, n_jobs=-1, n_estimators=10, class_weight=class_weight)\n",
        "model1.fit(train1_features,train1_labels)\n",
        "predictions1 = model1.predict(train3_features)"
      ],
      "execution_count": 136,
      "outputs": []
    },
    {
      "cell_type": "code",
      "metadata": {
        "id": "MczmGhlNemg2"
      },
      "source": [
        "model2 = DecisionTreeClassifier()\n",
        "model2.fit(train2_features,train2_labels)\n",
        "predictions2 = model2.predict(train3_features)"
      ],
      "execution_count": 137,
      "outputs": []
    },
    {
      "cell_type": "code",
      "metadata": {
        "id": "VSM1zxwWfUZV"
      },
      "source": [
        "with_pred_train3_df = pd.DataFrame(train3_features)\n",
        "with_pred_train3_df['Pred1'] = pd.DataFrame(predictions1.tolist(),columns=['Pred1'])['Pred1'].values\n",
        "with_pred_train3_df['Pred2'] = pd.DataFrame(predictions1.tolist(),columns=['Pred2'])['Pred2'].values\n",
        "with_pred_train3_features = np.array(with_pred_train3_df)"
      ],
      "execution_count": 138,
      "outputs": []
    },
    {
      "cell_type": "code",
      "metadata": {
        "colab": {
          "base_uri": "https://localhost:8080/",
          "height": 224
        },
        "id": "AedBOT0VgzyT",
        "outputId": "c0beb19c-9bd3-4bee-c5f4-66189f3eee03"
      },
      "source": [
        "with_pred_train3_df.head()"
      ],
      "execution_count": 139,
      "outputs": [
        {
          "output_type": "execute_result",
          "data": {
            "text/html": [
              "<div>\n",
              "<style scoped>\n",
              "    .dataframe tbody tr th:only-of-type {\n",
              "        vertical-align: middle;\n",
              "    }\n",
              "\n",
              "    .dataframe tbody tr th {\n",
              "        vertical-align: top;\n",
              "    }\n",
              "\n",
              "    .dataframe thead th {\n",
              "        text-align: right;\n",
              "    }\n",
              "</style>\n",
              "<table border=\"1\" class=\"dataframe\">\n",
              "  <thead>\n",
              "    <tr style=\"text-align: right;\">\n",
              "      <th></th>\n",
              "      <th>0</th>\n",
              "      <th>1</th>\n",
              "      <th>2</th>\n",
              "      <th>3</th>\n",
              "      <th>4</th>\n",
              "      <th>5</th>\n",
              "      <th>6</th>\n",
              "      <th>7</th>\n",
              "      <th>8</th>\n",
              "      <th>9</th>\n",
              "      <th>10</th>\n",
              "      <th>11</th>\n",
              "      <th>12</th>\n",
              "      <th>13</th>\n",
              "      <th>14</th>\n",
              "      <th>15</th>\n",
              "      <th>16</th>\n",
              "      <th>17</th>\n",
              "      <th>18</th>\n",
              "      <th>19</th>\n",
              "      <th>20</th>\n",
              "      <th>21</th>\n",
              "      <th>22</th>\n",
              "      <th>23</th>\n",
              "      <th>24</th>\n",
              "      <th>25</th>\n",
              "      <th>26</th>\n",
              "      <th>27</th>\n",
              "      <th>28</th>\n",
              "      <th>29</th>\n",
              "      <th>30</th>\n",
              "      <th>31</th>\n",
              "      <th>32</th>\n",
              "      <th>33</th>\n",
              "      <th>34</th>\n",
              "      <th>35</th>\n",
              "      <th>36</th>\n",
              "      <th>37</th>\n",
              "      <th>38</th>\n",
              "      <th>39</th>\n",
              "      <th>40</th>\n",
              "      <th>41</th>\n",
              "      <th>42</th>\n",
              "      <th>43</th>\n",
              "      <th>Pred1</th>\n",
              "      <th>Pred2</th>\n",
              "    </tr>\n",
              "  </thead>\n",
              "  <tbody>\n",
              "    <tr>\n",
              "      <th>0</th>\n",
              "      <td>0.997930</td>\n",
              "      <td>0.262333</td>\n",
              "      <td>2.227750</td>\n",
              "      <td>-1.027649</td>\n",
              "      <td>-0.61436</td>\n",
              "      <td>1.428357</td>\n",
              "      <td>-0.354632</td>\n",
              "      <td>0.637636</td>\n",
              "      <td>0.576705</td>\n",
              "      <td>1.087335</td>\n",
              "      <td>1.71189</td>\n",
              "      <td>-0.565764</td>\n",
              "      <td>-0.571994</td>\n",
              "      <td>-0.587493</td>\n",
              "      <td>1.234927</td>\n",
              "      <td>-0.501757</td>\n",
              "      <td>-0.499445</td>\n",
              "      <td>-0.504991</td>\n",
              "      <td>-0.644992</td>\n",
              "      <td>1.576238</td>\n",
              "      <td>-0.622810</td>\n",
              "      <td>-0.40304</td>\n",
              "      <td>-0.501141</td>\n",
              "      <td>-0.507606</td>\n",
              "      <td>1.228075</td>\n",
              "      <td>-0.493268</td>\n",
              "      <td>1.406918</td>\n",
              "      <td>-0.708573</td>\n",
              "      <td>-0.701984</td>\n",
              "      <td>-0.995765</td>\n",
              "      <td>1.973019</td>\n",
              "      <td>-0.651133</td>\n",
              "      <td>-1.396091</td>\n",
              "      <td>-0.302209</td>\n",
              "      <td>1.707448</td>\n",
              "      <td>-0.410291</td>\n",
              "      <td>-0.636717</td>\n",
              "      <td>0.873076</td>\n",
              "      <td>0.167399</td>\n",
              "      <td>1.006982</td>\n",
              "      <td>-1.071252</td>\n",
              "      <td>-1.031993</td>\n",
              "      <td>0.769861</td>\n",
              "      <td>1.424767</td>\n",
              "      <td>0</td>\n",
              "      <td>0</td>\n",
              "    </tr>\n",
              "    <tr>\n",
              "      <th>1</th>\n",
              "      <td>0.997930</td>\n",
              "      <td>-1.179043</td>\n",
              "      <td>-1.136451</td>\n",
              "      <td>-1.027649</td>\n",
              "      <td>-0.61436</td>\n",
              "      <td>-0.700105</td>\n",
              "      <td>-0.354632</td>\n",
              "      <td>0.637636</td>\n",
              "      <td>0.576705</td>\n",
              "      <td>-0.230131</td>\n",
              "      <td>-0.58415</td>\n",
              "      <td>1.767522</td>\n",
              "      <td>-0.571994</td>\n",
              "      <td>-0.587493</td>\n",
              "      <td>-0.809765</td>\n",
              "      <td>-0.501757</td>\n",
              "      <td>2.002223</td>\n",
              "      <td>-0.504991</td>\n",
              "      <td>-0.644992</td>\n",
              "      <td>1.576238</td>\n",
              "      <td>-0.622810</td>\n",
              "      <td>-0.40304</td>\n",
              "      <td>1.995447</td>\n",
              "      <td>-0.507606</td>\n",
              "      <td>-0.814282</td>\n",
              "      <td>-0.493268</td>\n",
              "      <td>-0.710774</td>\n",
              "      <td>1.411288</td>\n",
              "      <td>-0.701984</td>\n",
              "      <td>1.004253</td>\n",
              "      <td>-0.506837</td>\n",
              "      <td>-0.651133</td>\n",
              "      <td>-1.396091</td>\n",
              "      <td>3.308972</td>\n",
              "      <td>-0.585669</td>\n",
              "      <td>2.437296</td>\n",
              "      <td>-0.636717</td>\n",
              "      <td>-1.145376</td>\n",
              "      <td>0.167399</td>\n",
              "      <td>-0.222973</td>\n",
              "      <td>0.429051</td>\n",
              "      <td>-1.031993</td>\n",
              "      <td>1.099791</td>\n",
              "      <td>1.470508</td>\n",
              "      <td>0</td>\n",
              "      <td>0</td>\n",
              "    </tr>\n",
              "    <tr>\n",
              "      <th>2</th>\n",
              "      <td>0.997930</td>\n",
              "      <td>-1.048008</td>\n",
              "      <td>1.386700</td>\n",
              "      <td>-1.027649</td>\n",
              "      <td>-0.61436</td>\n",
              "      <td>-0.700105</td>\n",
              "      <td>-0.354632</td>\n",
              "      <td>0.637636</td>\n",
              "      <td>0.576705</td>\n",
              "      <td>0.648180</td>\n",
              "      <td>1.71189</td>\n",
              "      <td>-0.565764</td>\n",
              "      <td>-0.571994</td>\n",
              "      <td>-0.587493</td>\n",
              "      <td>1.234927</td>\n",
              "      <td>-0.501757</td>\n",
              "      <td>-0.499445</td>\n",
              "      <td>-0.504991</td>\n",
              "      <td>-0.644992</td>\n",
              "      <td>-0.634422</td>\n",
              "      <td>1.605627</td>\n",
              "      <td>-0.40304</td>\n",
              "      <td>1.995447</td>\n",
              "      <td>-0.507606</td>\n",
              "      <td>-0.814282</td>\n",
              "      <td>-0.493268</td>\n",
              "      <td>1.406918</td>\n",
              "      <td>-0.708573</td>\n",
              "      <td>-0.701984</td>\n",
              "      <td>1.004253</td>\n",
              "      <td>-0.506837</td>\n",
              "      <td>-0.651133</td>\n",
              "      <td>0.716286</td>\n",
              "      <td>-0.302209</td>\n",
              "      <td>-0.585669</td>\n",
              "      <td>2.437296</td>\n",
              "      <td>-0.636717</td>\n",
              "      <td>-1.145376</td>\n",
              "      <td>2.189151</td>\n",
              "      <td>-0.039788</td>\n",
              "      <td>-0.771191</td>\n",
              "      <td>0.968999</td>\n",
              "      <td>1.140043</td>\n",
              "      <td>-0.619560</td>\n",
              "      <td>0</td>\n",
              "      <td>0</td>\n",
              "    </tr>\n",
              "    <tr>\n",
              "      <th>3</th>\n",
              "      <td>0.997930</td>\n",
              "      <td>0.983021</td>\n",
              "      <td>-1.136451</td>\n",
              "      <td>0.361329</td>\n",
              "      <td>-0.61436</td>\n",
              "      <td>-0.700105</td>\n",
              "      <td>-0.354632</td>\n",
              "      <td>0.637636</td>\n",
              "      <td>0.576705</td>\n",
              "      <td>1.526491</td>\n",
              "      <td>-0.58415</td>\n",
              "      <td>-0.565764</td>\n",
              "      <td>1.748269</td>\n",
              "      <td>-0.587493</td>\n",
              "      <td>-0.809765</td>\n",
              "      <td>-0.501757</td>\n",
              "      <td>2.002223</td>\n",
              "      <td>-0.504991</td>\n",
              "      <td>-0.644992</td>\n",
              "      <td>1.576238</td>\n",
              "      <td>-0.622810</td>\n",
              "      <td>-0.40304</td>\n",
              "      <td>-0.501141</td>\n",
              "      <td>-0.507606</td>\n",
              "      <td>1.228075</td>\n",
              "      <td>-0.493268</td>\n",
              "      <td>-0.710774</td>\n",
              "      <td>1.411288</td>\n",
              "      <td>-0.701984</td>\n",
              "      <td>1.004253</td>\n",
              "      <td>-0.506837</td>\n",
              "      <td>-0.651133</td>\n",
              "      <td>0.716286</td>\n",
              "      <td>-0.302209</td>\n",
              "      <td>-0.585669</td>\n",
              "      <td>-0.410291</td>\n",
              "      <td>1.570555</td>\n",
              "      <td>-1.145376</td>\n",
              "      <td>-0.843478</td>\n",
              "      <td>-1.073474</td>\n",
              "      <td>-1.071252</td>\n",
              "      <td>-1.031993</td>\n",
              "      <td>-0.898947</td>\n",
              "      <td>0.586988</td>\n",
              "      <td>0</td>\n",
              "      <td>0</td>\n",
              "    </tr>\n",
              "    <tr>\n",
              "      <th>4</th>\n",
              "      <td>-1.002075</td>\n",
              "      <td>-1.703179</td>\n",
              "      <td>-0.295401</td>\n",
              "      <td>-1.027649</td>\n",
              "      <td>-0.61436</td>\n",
              "      <td>1.428357</td>\n",
              "      <td>2.819825</td>\n",
              "      <td>-1.568293</td>\n",
              "      <td>0.576705</td>\n",
              "      <td>0.648180</td>\n",
              "      <td>-0.58415</td>\n",
              "      <td>1.767522</td>\n",
              "      <td>-0.571994</td>\n",
              "      <td>-0.587493</td>\n",
              "      <td>-0.809765</td>\n",
              "      <td>-0.501757</td>\n",
              "      <td>-0.499445</td>\n",
              "      <td>1.980233</td>\n",
              "      <td>-0.644992</td>\n",
              "      <td>-0.634422</td>\n",
              "      <td>1.605627</td>\n",
              "      <td>-0.40304</td>\n",
              "      <td>1.995447</td>\n",
              "      <td>-0.507606</td>\n",
              "      <td>-0.814282</td>\n",
              "      <td>-0.493268</td>\n",
              "      <td>-0.710774</td>\n",
              "      <td>-0.708573</td>\n",
              "      <td>1.424534</td>\n",
              "      <td>-0.995765</td>\n",
              "      <td>1.973019</td>\n",
              "      <td>-0.651133</td>\n",
              "      <td>0.716286</td>\n",
              "      <td>-0.302209</td>\n",
              "      <td>-0.585669</td>\n",
              "      <td>2.437296</td>\n",
              "      <td>-0.636717</td>\n",
              "      <td>-1.145376</td>\n",
              "      <td>0.167399</td>\n",
              "      <td>-0.968797</td>\n",
              "      <td>1.029173</td>\n",
              "      <td>-1.031993</td>\n",
              "      <td>-0.249594</td>\n",
              "      <td>-1.095529</td>\n",
              "      <td>0</td>\n",
              "      <td>0</td>\n",
              "    </tr>\n",
              "  </tbody>\n",
              "</table>\n",
              "</div>"
            ],
            "text/plain": [
              "          0         1         2         3  ...        42        43  Pred1  Pred2\n",
              "0  0.997930  0.262333  2.227750 -1.027649  ...  0.769861  1.424767      0      0\n",
              "1  0.997930 -1.179043 -1.136451 -1.027649  ...  1.099791  1.470508      0      0\n",
              "2  0.997930 -1.048008  1.386700 -1.027649  ...  1.140043 -0.619560      0      0\n",
              "3  0.997930  0.983021 -1.136451  0.361329  ... -0.898947  0.586988      0      0\n",
              "4 -1.002075 -1.703179 -0.295401 -1.027649  ... -0.249594 -1.095529      0      0\n",
              "\n",
              "[5 rows x 46 columns]"
            ]
          },
          "metadata": {
            "tags": []
          },
          "execution_count": 139
        }
      ]
    },
    {
      "cell_type": "code",
      "metadata": {
        "id": "9b4PTeBuiUID"
      },
      "source": [
        "with_pred_val_df = pd.DataFrame(combined_val_features)\n",
        "with_pred_val_df['Pred1'] = pd.DataFrame(model1.predict(combined_val_features).tolist(),columns=['Pred1'])['Pred1'].values\n",
        "with_pred_val_df['Pred2'] = pd.DataFrame(model2.predict(combined_val_features),columns=['Pred2'])['Pred2'].values\n",
        "with_pred_val_features = np.array(with_pred_val_df)"
      ],
      "execution_count": 140,
      "outputs": []
    },
    {
      "cell_type": "code",
      "metadata": {
        "colab": {
          "base_uri": "https://localhost:8080/"
        },
        "id": "V05Cwe5Fg67k",
        "outputId": "d3bed204-8569-4fc1-c3c3-643b46504359"
      },
      "source": [
        "model3 = RandomForestClassifier(random_state=0, n_jobs=-1, n_estimators=10, class_weight=class_weight)\n",
        "model3.fit(with_pred_train3_features,train3_labels)\n",
        "predictions = model3.predict(with_pred_val_features)\n",
        "print(accuracy_score(combined_val_labels,predictions))\n",
        "print(confusion_matrix(combined_val_labels,predictions))\n",
        "print(classification_report(combined_val_labels,predictions))"
      ],
      "execution_count": 144,
      "outputs": [
        {
          "output_type": "stream",
          "text": [
            "0.7454366058214109\n",
            "[[1496   31    5]\n",
            " [ 305   14    2]\n",
            " [ 170    3    1]]\n",
            "              precision    recall  f1-score   support\n",
            "\n",
            "           0       0.76      0.98      0.85      1532\n",
            "           1       0.29      0.04      0.08       321\n",
            "           2       0.12      0.01      0.01       174\n",
            "\n",
            "    accuracy                           0.75      2027\n",
            "   macro avg       0.39      0.34      0.31      2027\n",
            "weighted avg       0.63      0.75      0.66      2027\n",
            "\n"
          ],
          "name": "stdout"
        }
      ]
    },
    {
      "cell_type": "code",
      "metadata": {
        "colab": {
          "base_uri": "https://localhost:8080/"
        },
        "id": "PMcmMWiWtOUE",
        "outputId": "96b97396-aa21-4bd4-d8b7-69ffad0b59ea"
      },
      "source": [
        "testing_features = test_features.copy()\n",
        "testing_labels = test_labels.copy()\n",
        "\n",
        "with_pred_test_df = pd.DataFrame(testing_features)\n",
        "with_pred_test_df['Pred1'] = pd.DataFrame(model1.predict(testing_features).tolist(),columns=['Pred1'])['Pred1'].values\n",
        "with_pred_test_df['Pred2'] = pd.DataFrame(model2.predict(testing_features),columns=['Pred2'])['Pred2'].values\n",
        "with_pred_test_features = np.array(with_pred_test_df)\n",
        "predictions = model3.predict(with_pred_test_features)\n",
        "print(accuracy_score(testing_labels,predictions))\n",
        "print(confusion_matrix(testing_labels,predictions))\n",
        "print(classification_report(testing_labels,predictions))"
      ],
      "execution_count": 146,
      "outputs": [
        {
          "output_type": "stream",
          "text": [
            "0.8014876033057852\n",
            "[[4482   69    9]\n",
            " [ 735  249    3]\n",
            " [ 377    8  118]]\n",
            "              precision    recall  f1-score   support\n",
            "\n",
            "           0       0.80      0.98      0.88      4560\n",
            "           1       0.76      0.25      0.38       987\n",
            "           2       0.91      0.23      0.37       503\n",
            "\n",
            "    accuracy                           0.80      6050\n",
            "   macro avg       0.82      0.49      0.54      6050\n",
            "weighted avg       0.80      0.80      0.76      6050\n",
            "\n"
          ],
          "name": "stdout"
        }
      ]
    },
    {
      "cell_type": "code",
      "metadata": {
        "id": "ly-F6tPNrbPw"
      },
      "source": [
        "def predict_combined_model(features):\n",
        "  testing_features = features.copy()\n",
        "  with_pred_test_df = pd.DataFrame(testing_features)\n",
        "  with_pred_test_df['Pred1'] = pd.DataFrame(model1.predict(testing_features).tolist(),columns=['Pred1'])['Pred1'].values\n",
        "  with_pred_test_df['Pred2'] = pd.DataFrame(model2.predict(testing_features),columns=['Pred2'])['Pred2'].values\n",
        "  with_pred_test_features = np.array(with_pred_test_df)\n",
        "  predictions = model3.predict(with_pred_test_features)\n",
        "  return predictions"
      ],
      "execution_count": 161,
      "outputs": []
    },
    {
      "cell_type": "markdown",
      "metadata": {
        "id": "nL6Df0KiIcMv"
      },
      "source": [
        "#### LGBM with bayesian Optimization"
      ]
    },
    {
      "cell_type": "code",
      "metadata": {
        "id": "q-Z5stT62OwL"
      },
      "source": [
        "# !pip install bayesian-optimization"
      ],
      "execution_count": 51,
      "outputs": []
    },
    {
      "cell_type": "code",
      "metadata": {
        "id": "CCwyHle0YXtK"
      },
      "source": [
        "# #LGBMClassifier\n",
        "# from sklearn.model_selection import StratifiedKFold\n",
        "# from lightgbm import LGBMClassifier\n",
        "\n",
        "# from sklearn.metrics import accuracy_score, classification_report, confusion_matrix\n",
        "\n",
        "# def lgbm_evaluate(**params):\n",
        "# #     warnings.simplefilter('ignore')\n",
        "    \n",
        "#     params['num_leaves'] = int(params['num_leaves'])\n",
        "#     params['max_depth'] = int(params['max_depth'])\n",
        "        \n",
        "#     clf = LGBMClassifier(**params, n_estimators=20000, nthread=-1)\n",
        "\n",
        "#     test_pred_proba = np.zeros((x_train.shape[0], 3))\n",
        "    \n",
        "#     for n_fold, (train_idx, valid_idx) in enumerate(folds.split(x_train, y_train)):\n",
        "#         X_train_bo, X_valid = x_train.iloc[train_idx], x_train.iloc[valid_idx]\n",
        "#         y_train_bo, y_valid = y_train.iloc[train_idx], y_train.iloc[valid_idx]\n",
        "        \n",
        "#         model = LGBMClassifier(**params, n_estimators = 10000, n_jobs = -1)\n",
        "#         model.fit(X_train_bo, y_train_bo, \n",
        "#                 eval_set=[(X_train_bo, y_train_bo), (X_valid, y_valid)], eval_metric='binary_logloss',\n",
        "#                 verbose=False, early_stopping_rounds=200)\n",
        "\n",
        "#         y_pred_valid = model.predict_proba(X_valid)\n",
        "\n",
        "#         test_pred_proba[valid_idx] = y_pred_valid\n",
        "\n",
        "#     return accuracy_score(y_valid, y_pred_valid.argmax(1))"
      ],
      "execution_count": 52,
      "outputs": []
    },
    {
      "cell_type": "code",
      "metadata": {
        "id": "Ti9r6QBy1ZiF"
      },
      "source": [
        "# #hyper parameter tuning\n",
        "# params = {'colsample_bytree': (0.6, 1),\n",
        "#      'learning_rate': (.001, .08), \n",
        "#       'num_leaves': (8, 124), \n",
        "#       'subsample': (0.6, 1), \n",
        "#       'max_depth': (3, 25), \n",
        "#       'reg_alpha': (.05, 15.0), \n",
        "#       'reg_lambda': (.05, 15.0), \n",
        "#       'min_split_gain': (.001, .03),\n",
        "#       'min_child_weight': (12, 80)}\n",
        "\n",
        "# from sklearn.model_selection import StratifiedKFold\n",
        "# n_fold = 20\n",
        "# folds = StratifiedKFold(n_splits=n_fold, shuffle=True, random_state=11)\n",
        "\n",
        "# from bayes_opt import BayesianOptimization\n",
        "# bo = BayesianOptimization(lgbm_evaluate, params)\n",
        "# bo.maximize(init_points=5, n_iter=5)"
      ],
      "execution_count": 53,
      "outputs": []
    },
    {
      "cell_type": "markdown",
      "metadata": {
        "id": "r_fbpD91IVbC"
      },
      "source": [
        "#### Tensorflow Model"
      ]
    },
    {
      "cell_type": "code",
      "metadata": {
        "id": "09ds2tW91sRy"
      },
      "source": [
        "# import numpy as np\n",
        "# import pandas as pd\n",
        "# from keras.models import Sequential\n",
        "# from keras.layers import Dense, Dropout, Activation, Flatten\n",
        "# from tensorflow.keras import optimizers\n",
        "# import tensorflow as tf"
      ],
      "execution_count": 54,
      "outputs": []
    },
    {
      "cell_type": "code",
      "metadata": {
        "id": "NsbuW-9Cxn7J"
      },
      "source": [
        "# y_train = tf.keras.utils.to_categorical(y_train, 3)\n",
        "# y_test = tf.keras.utils.to_categorical(y_test, 3)"
      ],
      "execution_count": 55,
      "outputs": []
    },
    {
      "cell_type": "code",
      "metadata": {
        "id": "d7Th8thq_UqI"
      },
      "source": [
        "# model = Sequential()\n",
        "\n",
        "# model.add(Flatten())\n",
        "\n",
        "# model.add(Dense(128))\n",
        "# model.add(Activation('relu'))\n",
        "# model.add(Dropout(0.5))\n",
        "# model.add(Dense(128))\n",
        "# model.add(Activation('relu'))\n",
        "\n",
        "# model.add(Dense(4))\n",
        "# model.add(Activation('softmax'))\n",
        "\n",
        "# model.compile(loss = \"sparse_categorical_crossentropy\", optimizer = optimizers.SGD(lr = 0.0001 , momentum = 0.1), metrics=[\"accuracy\"])"
      ],
      "execution_count": 56,
      "outputs": []
    },
    {
      "cell_type": "code",
      "metadata": {
        "id": "XQsEIcFICvmE"
      },
      "source": [
        "# model.fit( x_train, y_train,\n",
        "#                     epochs = 10,\n",
        "#                     batch_size = 20,\n",
        "#                     validation_data = (x_test, y_test))\n",
        "# model.summary()"
      ],
      "execution_count": 57,
      "outputs": []
    },
    {
      "cell_type": "code",
      "metadata": {
        "id": "3CCW2jIGDONq"
      },
      "source": [
        "# predictions = model.predict([x_test])"
      ],
      "execution_count": 58,
      "outputs": []
    },
    {
      "cell_type": "code",
      "metadata": {
        "id": "kzVj35OYRVUq"
      },
      "source": [
        "# predictions = list(np.argmax(predictions[x]) for x in range(len(predictions)))"
      ],
      "execution_count": 59,
      "outputs": []
    },
    {
      "cell_type": "code",
      "metadata": {
        "id": "PSn7L-zcRdp4"
      },
      "source": [
        "# predictions.count(1), predictions.count(2), predictions.count(3)"
      ],
      "execution_count": 60,
      "outputs": []
    },
    {
      "cell_type": "markdown",
      "metadata": {
        "id": "CRO3fMRpZZgE"
      },
      "source": [
        "### **Submission**"
      ]
    },
    {
      "cell_type": "code",
      "metadata": {
        "id": "g8urulNoZ0B1"
      },
      "source": [
        "def prepare_dataset(df, one_hot_encoded_lst, dates, scaler):\n",
        "  df = pd.get_dummies(df, columns=one_hot_encoded_lst)\n",
        "\n",
        "  df['Gender'] = df['Gender'].map({'F':0, 'M':1})\n",
        "  df['Visted_Previously'] = df['Visted_Previously'].map({'No':0, 'Yes':1})\n",
        "  df['Previous_Cancellations'] = df['Previous_Cancellations'].map({'No':0, 'Yes':1})\n",
        "  df['Required_Car_Parking'] = df['Required_Car_Parking'].map({'Yes':1, 'No':0})\n",
        "  df['Use_Promotion'] = df['Use_Promotion'].map({'Yes':1, 'No':0})\n",
        "\n",
        "  df[dates[0]] = pd.to_datetime(df[dates[0]])\n",
        "  df[dates[1]] = pd.to_datetime(df[dates[1]])\n",
        "  df[dates[2]] = pd.to_datetime(df[dates[2]])\n",
        "\n",
        "  df['Expected_stay'] = (df[dates[1]] - df[dates[0]]).dt.days\n",
        "  df['Booking_to_checkingin'] = (df[dates[0]] - df[dates[2]]).dt.days\n",
        "  df['Month_of_stay'] = df[dates[0]].dt.month\n",
        "\n",
        "  weekdayin = df[dates[0]].dt.dayofweek\n",
        "  weekdayout = df[dates[1]].dt.dayofweek\n",
        "  from pandas import DataFrame\n",
        "\n",
        "  fina = []\n",
        "  for x,y in zip(weekdayin, weekdayout):\n",
        "    t = []\n",
        "    if y >= x:\n",
        "      for i in range(x, y + 1):\n",
        "        t.append(i)\n",
        "      if 5 in t or 6 in t:\n",
        "        fina.append(1)\n",
        "      else:\n",
        "        fina.append(0)\n",
        "    else:\n",
        "      for i in range(x, 7):\n",
        "        t.append(i)\n",
        "      for j in range(0, y + 1):\n",
        "        t.append(i)\n",
        "      if 5 in t or 6 in t:\n",
        "        fina.append(1)\n",
        "      else:\n",
        "        fina.append(0)\n",
        "  df['weekend_stay'] = DataFrame(fina,columns=['weekend_stay'])['weekend_stay'].values\n",
        "  df['Actual_cost'] = df['Expected_stay'] * (df['Room_Rate']*(100 - df['Discount_Rate']))\n",
        "  df = df.drop(dates, 1)\n",
        "\n",
        "  eps = 0.001\n",
        "  df['Log Actual_cost'] = np.log(df.pop('Actual_cost')+eps)\n",
        "  df['Log Room_Rate'] = np.log(df.pop('Room_Rate')+eps)\n",
        "\n",
        "  features = np.array(df)\n",
        "  features = scaler.transform(features)\n",
        "  features = np.clip(features, -5, 5)\n",
        "\n",
        "  return features"
      ],
      "execution_count": 155,
      "outputs": []
    },
    {
      "cell_type": "code",
      "metadata": {
        "id": "BC7kq5S9RfSo"
      },
      "source": [
        "data_submission = pd.read_csv('Hotel-A-test.csv', index_col=0)"
      ],
      "execution_count": 156,
      "outputs": []
    },
    {
      "cell_type": "code",
      "metadata": {
        "colab": {
          "base_uri": "https://localhost:8080/",
          "height": 357
        },
        "id": "fDNBEr0hbcAW",
        "outputId": "9cf52fcd-e6da-45c2-b0d5-4882d5a06023"
      },
      "source": [
        "data_submission.head()"
      ],
      "execution_count": 157,
      "outputs": [
        {
          "output_type": "execute_result",
          "data": {
            "text/html": [
              "<div>\n",
              "<style scoped>\n",
              "    .dataframe tbody tr th:only-of-type {\n",
              "        vertical-align: middle;\n",
              "    }\n",
              "\n",
              "    .dataframe tbody tr th {\n",
              "        vertical-align: top;\n",
              "    }\n",
              "\n",
              "    .dataframe thead th {\n",
              "        text-align: right;\n",
              "    }\n",
              "</style>\n",
              "<table border=\"1\" class=\"dataframe\">\n",
              "  <thead>\n",
              "    <tr style=\"text-align: right;\">\n",
              "      <th></th>\n",
              "      <th>Gender</th>\n",
              "      <th>Age</th>\n",
              "      <th>Ethnicity</th>\n",
              "      <th>Educational_Level</th>\n",
              "      <th>Income</th>\n",
              "      <th>Country_region</th>\n",
              "      <th>Hotel_Type</th>\n",
              "      <th>Expected_checkin</th>\n",
              "      <th>Expected_checkout</th>\n",
              "      <th>Booking_date</th>\n",
              "      <th>Adults</th>\n",
              "      <th>Children</th>\n",
              "      <th>Babies</th>\n",
              "      <th>Meal_Type</th>\n",
              "      <th>Visted_Previously</th>\n",
              "      <th>Previous_Cancellations</th>\n",
              "      <th>Deposit_type</th>\n",
              "      <th>Booking_channel</th>\n",
              "      <th>Required_Car_Parking</th>\n",
              "      <th>Use_Promotion</th>\n",
              "      <th>Discount_Rate</th>\n",
              "      <th>Room_Rate</th>\n",
              "    </tr>\n",
              "    <tr>\n",
              "      <th>Reservation-id</th>\n",
              "      <th></th>\n",
              "      <th></th>\n",
              "      <th></th>\n",
              "      <th></th>\n",
              "      <th></th>\n",
              "      <th></th>\n",
              "      <th></th>\n",
              "      <th></th>\n",
              "      <th></th>\n",
              "      <th></th>\n",
              "      <th></th>\n",
              "      <th></th>\n",
              "      <th></th>\n",
              "      <th></th>\n",
              "      <th></th>\n",
              "      <th></th>\n",
              "      <th></th>\n",
              "      <th></th>\n",
              "      <th></th>\n",
              "      <th></th>\n",
              "      <th></th>\n",
              "      <th></th>\n",
              "    </tr>\n",
              "  </thead>\n",
              "  <tbody>\n",
              "    <tr>\n",
              "      <th>62931593</th>\n",
              "      <td>F</td>\n",
              "      <td>52</td>\n",
              "      <td>Latino</td>\n",
              "      <td>Grad</td>\n",
              "      <td>25K --50K</td>\n",
              "      <td>South</td>\n",
              "      <td>City Hotel</td>\n",
              "      <td>11/18/2016</td>\n",
              "      <td>11/19/2016</td>\n",
              "      <td>10/28/2016</td>\n",
              "      <td>3</td>\n",
              "      <td>3</td>\n",
              "      <td>0</td>\n",
              "      <td>HB</td>\n",
              "      <td>No</td>\n",
              "      <td>No</td>\n",
              "      <td>No Deposit</td>\n",
              "      <td>Direct</td>\n",
              "      <td>Yes</td>\n",
              "      <td>Yes</td>\n",
              "      <td>10</td>\n",
              "      <td>153</td>\n",
              "    </tr>\n",
              "    <tr>\n",
              "      <th>70586099</th>\n",
              "      <td>F</td>\n",
              "      <td>47</td>\n",
              "      <td>Latino</td>\n",
              "      <td>Grad</td>\n",
              "      <td>25K --50K</td>\n",
              "      <td>East</td>\n",
              "      <td>Airport Hotels</td>\n",
              "      <td>11/18/2016</td>\n",
              "      <td>11/19/2016</td>\n",
              "      <td>8/6/2016</td>\n",
              "      <td>2</td>\n",
              "      <td>1</td>\n",
              "      <td>0</td>\n",
              "      <td>FB</td>\n",
              "      <td>No</td>\n",
              "      <td>No</td>\n",
              "      <td>No Deposit</td>\n",
              "      <td>Online</td>\n",
              "      <td>No</td>\n",
              "      <td>No</td>\n",
              "      <td>0</td>\n",
              "      <td>210</td>\n",
              "    </tr>\n",
              "    <tr>\n",
              "      <th>4230648</th>\n",
              "      <td>F</td>\n",
              "      <td>28</td>\n",
              "      <td>Asian American</td>\n",
              "      <td>Grad</td>\n",
              "      <td>&lt;25K</td>\n",
              "      <td>East</td>\n",
              "      <td>City Hotel</td>\n",
              "      <td>4/28/2017</td>\n",
              "      <td>5/1/2017</td>\n",
              "      <td>4/8/2017</td>\n",
              "      <td>2</td>\n",
              "      <td>2</td>\n",
              "      <td>0</td>\n",
              "      <td>BB</td>\n",
              "      <td>No</td>\n",
              "      <td>No</td>\n",
              "      <td>No Deposit</td>\n",
              "      <td>Agent</td>\n",
              "      <td>No</td>\n",
              "      <td>Yes</td>\n",
              "      <td>5</td>\n",
              "      <td>117</td>\n",
              "    </tr>\n",
              "    <tr>\n",
              "      <th>25192322</th>\n",
              "      <td>F</td>\n",
              "      <td>65</td>\n",
              "      <td>caucasian</td>\n",
              "      <td>High-School</td>\n",
              "      <td>25K --50K</td>\n",
              "      <td>South</td>\n",
              "      <td>Airport Hotels</td>\n",
              "      <td>11/18/2016</td>\n",
              "      <td>11/20/2016</td>\n",
              "      <td>5/20/2016</td>\n",
              "      <td>1</td>\n",
              "      <td>3</td>\n",
              "      <td>2</td>\n",
              "      <td>FB</td>\n",
              "      <td>No</td>\n",
              "      <td>No</td>\n",
              "      <td>No Deposit</td>\n",
              "      <td>Online</td>\n",
              "      <td>Yes</td>\n",
              "      <td>Yes</td>\n",
              "      <td>10</td>\n",
              "      <td>107</td>\n",
              "    </tr>\n",
              "    <tr>\n",
              "      <th>80931528</th>\n",
              "      <td>M</td>\n",
              "      <td>45</td>\n",
              "      <td>African American</td>\n",
              "      <td>College</td>\n",
              "      <td>25K --50K</td>\n",
              "      <td>South</td>\n",
              "      <td>City Hotel</td>\n",
              "      <td>11/18/2016</td>\n",
              "      <td>11/20/2016</td>\n",
              "      <td>10/31/2016</td>\n",
              "      <td>3</td>\n",
              "      <td>1</td>\n",
              "      <td>0</td>\n",
              "      <td>BB</td>\n",
              "      <td>No</td>\n",
              "      <td>No</td>\n",
              "      <td>Refundable</td>\n",
              "      <td>Agent</td>\n",
              "      <td>No</td>\n",
              "      <td>No</td>\n",
              "      <td>0</td>\n",
              "      <td>119</td>\n",
              "    </tr>\n",
              "  </tbody>\n",
              "</table>\n",
              "</div>"
            ],
            "text/plain": [
              "               Gender  Age  ... Discount_Rate Room_Rate\n",
              "Reservation-id              ...                        \n",
              "62931593            F   52  ...            10       153\n",
              "70586099            F   47  ...             0       210\n",
              "4230648             F   28  ...             5       117\n",
              "25192322            F   65  ...            10       107\n",
              "80931528            M   45  ...             0       119\n",
              "\n",
              "[5 rows x 22 columns]"
            ]
          },
          "metadata": {
            "tags": []
          },
          "execution_count": 157
        }
      ]
    },
    {
      "cell_type": "code",
      "metadata": {
        "id": "Ta8bHkXuZk4N"
      },
      "source": [
        "submission_features = prepare_dataset(data_submission, one_hot_encoded_lst, dates, scaler)"
      ],
      "execution_count": 158,
      "outputs": []
    },
    {
      "cell_type": "code",
      "metadata": {
        "id": "hCamaWMhbipq"
      },
      "source": [
        "submission_predictions = model.predict(submission_features)"
      ],
      "execution_count": 68,
      "outputs": []
    },
    {
      "cell_type": "code",
      "metadata": {
        "id": "nGyOcMcRtkNL"
      },
      "source": [
        "submission_predictions = predict_combined_model(submission_features)"
      ],
      "execution_count": 162,
      "outputs": []
    },
    {
      "cell_type": "code",
      "metadata": {
        "colab": {
          "base_uri": "https://localhost:8080/"
        },
        "id": "2ej5-wNxdn2d",
        "outputId": "6452f6f5-cc8f-44ab-88c1-609f7b1ac2e9"
      },
      "source": [
        "submission_predictions = submission_predictions.tolist()\n",
        "submission_predictions = [x + 1 for x in submission_predictions]\n",
        "submission_predictions.count(1), submission_predictions.count(2), submission_predictions.count(3)"
      ],
      "execution_count": 163,
      "outputs": [
        {
          "output_type": "execute_result",
          "data": {
            "text/plain": [
              "(4160, 126, 32)"
            ]
          },
          "metadata": {
            "tags": []
          },
          "execution_count": 163
        }
      ]
    },
    {
      "cell_type": "code",
      "metadata": {
        "colab": {
          "base_uri": "https://localhost:8080/"
        },
        "id": "Hw7hnye3d55q",
        "outputId": "dfa1f42e-ee08-4a71-c71c-9d4ed5db5f33"
      },
      "source": [
        "print(submission_predictions)"
      ],
      "execution_count": 164,
      "outputs": [
        {
          "output_type": "stream",
          "text": [
            "[1, 1, 1, 1, 1, 1, 1, 1, 1, 1, 1, 1, 1, 1, 1, 1, 1, 1, 1, 1, 1, 2, 1, 1, 1, 1, 1, 1, 1, 1, 1, 1, 1, 1, 1, 1, 1, 1, 1, 1, 1, 1, 1, 1, 1, 1, 1, 1, 1, 1, 1, 1, 1, 1, 1, 1, 1, 1, 1, 1, 1, 1, 1, 1, 2, 1, 1, 1, 1, 1, 1, 1, 1, 1, 1, 1, 1, 1, 1, 1, 1, 3, 1, 1, 1, 1, 1, 1, 1, 1, 1, 1, 1, 1, 1, 1, 1, 1, 1, 1, 1, 1, 1, 1, 1, 2, 1, 1, 1, 1, 1, 1, 1, 1, 1, 1, 1, 1, 1, 1, 1, 1, 1, 1, 1, 1, 1, 1, 1, 1, 1, 1, 1, 1, 1, 1, 1, 1, 1, 1, 3, 1, 1, 1, 1, 1, 1, 2, 1, 1, 2, 1, 1, 1, 1, 1, 1, 1, 1, 1, 1, 1, 1, 1, 1, 1, 1, 1, 1, 2, 1, 1, 1, 1, 1, 1, 1, 1, 1, 1, 1, 1, 1, 1, 1, 1, 1, 1, 1, 1, 1, 1, 1, 1, 1, 1, 1, 1, 1, 1, 1, 1, 1, 1, 1, 1, 1, 1, 1, 1, 1, 1, 1, 1, 1, 1, 1, 1, 1, 1, 1, 1, 1, 1, 2, 1, 1, 1, 1, 1, 1, 1, 1, 1, 1, 1, 1, 1, 1, 1, 1, 1, 1, 1, 1, 1, 1, 1, 1, 1, 1, 1, 1, 1, 1, 1, 1, 2, 1, 1, 1, 1, 1, 1, 1, 1, 1, 1, 1, 1, 1, 1, 1, 1, 1, 1, 1, 1, 1, 1, 1, 1, 1, 1, 1, 1, 1, 1, 1, 1, 1, 1, 1, 1, 1, 1, 1, 1, 1, 1, 1, 1, 1, 1, 1, 1, 1, 1, 1, 1, 1, 1, 1, 1, 1, 1, 1, 1, 1, 1, 1, 1, 1, 1, 1, 1, 1, 1, 1, 1, 1, 1, 1, 1, 2, 1, 1, 1, 1, 1, 1, 1, 1, 1, 1, 1, 1, 1, 1, 1, 1, 1, 1, 1, 1, 1, 1, 1, 1, 1, 1, 1, 1, 1, 1, 1, 1, 1, 1, 1, 1, 1, 1, 1, 1, 1, 1, 1, 1, 1, 1, 1, 1, 1, 1, 1, 1, 1, 1, 1, 1, 1, 1, 1, 1, 1, 1, 1, 1, 1, 1, 1, 1, 1, 1, 1, 1, 2, 1, 1, 1, 1, 1, 1, 1, 1, 1, 1, 1, 1, 1, 1, 1, 1, 1, 1, 1, 2, 1, 1, 1, 1, 1, 1, 2, 1, 3, 1, 1, 1, 1, 1, 1, 1, 1, 1, 1, 1, 1, 1, 1, 2, 1, 1, 1, 1, 1, 1, 3, 1, 1, 1, 1, 1, 1, 1, 2, 1, 1, 1, 1, 1, 1, 2, 1, 1, 1, 1, 1, 1, 1, 1, 1, 1, 1, 1, 1, 1, 1, 1, 1, 1, 1, 1, 1, 1, 1, 1, 1, 1, 1, 1, 1, 2, 1, 1, 1, 1, 1, 2, 1, 1, 1, 1, 1, 1, 1, 1, 1, 1, 1, 1, 1, 1, 1, 1, 1, 1, 1, 1, 1, 2, 1, 1, 1, 1, 1, 1, 1, 1, 1, 1, 1, 1, 1, 1, 1, 1, 1, 1, 1, 1, 1, 1, 1, 1, 1, 1, 1, 1, 1, 1, 1, 1, 1, 1, 1, 1, 1, 1, 1, 1, 1, 1, 1, 1, 1, 1, 1, 1, 1, 1, 1, 1, 1, 1, 1, 1, 1, 1, 1, 1, 1, 1, 1, 1, 1, 1, 1, 1, 1, 1, 1, 1, 1, 1, 1, 1, 1, 1, 1, 1, 1, 1, 1, 1, 1, 1, 1, 1, 1, 1, 1, 1, 1, 1, 1, 1, 1, 1, 1, 1, 1, 1, 1, 1, 1, 1, 1, 1, 1, 1, 1, 1, 1, 1, 1, 1, 1, 1, 1, 1, 1, 1, 1, 1, 1, 1, 1, 1, 1, 2, 1, 1, 1, 1, 1, 1, 1, 1, 1, 1, 1, 1, 1, 1, 1, 1, 1, 1, 1, 1, 1, 1, 1, 3, 1, 1, 1, 1, 1, 1, 1, 1, 2, 1, 1, 1, 1, 1, 1, 1, 1, 1, 1, 1, 1, 1, 1, 1, 1, 1, 1, 1, 1, 1, 1, 1, 1, 1, 1, 1, 1, 1, 2, 1, 1, 1, 1, 1, 1, 1, 1, 1, 1, 1, 1, 1, 1, 1, 1, 1, 1, 1, 1, 1, 1, 1, 1, 1, 1, 1, 3, 2, 1, 1, 1, 1, 1, 1, 1, 1, 1, 1, 1, 1, 1, 1, 1, 1, 1, 1, 1, 1, 1, 1, 1, 1, 1, 1, 1, 1, 1, 1, 1, 2, 1, 1, 1, 1, 1, 1, 1, 1, 1, 1, 1, 1, 1, 1, 1, 1, 1, 1, 1, 1, 1, 1, 1, 1, 1, 1, 1, 2, 1, 3, 1, 1, 1, 1, 1, 1, 1, 1, 1, 1, 1, 1, 1, 1, 1, 1, 1, 1, 1, 1, 1, 1, 1, 1, 1, 1, 1, 1, 1, 1, 1, 1, 1, 1, 1, 1, 1, 1, 1, 1, 1, 1, 1, 1, 1, 1, 1, 1, 1, 1, 1, 1, 1, 1, 1, 1, 1, 1, 1, 1, 1, 1, 1, 1, 1, 2, 1, 1, 1, 1, 1, 1, 1, 1, 1, 1, 1, 1, 1, 1, 1, 1, 1, 1, 1, 1, 1, 1, 1, 1, 1, 1, 1, 1, 1, 1, 1, 1, 1, 1, 2, 1, 1, 1, 1, 1, 1, 1, 1, 1, 1, 1, 1, 2, 1, 1, 1, 1, 1, 1, 1, 1, 1, 1, 2, 1, 1, 3, 1, 1, 1, 1, 1, 1, 1, 1, 1, 1, 1, 1, 1, 1, 1, 1, 1, 1, 1, 2, 1, 1, 1, 1, 1, 1, 1, 1, 1, 1, 1, 1, 1, 1, 1, 1, 1, 1, 1, 1, 1, 1, 1, 1, 1, 1, 1, 1, 1, 1, 1, 1, 1, 1, 1, 1, 1, 1, 1, 1, 1, 1, 1, 1, 1, 1, 2, 1, 1, 1, 1, 1, 1, 1, 1, 1, 1, 1, 1, 1, 1, 1, 1, 1, 1, 1, 2, 1, 1, 2, 1, 1, 1, 1, 1, 1, 1, 1, 1, 1, 1, 1, 1, 2, 1, 1, 1, 1, 1, 1, 1, 1, 1, 1, 1, 1, 1, 1, 1, 1, 1, 1, 2, 2, 1, 2, 1, 1, 1, 1, 1, 1, 1, 1, 1, 1, 1, 1, 1, 1, 1, 1, 1, 1, 1, 1, 1, 1, 1, 1, 1, 1, 1, 1, 1, 1, 1, 1, 1, 1, 1, 1, 1, 1, 1, 2, 1, 1, 1, 1, 1, 1, 1, 1, 1, 1, 1, 1, 1, 1, 1, 1, 1, 1, 1, 1, 1, 1, 1, 1, 1, 1, 1, 1, 1, 1, 1, 1, 1, 1, 1, 1, 1, 1, 1, 1, 1, 1, 1, 1, 1, 1, 1, 1, 1, 1, 1, 1, 1, 1, 1, 1, 1, 1, 1, 1, 1, 1, 1, 1, 1, 1, 1, 1, 1, 1, 1, 1, 1, 1, 1, 1, 1, 1, 1, 1, 1, 1, 1, 1, 1, 1, 1, 1, 1, 1, 1, 1, 1, 1, 1, 1, 1, 1, 1, 2, 1, 1, 1, 1, 1, 1, 1, 1, 1, 1, 1, 1, 1, 1, 1, 1, 1, 1, 1, 1, 1, 1, 1, 1, 1, 1, 1, 1, 1, 1, 1, 1, 1, 1, 1, 1, 1, 1, 1, 1, 3, 1, 1, 1, 1, 1, 1, 1, 1, 1, 1, 1, 1, 1, 1, 1, 1, 1, 1, 1, 1, 1, 1, 1, 1, 1, 1, 1, 1, 1, 1, 1, 1, 1, 1, 1, 1, 3, 1, 1, 1, 1, 1, 1, 1, 1, 1, 1, 1, 1, 2, 1, 1, 1, 1, 1, 1, 1, 1, 1, 1, 1, 2, 1, 1, 1, 1, 1, 1, 1, 2, 1, 1, 1, 1, 1, 1, 1, 1, 1, 1, 1, 1, 1, 1, 1, 2, 1, 1, 1, 1, 1, 1, 1, 1, 1, 1, 1, 1, 1, 1, 1, 1, 1, 1, 1, 1, 1, 1, 1, 1, 1, 1, 1, 1, 1, 1, 1, 1, 1, 1, 1, 1, 1, 1, 2, 1, 1, 1, 1, 1, 1, 1, 1, 1, 1, 1, 1, 1, 1, 1, 1, 1, 1, 1, 1, 1, 1, 1, 1, 1, 1, 1, 1, 1, 1, 1, 1, 1, 1, 1, 1, 1, 1, 1, 1, 1, 1, 1, 1, 1, 1, 1, 1, 1, 1, 1, 1, 1, 1, 1, 1, 1, 1, 1, 1, 1, 1, 1, 1, 1, 1, 1, 1, 1, 1, 1, 1, 1, 1, 1, 1, 1, 1, 1, 1, 1, 1, 1, 1, 1, 1, 1, 1, 1, 1, 1, 1, 1, 1, 1, 1, 1, 1, 2, 1, 1, 1, 1, 1, 1, 1, 1, 1, 1, 1, 1, 1, 1, 1, 1, 1, 1, 1, 1, 1, 2, 1, 1, 1, 1, 1, 1, 1, 1, 1, 1, 1, 1, 1, 1, 1, 1, 1, 1, 1, 1, 1, 1, 1, 2, 1, 1, 1, 2, 1, 1, 1, 1, 1, 1, 1, 1, 1, 1, 1, 1, 1, 1, 1, 1, 1, 1, 1, 1, 1, 1, 1, 1, 1, 1, 1, 1, 1, 1, 1, 1, 1, 1, 1, 1, 1, 1, 1, 1, 1, 1, 1, 1, 1, 1, 1, 1, 1, 1, 1, 1, 1, 1, 1, 1, 2, 1, 1, 1, 1, 1, 1, 1, 1, 1, 1, 1, 2, 1, 1, 1, 1, 2, 1, 1, 1, 1, 1, 1, 1, 1, 1, 1, 1, 1, 1, 1, 1, 1, 2, 1, 2, 2, 1, 1, 1, 1, 1, 1, 1, 1, 1, 1, 1, 1, 1, 1, 1, 1, 1, 1, 1, 1, 1, 1, 1, 1, 1, 1, 1, 1, 1, 1, 1, 1, 1, 1, 1, 1, 1, 1, 1, 1, 1, 1, 1, 1, 1, 1, 1, 1, 1, 1, 1, 1, 1, 1, 1, 1, 1, 1, 2, 1, 1, 1, 1, 1, 1, 1, 1, 1, 1, 1, 1, 1, 1, 1, 1, 1, 1, 1, 1, 1, 1, 1, 1, 1, 1, 1, 1, 1, 1, 1, 1, 1, 1, 1, 1, 1, 1, 1, 1, 1, 1, 1, 1, 1, 1, 1, 1, 1, 1, 1, 1, 1, 1, 2, 1, 1, 1, 1, 1, 1, 1, 1, 1, 1, 1, 1, 2, 1, 2, 1, 1, 1, 1, 1, 1, 1, 1, 1, 1, 1, 1, 1, 1, 1, 1, 3, 1, 1, 1, 1, 1, 1, 1, 1, 1, 1, 1, 1, 1, 1, 1, 1, 1, 1, 1, 1, 1, 1, 1, 1, 1, 1, 1, 1, 1, 1, 2, 1, 1, 1, 1, 1, 1, 1, 1, 1, 1, 1, 1, 1, 1, 1, 1, 1, 1, 1, 1, 1, 1, 1, 1, 1, 1, 1, 1, 1, 1, 1, 1, 1, 1, 1, 1, 1, 1, 1, 1, 1, 1, 1, 1, 1, 1, 1, 1, 1, 1, 1, 1, 1, 1, 1, 1, 1, 1, 1, 1, 1, 1, 1, 1, 1, 1, 1, 1, 1, 1, 2, 1, 1, 1, 1, 1, 1, 1, 1, 1, 1, 1, 1, 1, 1, 1, 1, 1, 1, 1, 1, 1, 1, 1, 1, 1, 1, 1, 1, 1, 1, 1, 1, 1, 1, 1, 1, 1, 1, 1, 1, 1, 1, 1, 1, 1, 1, 1, 1, 1, 1, 1, 1, 1, 1, 1, 1, 1, 1, 1, 1, 1, 1, 1, 1, 2, 1, 1, 1, 1, 1, 1, 1, 1, 1, 1, 1, 1, 1, 1, 1, 1, 1, 1, 1, 1, 1, 1, 1, 1, 1, 1, 1, 2, 1, 1, 1, 1, 1, 1, 1, 1, 1, 1, 1, 1, 1, 1, 1, 1, 1, 1, 1, 1, 1, 1, 1, 1, 1, 1, 1, 1, 1, 1, 1, 1, 1, 1, 1, 1, 1, 1, 1, 1, 1, 1, 2, 1, 1, 1, 1, 1, 1, 1, 1, 1, 1, 1, 1, 1, 1, 1, 1, 1, 1, 1, 1, 1, 1, 1, 1, 1, 1, 1, 1, 1, 1, 1, 1, 1, 1, 1, 1, 1, 1, 1, 1, 1, 1, 1, 1, 1, 1, 1, 1, 1, 1, 1, 1, 1, 1, 1, 1, 1, 1, 1, 1, 1, 1, 1, 1, 1, 1, 1, 1, 1, 1, 1, 1, 1, 1, 1, 1, 1, 1, 2, 1, 1, 1, 1, 2, 1, 1, 1, 1, 1, 1, 1, 1, 1, 1, 1, 1, 1, 1, 1, 1, 1, 1, 1, 1, 1, 1, 1, 1, 1, 2, 1, 1, 1, 1, 1, 1, 1, 1, 1, 1, 1, 1, 1, 1, 1, 1, 1, 1, 1, 1, 1, 1, 1, 1, 1, 1, 1, 1, 1, 1, 1, 1, 1, 1, 1, 1, 1, 1, 1, 1, 1, 1, 1, 1, 1, 1, 1, 1, 1, 1, 1, 1, 1, 1, 1, 1, 1, 1, 1, 1, 1, 1, 1, 2, 1, 1, 1, 1, 1, 1, 1, 1, 1, 1, 1, 1, 1, 1, 1, 1, 1, 1, 1, 1, 1, 1, 2, 1, 1, 1, 1, 1, 1, 1, 1, 1, 1, 2, 1, 1, 1, 1, 1, 1, 1, 1, 1, 1, 1, 1, 1, 2, 1, 1, 1, 1, 1, 1, 1, 1, 1, 1, 1, 1, 1, 1, 1, 1, 1, 1, 1, 1, 1, 1, 1, 1, 3, 1, 1, 1, 1, 1, 1, 1, 1, 1, 1, 1, 2, 1, 3, 1, 1, 1, 1, 1, 1, 1, 2, 1, 1, 1, 1, 1, 1, 1, 1, 1, 1, 1, 1, 3, 1, 1, 1, 1, 3, 1, 1, 1, 1, 1, 1, 3, 1, 1, 1, 1, 1, 1, 1, 1, 1, 1, 1, 1, 1, 1, 1, 1, 1, 1, 1, 1, 1, 1, 1, 1, 1, 1, 1, 1, 1, 1, 1, 1, 1, 1, 1, 1, 1, 2, 1, 1, 1, 1, 1, 1, 1, 1, 1, 1, 1, 1, 1, 1, 1, 1, 1, 1, 1, 1, 1, 1, 1, 1, 1, 1, 1, 1, 1, 1, 1, 1, 1, 1, 1, 1, 1, 1, 1, 1, 1, 1, 1, 1, 1, 1, 1, 1, 1, 1, 1, 2, 1, 1, 1, 1, 1, 1, 1, 1, 1, 1, 1, 1, 1, 1, 1, 1, 1, 1, 3, 1, 2, 1, 1, 1, 1, 1, 1, 1, 1, 1, 1, 1, 1, 1, 3, 1, 1, 1, 1, 1, 1, 1, 1, 1, 1, 1, 1, 1, 2, 1, 1, 1, 1, 1, 1, 1, 1, 1, 1, 1, 1, 1, 1, 1, 1, 1, 1, 1, 1, 1, 1, 1, 1, 1, 1, 1, 1, 1, 1, 1, 1, 1, 1, 1, 3, 1, 1, 1, 1, 1, 1, 1, 1, 1, 1, 1, 1, 1, 1, 1, 1, 1, 1, 1, 1, 1, 1, 1, 1, 1, 1, 1, 1, 1, 1, 1, 1, 1, 1, 1, 1, 1, 1, 1, 1, 1, 1, 1, 1, 1, 3, 1, 1, 1, 1, 1, 1, 1, 1, 1, 1, 1, 1, 1, 1, 1, 3, 1, 1, 1, 1, 1, 1, 1, 2, 3, 1, 1, 1, 1, 1, 1, 1, 1, 1, 1, 1, 1, 1, 1, 1, 1, 1, 1, 1, 1, 1, 1, 2, 1, 1, 1, 1, 1, 1, 1, 1, 1, 1, 1, 1, 1, 1, 1, 1, 1, 1, 1, 1, 1, 1, 1, 1, 1, 1, 1, 1, 1, 1, 1, 1, 1, 1, 1, 1, 1, 1, 1, 1, 1, 1, 1, 1, 1, 1, 1, 1, 1, 1, 1, 1, 1, 1, 1, 1, 1, 1, 1, 1, 1, 1, 1, 1, 1, 1, 1, 1, 1, 1, 1, 1, 1, 1, 1, 1, 1, 1, 1, 1, 1, 1, 1, 1, 1, 1, 2, 1, 1, 1, 1, 1, 1, 1, 1, 1, 3, 1, 1, 1, 1, 1, 1, 1, 1, 1, 1, 1, 1, 1, 1, 1, 1, 1, 1, 1, 1, 1, 1, 1, 2, 1, 1, 1, 1, 1, 1, 1, 1, 1, 1, 1, 1, 1, 1, 1, 1, 1, 1, 1, 1, 1, 1, 1, 1, 1, 1, 1, 1, 1, 1, 1, 1, 1, 1, 1, 1, 1, 1, 1, 1, 1, 1, 1, 1, 1, 1, 1, 1, 1, 1, 1, 1, 1, 1, 1, 1, 1, 1, 1, 1, 1, 1, 1, 1, 1, 1, 1, 2, 1, 1, 1, 1, 1, 1, 1, 1, 1, 1, 1, 1, 1, 1, 1, 1, 1, 1, 1, 1, 1, 1, 1, 1, 1, 1, 1, 1, 1, 1, 1, 1, 1, 1, 1, 2, 1, 3, 1, 1, 1, 1, 1, 1, 1, 1, 1, 1, 1, 1, 1, 1, 1, 1, 1, 1, 1, 1, 1, 1, 1, 1, 1, 1, 1, 1, 1, 1, 1, 1, 1, 1, 1, 1, 1, 1, 1, 1, 1, 1, 1, 1, 1, 1, 1, 1, 1, 1, 1, 1, 1, 1, 1, 1, 1, 1, 1, 2, 1, 1, 1, 1, 1, 1, 1, 1, 1, 1, 1, 1, 1, 1, 1, 1, 2, 1, 1, 1, 1, 1, 1, 1, 1, 1, 1, 1, 1, 1, 1, 1, 1, 1, 1, 1, 1, 1, 1, 1, 1, 1, 1, 1, 1, 1, 3, 1, 1, 1, 1, 1, 1, 1, 2, 1, 1, 1, 1, 1, 1, 1, 1, 1, 1, 1, 1, 1, 1, 1, 1, 1, 1, 1, 1, 1, 1, 1, 1, 1, 1, 1, 1, 1, 1, 1, 1, 1, 1, 1, 1, 1, 1, 1, 1, 1, 1, 1, 1, 2, 1, 1, 1, 1, 1, 1, 1, 1, 1, 1, 1, 1, 1, 1, 1, 1, 1, 1, 1, 1, 1, 1, 1, 1, 1, 1, 1, 1, 1, 1, 2, 1, 1, 1, 1, 1, 1, 1, 1, 1, 1, 1, 1, 1, 1, 1, 1, 1, 1, 1, 1, 1, 2, 1, 1, 2, 1, 1, 1, 1, 1, 1, 1, 1, 1, 1, 1, 1, 1, 1, 1, 3, 1, 1, 1, 1, 3, 1, 1, 1, 1, 1, 1, 1, 1, 1, 1, 1, 1, 1, 1, 1, 1, 1, 1, 1, 1, 1, 1, 1, 1, 2, 1, 1, 1, 1, 1, 1, 1, 1, 1, 1, 1, 1, 1, 1, 1, 1, 1, 1, 1, 1, 1, 1, 2, 1, 1, 1, 1, 1, 1, 1, 1, 1, 1, 1, 2, 1, 2, 1, 1, 1, 1, 1, 1, 1, 1, 1, 1, 1, 1, 1, 1, 1, 1, 1, 1, 1, 1, 1, 1, 1, 1, 1, 1, 1, 1, 1, 1, 1, 1, 1, 1, 1, 1, 1, 1, 1, 1, 1, 1, 1, 1, 1, 1, 1, 1, 1, 1, 1, 1, 1, 1, 1, 1, 3, 2, 1, 1, 1, 2, 1, 1, 1, 1, 1, 1, 1, 1, 1, 1, 1, 1, 1, 2, 1, 1, 1, 1, 1, 1, 1, 1, 1, 1, 1, 2, 1, 1, 1, 1, 1, 1, 1, 1, 1, 1, 1, 1, 1, 1, 1, 1, 1, 1, 1, 1, 1, 1, 1, 1, 1, 1, 1, 1, 1, 1, 1, 1, 1, 1, 1, 1, 1, 1, 1, 1, 1, 1, 1, 1, 1, 3, 1, 1, 1, 1, 1, 1, 1, 1, 1, 1, 1, 1, 1, 1, 1, 1, 1, 1, 1, 1, 1, 1, 1, 1, 1, 1, 1, 1, 1, 1, 1, 1, 1, 1, 1, 1, 1, 1, 1, 1, 1, 1, 1, 2, 1, 1, 1, 1, 1, 1, 1, 1, 1, 1, 1, 1, 1, 1, 1, 1, 1, 1, 1, 1, 1, 1, 1, 1, 1, 1, 1, 1, 1, 1, 1, 1, 1, 1, 1, 1, 1, 1, 1, 1, 1, 1, 1, 1, 1, 1, 1, 1, 1, 1, 1, 1, 1, 1, 1, 1, 1, 1, 1, 1, 1, 1, 1, 1, 1, 1, 1, 1, 1, 1, 1, 1, 1, 1, 1, 1, 1, 1, 1, 1, 1, 1, 1, 1, 1, 1, 1, 1, 1, 1, 1, 1, 1, 1, 2, 1, 1, 1, 1, 1, 1, 1, 1, 1, 1, 1, 1, 1, 1, 1, 1, 1, 1, 1, 1, 2, 1, 1, 1, 1, 1, 1, 1, 1, 1, 1, 1, 1, 1, 1, 1, 1, 1, 1, 1, 1, 1, 1, 1, 1, 1, 1, 2, 1, 1, 1, 1, 1, 1, 1, 1, 1, 1, 1, 1, 1, 1, 1, 1, 1, 1, 1, 1, 1, 1, 1, 1, 1, 1, 1, 1, 1, 1, 1, 1, 1, 1, 1, 1, 1, 1, 1, 1, 1, 1, 1, 1, 1, 1, 1, 1, 1, 1, 1, 1, 1, 1, 1, 1, 1, 1, 1, 1, 3, 1, 1, 1, 1, 1, 1, 1, 1, 1, 1, 1, 1, 1, 1, 1, 1, 1, 1, 1, 1, 1, 1, 1, 1, 1, 1, 1, 1, 1, 1, 1, 1, 1, 2, 1, 1, 1, 1, 1, 1, 1, 1, 1, 1, 1, 1, 1, 2, 1, 1, 1, 1, 1, 2, 2, 1, 1, 2, 1, 1, 1, 1, 1, 1, 1, 1, 1, 1, 1, 1, 1, 1, 2, 1, 1, 1, 1, 1, 1, 1, 1, 1, 1, 1, 1, 1, 1, 1, 1, 1, 1, 1, 1, 2, 1, 1, 1, 1, 1, 2, 1, 1, 1, 1, 1, 1, 1, 1, 1, 1, 1, 1, 1, 1, 1, 1, 1, 1, 1, 2, 1, 1, 1, 1, 1, 1, 1, 1, 1, 1, 1, 1, 1, 1, 1, 1, 1, 2, 1, 1, 1, 1, 1, 1, 1, 1, 1, 1, 1, 1, 1, 1, 1, 1, 1, 1, 1, 1, 1, 1, 1, 1, 1, 2, 1, 1, 1, 1, 1, 1, 1, 1, 1, 1, 1, 1, 1, 1, 1, 1, 1, 1, 1, 1, 1, 1, 2, 1, 1, 1, 1, 1, 1, 1, 1, 1, 1, 1, 1, 1, 1, 1, 1, 1, 1, 1, 1, 1, 1, 1, 1, 1, 1, 1, 1, 1, 1, 1, 1, 1, 1, 1, 1, 1, 1, 1, 1, 1, 1, 1, 1, 1, 1, 1, 1, 1, 1, 1, 1, 1, 1, 1, 1, 1, 1, 2, 1, 1, 1, 1, 1, 1, 1, 1, 1, 1, 1, 1, 1, 1, 1, 1, 1, 1, 1, 1, 1, 1, 1, 1, 1, 1, 1, 1, 1, 1, 1, 1, 1, 1, 1, 1, 1, 1, 1, 1, 1, 1, 1, 1, 1, 1, 1, 1, 1, 1, 1, 1, 1, 1, 1, 2, 1, 1, 1, 1, 1, 1, 1, 1, 1, 1, 1, 1, 1, 1, 2, 3, 1, 1, 1, 1, 1, 1, 1, 1, 1, 2, 1, 1, 1, 1, 1, 1, 1, 1, 1, 1, 1, 1, 1, 1, 1, 1, 1, 1, 1, 1, 1, 1, 1, 1, 1, 1, 1, 1, 2, 1, 1, 1, 1, 1, 1, 1, 1, 1, 1, 1, 1, 1, 1, 1, 1, 1, 1, 1, 1, 1, 1, 1, 1, 1, 1, 1, 1, 1, 1, 1, 1, 1, 1, 1, 1, 1, 1, 1, 1, 1, 1, 1, 1, 1, 1, 1, 1, 1, 1, 1, 1, 1, 1, 1, 1, 1, 1, 1, 1, 1, 1, 1, 1, 1, 1, 1, 1, 1, 1, 1, 1, 1, 1, 1, 1, 1, 1, 1, 1, 1, 1, 1, 1, 1, 1, 1, 1, 1, 1, 1, 1, 1, 1, 2, 2, 1, 1, 1, 1, 1, 1, 1, 1, 1, 1, 1, 1, 1, 1, 1, 1, 1, 1, 1, 1, 1, 1, 1, 1, 1, 1, 1, 1, 1, 1, 1, 1, 1, 1, 1, 1, 1, 1, 1, 1, 1, 1, 1, 1, 1, 1, 1, 1, 2, 3, 1, 1, 1, 1, 1, 1, 1, 1, 1, 1, 1, 1, 1, 1, 1, 1, 1, 1, 1, 1, 1, 1, 1, 1, 1, 1, 1, 1, 1, 1, 1, 1, 1, 1, 1, 1, 1, 1, 1, 1, 1, 1, 1, 1, 1, 1, 1, 1, 1, 1, 1, 1, 1, 1, 1, 1, 1, 1, 1, 1, 1, 1, 1, 1, 1, 1, 1, 1, 1, 1, 1, 1, 1, 1, 1, 1, 1, 1, 1, 1, 1, 1, 1, 1, 2, 1, 1, 2, 1, 1, 1, 1, 1, 1, 1, 1, 1, 1, 1, 1, 1, 1, 1, 1, 1, 1, 1, 1, 1, 1, 1, 1, 1, 1, 1, 1, 1, 1, 1, 1, 1, 1, 1, 1, 1, 1, 1, 1, 1, 1, 1, 1, 1, 1, 1, 1, 1, 1, 1, 1, 1, 1, 1, 1, 1, 1, 1, 1, 1, 1, 1, 1, 1, 1, 1, 1, 1, 1, 2, 1, 1, 1, 1, 1, 1, 1, 1, 1, 1, 1, 1, 1, 1, 1, 1, 1, 1, 1, 1, 1, 1, 1, 1, 1, 1, 1, 1, 1, 1, 1, 1, 1, 1, 1, 1, 1, 1, 1, 1, 1, 1, 1, 1, 1, 1, 1, 1, 1, 1, 1, 1, 1, 1, 1, 1, 1, 1, 1, 1, 1, 1, 1, 1, 1, 1, 1, 1, 1, 1, 1, 1, 1, 1, 1, 1, 1, 1, 1, 1, 1, 1, 1, 1, 1, 1, 1, 1, 1, 1, 1, 1, 1, 1, 1, 1, 1, 1, 1, 1, 1, 1, 1, 1, 1, 1, 2, 1, 1, 1, 1, 1, 1, 1, 1, 1, 1, 1, 1, 1, 1, 1, 1, 1, 1, 1, 1, 1, 1, 1, 1, 1, 1, 1, 1, 1, 1, 1, 2, 1, 1, 1, 1, 1, 1, 1, 1, 1, 1, 1, 1, 1, 1, 1, 1, 1, 1, 1, 1, 1, 1, 1, 1, 1, 1, 1, 1, 1, 1, 1, 1, 1, 1, 1, 1, 1, 1, 1, 1, 2, 1, 1]\n"
          ],
          "name": "stdout"
        }
      ]
    },
    {
      "cell_type": "code",
      "metadata": {
        "id": "-NFvfxSCcy1Y"
      },
      "source": [
        "col_drop = data_submission.columns.tolist()"
      ],
      "execution_count": 165,
      "outputs": []
    },
    {
      "cell_type": "code",
      "metadata": {
        "id": "PyJiexJAcac-"
      },
      "source": [
        "submission = data_submission.drop(col_drop, 1)"
      ],
      "execution_count": 166,
      "outputs": []
    },
    {
      "cell_type": "code",
      "metadata": {
        "id": "UVDFU94MdF9Y"
      },
      "source": [
        "submission['Reservation_status'] = DataFrame(submission_predictions,columns=['Reservation_status'])['Reservation_status'].values"
      ],
      "execution_count": 167,
      "outputs": []
    },
    {
      "cell_type": "code",
      "metadata": {
        "colab": {
          "base_uri": "https://localhost:8080/",
          "height": 235
        },
        "id": "IWPkUTRqe5pN",
        "outputId": "cd678abd-6c0c-446d-ed4a-caa8e0725438"
      },
      "source": [
        "submission.head()"
      ],
      "execution_count": 168,
      "outputs": [
        {
          "output_type": "execute_result",
          "data": {
            "text/html": [
              "<div>\n",
              "<style scoped>\n",
              "    .dataframe tbody tr th:only-of-type {\n",
              "        vertical-align: middle;\n",
              "    }\n",
              "\n",
              "    .dataframe tbody tr th {\n",
              "        vertical-align: top;\n",
              "    }\n",
              "\n",
              "    .dataframe thead th {\n",
              "        text-align: right;\n",
              "    }\n",
              "</style>\n",
              "<table border=\"1\" class=\"dataframe\">\n",
              "  <thead>\n",
              "    <tr style=\"text-align: right;\">\n",
              "      <th></th>\n",
              "      <th>Reservation_status</th>\n",
              "    </tr>\n",
              "    <tr>\n",
              "      <th>Reservation-id</th>\n",
              "      <th></th>\n",
              "    </tr>\n",
              "  </thead>\n",
              "  <tbody>\n",
              "    <tr>\n",
              "      <th>62931593</th>\n",
              "      <td>1</td>\n",
              "    </tr>\n",
              "    <tr>\n",
              "      <th>70586099</th>\n",
              "      <td>1</td>\n",
              "    </tr>\n",
              "    <tr>\n",
              "      <th>4230648</th>\n",
              "      <td>1</td>\n",
              "    </tr>\n",
              "    <tr>\n",
              "      <th>25192322</th>\n",
              "      <td>1</td>\n",
              "    </tr>\n",
              "    <tr>\n",
              "      <th>80931528</th>\n",
              "      <td>1</td>\n",
              "    </tr>\n",
              "  </tbody>\n",
              "</table>\n",
              "</div>"
            ],
            "text/plain": [
              "                Reservation_status\n",
              "Reservation-id                    \n",
              "62931593                         1\n",
              "70586099                         1\n",
              "4230648                          1\n",
              "25192322                         1\n",
              "80931528                         1"
            ]
          },
          "metadata": {
            "tags": []
          },
          "execution_count": 168
        }
      ]
    },
    {
      "cell_type": "code",
      "metadata": {
        "id": "tniFzEWcdHNl"
      },
      "source": [
        "submission.to_csv('submission-2-day3.csv')"
      ],
      "execution_count": 169,
      "outputs": []
    },
    {
      "cell_type": "code",
      "metadata": {
        "id": "281kpcytYhmy"
      },
      "source": [
        ""
      ],
      "execution_count": null,
      "outputs": []
    }
  ]
}