{
  "nbformat": 4,
  "nbformat_minor": 0,
  "metadata": {
    "colab": {
      "name": "datstorm2-1stround-chandra.ipynb",
      "provenance": [],
      "collapsed_sections": [],
      "toc_visible": true
    },
    "kernelspec": {
      "display_name": "Python 3",
      "name": "python3"
    }
  },
  "cells": [
    {
      "cell_type": "markdown",
      "metadata": {
        "id": "zzUgjLHi7AAB"
      },
      "source": [
        "Downloading the Dataset"
      ]
    },
    {
      "cell_type": "code",
      "metadata": {
        "colab": {
          "base_uri": "https://localhost:8080/"
        },
        "id": "JxXp71Kk4vHu",
        "outputId": "1624066e-98d9-4904-c25b-5f37adc7b760"
      },
      "source": [
        "!gdown --id 1MIKKj8Gi-xUwhsYt6xEV6FSmX0_Le8iL\n",
        "!unzip -q 'data-storm-20.zip'"
      ],
      "execution_count": null,
      "outputs": [
        {
          "output_type": "stream",
          "text": [
            "Downloading...\n",
            "From: https://drive.google.com/uc?id=1MIKKj8Gi-xUwhsYt6xEV6FSmX0_Le8iL\n",
            "To: /content/data-storm-20.zip\n",
            "\r  0% 0.00/1.23M [00:00<?, ?B/s]\r100% 1.23M/1.23M [00:00<00:00, 81.9MB/s]\n"
          ],
          "name": "stdout"
        }
      ]
    },
    {
      "cell_type": "markdown",
      "metadata": {
        "id": "sOC5ptGU7FFE"
      },
      "source": [
        "### Preparing Data & Feature Engineering"
      ]
    },
    {
      "cell_type": "code",
      "metadata": {
        "id": "zaX8cK0l47ke"
      },
      "source": [
        "import pandas as pd\n",
        "import numpy as np\n",
        "import matplotlib.pyplot as plt"
      ],
      "execution_count": 267,
      "outputs": []
    },
    {
      "cell_type": "code",
      "metadata": {
        "id": "uv0bUOKW5EFt"
      },
      "source": [
        "data_train = pd.read_csv('Hotel-A-train.csv', index_col=0)\n",
        "data_validation = pd.read_csv('Hotel-A-validation.csv', index_col = 0)"
      ],
      "execution_count": 268,
      "outputs": []
    },
    {
      "cell_type": "code",
      "metadata": {
        "colab": {
          "base_uri": "https://localhost:8080/"
        },
        "id": "TbkdjpLZXBGt",
        "outputId": "849b2ead-b73b-4e1b-c40a-2b9b6a6770f3"
      },
      "source": [
        "data_train.shape, data_validation.shape"
      ],
      "execution_count": 269,
      "outputs": [
        {
          "output_type": "execute_result",
          "data": {
            "text/plain": [
              "((27499, 23), (2749, 23))"
            ]
          },
          "metadata": {
            "tags": []
          },
          "execution_count": 269
        }
      ]
    },
    {
      "cell_type": "code",
      "metadata": {
        "id": "OOaFxRuPWz-6"
      },
      "source": [
        "data_train = data_train.append(data_validation)"
      ],
      "execution_count": 270,
      "outputs": []
    },
    {
      "cell_type": "code",
      "metadata": {
        "colab": {
          "base_uri": "https://localhost:8080/"
        },
        "id": "AOsm_1DsW_Jj",
        "outputId": "e28564ad-3fe7-43c6-d691-bee705e1bdac"
      },
      "source": [
        "data_train.shape"
      ],
      "execution_count": 271,
      "outputs": [
        {
          "output_type": "execute_result",
          "data": {
            "text/plain": [
              "(30248, 23)"
            ]
          },
          "metadata": {
            "tags": []
          },
          "execution_count": 271
        }
      ]
    },
    {
      "cell_type": "code",
      "metadata": {
        "colab": {
          "base_uri": "https://localhost:8080/",
          "height": 323
        },
        "id": "0Ti5CWq95bL-",
        "outputId": "d55a85b5-1f62-4702-ef8e-86f49a9c7cad"
      },
      "source": [
        "data_train.head()"
      ],
      "execution_count": 272,
      "outputs": [
        {
          "output_type": "execute_result",
          "data": {
            "text/html": [
              "<div>\n",
              "<style scoped>\n",
              "    .dataframe tbody tr th:only-of-type {\n",
              "        vertical-align: middle;\n",
              "    }\n",
              "\n",
              "    .dataframe tbody tr th {\n",
              "        vertical-align: top;\n",
              "    }\n",
              "\n",
              "    .dataframe thead th {\n",
              "        text-align: right;\n",
              "    }\n",
              "</style>\n",
              "<table border=\"1\" class=\"dataframe\">\n",
              "  <thead>\n",
              "    <tr style=\"text-align: right;\">\n",
              "      <th></th>\n",
              "      <th>Gender</th>\n",
              "      <th>Age</th>\n",
              "      <th>Ethnicity</th>\n",
              "      <th>Educational_Level</th>\n",
              "      <th>Income</th>\n",
              "      <th>Country_region</th>\n",
              "      <th>Hotel_Type</th>\n",
              "      <th>Expected_checkin</th>\n",
              "      <th>Expected_checkout</th>\n",
              "      <th>Booking_date</th>\n",
              "      <th>Adults</th>\n",
              "      <th>Children</th>\n",
              "      <th>Babies</th>\n",
              "      <th>Meal_Type</th>\n",
              "      <th>Visted_Previously</th>\n",
              "      <th>Previous_Cancellations</th>\n",
              "      <th>Deposit_type</th>\n",
              "      <th>Booking_channel</th>\n",
              "      <th>Required_Car_Parking</th>\n",
              "      <th>Reservation_Status</th>\n",
              "      <th>Use_Promotion</th>\n",
              "      <th>Discount_Rate</th>\n",
              "      <th>Room_Rate</th>\n",
              "    </tr>\n",
              "    <tr>\n",
              "      <th>Reservation-id</th>\n",
              "      <th></th>\n",
              "      <th></th>\n",
              "      <th></th>\n",
              "      <th></th>\n",
              "      <th></th>\n",
              "      <th></th>\n",
              "      <th></th>\n",
              "      <th></th>\n",
              "      <th></th>\n",
              "      <th></th>\n",
              "      <th></th>\n",
              "      <th></th>\n",
              "      <th></th>\n",
              "      <th></th>\n",
              "      <th></th>\n",
              "      <th></th>\n",
              "      <th></th>\n",
              "      <th></th>\n",
              "      <th></th>\n",
              "      <th></th>\n",
              "      <th></th>\n",
              "      <th></th>\n",
              "      <th></th>\n",
              "    </tr>\n",
              "  </thead>\n",
              "  <tbody>\n",
              "    <tr>\n",
              "      <th>39428300</th>\n",
              "      <td>F</td>\n",
              "      <td>40</td>\n",
              "      <td>Latino</td>\n",
              "      <td>Grad</td>\n",
              "      <td>&lt;25K</td>\n",
              "      <td>North</td>\n",
              "      <td>City Hotel</td>\n",
              "      <td>7/1/2015</td>\n",
              "      <td>7/2/2015</td>\n",
              "      <td>5/21/2015</td>\n",
              "      <td>2</td>\n",
              "      <td>2</td>\n",
              "      <td>0</td>\n",
              "      <td>BB</td>\n",
              "      <td>No</td>\n",
              "      <td>No</td>\n",
              "      <td>No Deposit</td>\n",
              "      <td>Online</td>\n",
              "      <td>Yes</td>\n",
              "      <td>Check-In</td>\n",
              "      <td>Yes</td>\n",
              "      <td>10</td>\n",
              "      <td>218</td>\n",
              "    </tr>\n",
              "    <tr>\n",
              "      <th>77491756</th>\n",
              "      <td>F</td>\n",
              "      <td>49</td>\n",
              "      <td>Latino</td>\n",
              "      <td>Mid-School</td>\n",
              "      <td>50K -- 100K</td>\n",
              "      <td>East</td>\n",
              "      <td>City Hotel</td>\n",
              "      <td>7/1/2015</td>\n",
              "      <td>7/2/2015</td>\n",
              "      <td>5/26/2015</td>\n",
              "      <td>3</td>\n",
              "      <td>3</td>\n",
              "      <td>0</td>\n",
              "      <td>BB</td>\n",
              "      <td>No</td>\n",
              "      <td>No</td>\n",
              "      <td>Refundable</td>\n",
              "      <td>Online</td>\n",
              "      <td>Yes</td>\n",
              "      <td>Check-In</td>\n",
              "      <td>No</td>\n",
              "      <td>0</td>\n",
              "      <td>185</td>\n",
              "    </tr>\n",
              "    <tr>\n",
              "      <th>73747291</th>\n",
              "      <td>F</td>\n",
              "      <td>42</td>\n",
              "      <td>caucasian</td>\n",
              "      <td>Grad</td>\n",
              "      <td>&lt;25K</td>\n",
              "      <td>East</td>\n",
              "      <td>City Hotel</td>\n",
              "      <td>7/2/2015</td>\n",
              "      <td>7/6/2015</td>\n",
              "      <td>6/29/2015</td>\n",
              "      <td>3</td>\n",
              "      <td>3</td>\n",
              "      <td>0</td>\n",
              "      <td>BB</td>\n",
              "      <td>No</td>\n",
              "      <td>No</td>\n",
              "      <td>No Deposit</td>\n",
              "      <td>Online</td>\n",
              "      <td>Yes</td>\n",
              "      <td>Check-In</td>\n",
              "      <td>No</td>\n",
              "      <td>0</td>\n",
              "      <td>119</td>\n",
              "    </tr>\n",
              "    <tr>\n",
              "      <th>67301739</th>\n",
              "      <td>M</td>\n",
              "      <td>25</td>\n",
              "      <td>African American</td>\n",
              "      <td>College</td>\n",
              "      <td>&gt;100K</td>\n",
              "      <td>South</td>\n",
              "      <td>Airport Hotels</td>\n",
              "      <td>7/2/2015</td>\n",
              "      <td>7/3/2015</td>\n",
              "      <td>6/20/2015</td>\n",
              "      <td>4</td>\n",
              "      <td>3</td>\n",
              "      <td>0</td>\n",
              "      <td>BB</td>\n",
              "      <td>No</td>\n",
              "      <td>No</td>\n",
              "      <td>Refundable</td>\n",
              "      <td>Agent</td>\n",
              "      <td>Yes</td>\n",
              "      <td>Check-In</td>\n",
              "      <td>Yes</td>\n",
              "      <td>5</td>\n",
              "      <td>144</td>\n",
              "    </tr>\n",
              "    <tr>\n",
              "      <th>77222321</th>\n",
              "      <td>F</td>\n",
              "      <td>62</td>\n",
              "      <td>Latino</td>\n",
              "      <td>High-School</td>\n",
              "      <td>25K --50K</td>\n",
              "      <td>East</td>\n",
              "      <td>Resort</td>\n",
              "      <td>7/3/2015</td>\n",
              "      <td>7/4/2015</td>\n",
              "      <td>6/20/2015</td>\n",
              "      <td>1</td>\n",
              "      <td>1</td>\n",
              "      <td>0</td>\n",
              "      <td>BB</td>\n",
              "      <td>No</td>\n",
              "      <td>No</td>\n",
              "      <td>No Deposit</td>\n",
              "      <td>Direct</td>\n",
              "      <td>No</td>\n",
              "      <td>Check-In</td>\n",
              "      <td>Yes</td>\n",
              "      <td>10</td>\n",
              "      <td>242</td>\n",
              "    </tr>\n",
              "  </tbody>\n",
              "</table>\n",
              "</div>"
            ],
            "text/plain": [
              "               Gender  Age  ... Discount_Rate Room_Rate\n",
              "Reservation-id              ...                        \n",
              "39428300            F   40  ...            10       218\n",
              "77491756            F   49  ...             0       185\n",
              "73747291            F   42  ...             0       119\n",
              "67301739            M   25  ...             5       144\n",
              "77222321            F   62  ...            10       242\n",
              "\n",
              "[5 rows x 23 columns]"
            ]
          },
          "metadata": {
            "tags": []
          },
          "execution_count": 272
        }
      ]
    },
    {
      "cell_type": "code",
      "metadata": {
        "colab": {
          "base_uri": "https://localhost:8080/"
        },
        "id": "TW1eoGh95dyq",
        "outputId": "ebc05b5c-2a7a-4867-f95c-8c5109a5e98f"
      },
      "source": [
        "data_train.dtypes"
      ],
      "execution_count": 273,
      "outputs": [
        {
          "output_type": "execute_result",
          "data": {
            "text/plain": [
              "Gender                    object\n",
              "Age                        int64\n",
              "Ethnicity                 object\n",
              "Educational_Level         object\n",
              "Income                    object\n",
              "Country_region            object\n",
              "Hotel_Type                object\n",
              "Expected_checkin          object\n",
              "Expected_checkout         object\n",
              "Booking_date              object\n",
              "Adults                     int64\n",
              "Children                   int64\n",
              "Babies                     int64\n",
              "Meal_Type                 object\n",
              "Visted_Previously         object\n",
              "Previous_Cancellations    object\n",
              "Deposit_type              object\n",
              "Booking_channel           object\n",
              "Required_Car_Parking      object\n",
              "Reservation_Status        object\n",
              "Use_Promotion             object\n",
              "Discount_Rate              int64\n",
              "Room_Rate                  int64\n",
              "dtype: object"
            ]
          },
          "metadata": {
            "tags": []
          },
          "execution_count": 273
        }
      ]
    },
    {
      "cell_type": "code",
      "metadata": {
        "colab": {
          "base_uri": "https://localhost:8080/",
          "height": 297
        },
        "id": "LoJg0hwu5l-V",
        "outputId": "397d76bd-fdf5-47f3-96de-eae1adeb226f"
      },
      "source": [
        "data_train.describe()"
      ],
      "execution_count": 274,
      "outputs": [
        {
          "output_type": "execute_result",
          "data": {
            "text/html": [
              "<div>\n",
              "<style scoped>\n",
              "    .dataframe tbody tr th:only-of-type {\n",
              "        vertical-align: middle;\n",
              "    }\n",
              "\n",
              "    .dataframe tbody tr th {\n",
              "        vertical-align: top;\n",
              "    }\n",
              "\n",
              "    .dataframe thead th {\n",
              "        text-align: right;\n",
              "    }\n",
              "</style>\n",
              "<table border=\"1\" class=\"dataframe\">\n",
              "  <thead>\n",
              "    <tr style=\"text-align: right;\">\n",
              "      <th></th>\n",
              "      <th>Age</th>\n",
              "      <th>Adults</th>\n",
              "      <th>Children</th>\n",
              "      <th>Babies</th>\n",
              "      <th>Discount_Rate</th>\n",
              "      <th>Room_Rate</th>\n",
              "    </tr>\n",
              "  </thead>\n",
              "  <tbody>\n",
              "    <tr>\n",
              "      <th>count</th>\n",
              "      <td>30248.000000</td>\n",
              "      <td>30248.000000</td>\n",
              "      <td>30248.000000</td>\n",
              "      <td>30248.000000</td>\n",
              "      <td>30248.000000</td>\n",
              "      <td>30248.000000</td>\n",
              "    </tr>\n",
              "    <tr>\n",
              "      <th>mean</th>\n",
              "      <td>43.997388</td>\n",
              "      <td>2.333873</td>\n",
              "      <td>1.743586</td>\n",
              "      <td>0.349940</td>\n",
              "      <td>12.494214</td>\n",
              "      <td>175.009786</td>\n",
              "    </tr>\n",
              "    <tr>\n",
              "      <th>std</th>\n",
              "      <td>15.294786</td>\n",
              "      <td>1.177353</td>\n",
              "      <td>0.722228</td>\n",
              "      <td>0.572767</td>\n",
              "      <td>11.202236</td>\n",
              "      <td>43.878472</td>\n",
              "    </tr>\n",
              "    <tr>\n",
              "      <th>min</th>\n",
              "      <td>18.000000</td>\n",
              "      <td>1.000000</td>\n",
              "      <td>1.000000</td>\n",
              "      <td>0.000000</td>\n",
              "      <td>0.000000</td>\n",
              "      <td>100.000000</td>\n",
              "    </tr>\n",
              "    <tr>\n",
              "      <th>25%</th>\n",
              "      <td>31.000000</td>\n",
              "      <td>2.000000</td>\n",
              "      <td>1.000000</td>\n",
              "      <td>0.000000</td>\n",
              "      <td>5.000000</td>\n",
              "      <td>137.000000</td>\n",
              "    </tr>\n",
              "    <tr>\n",
              "      <th>50%</th>\n",
              "      <td>44.000000</td>\n",
              "      <td>2.000000</td>\n",
              "      <td>2.000000</td>\n",
              "      <td>0.000000</td>\n",
              "      <td>10.000000</td>\n",
              "      <td>174.000000</td>\n",
              "    </tr>\n",
              "    <tr>\n",
              "      <th>75%</th>\n",
              "      <td>57.000000</td>\n",
              "      <td>3.000000</td>\n",
              "      <td>2.000000</td>\n",
              "      <td>1.000000</td>\n",
              "      <td>20.000000</td>\n",
              "      <td>214.000000</td>\n",
              "    </tr>\n",
              "    <tr>\n",
              "      <th>max</th>\n",
              "      <td>70.000000</td>\n",
              "      <td>5.000000</td>\n",
              "      <td>3.000000</td>\n",
              "      <td>2.000000</td>\n",
              "      <td>40.000000</td>\n",
              "      <td>250.000000</td>\n",
              "    </tr>\n",
              "  </tbody>\n",
              "</table>\n",
              "</div>"
            ],
            "text/plain": [
              "                Age        Adults  ...  Discount_Rate     Room_Rate\n",
              "count  30248.000000  30248.000000  ...   30248.000000  30248.000000\n",
              "mean      43.997388      2.333873  ...      12.494214    175.009786\n",
              "std       15.294786      1.177353  ...      11.202236     43.878472\n",
              "min       18.000000      1.000000  ...       0.000000    100.000000\n",
              "25%       31.000000      2.000000  ...       5.000000    137.000000\n",
              "50%       44.000000      2.000000  ...      10.000000    174.000000\n",
              "75%       57.000000      3.000000  ...      20.000000    214.000000\n",
              "max       70.000000      5.000000  ...      40.000000    250.000000\n",
              "\n",
              "[8 rows x 6 columns]"
            ]
          },
          "metadata": {
            "tags": []
          },
          "execution_count": 274
        }
      ]
    },
    {
      "cell_type": "code",
      "metadata": {
        "colab": {
          "base_uri": "https://localhost:8080/"
        },
        "id": "QuslQMih5rUV",
        "outputId": "b95c543e-bccd-4f50-d738-0a8b8d7748d5"
      },
      "source": [
        "data_train.isnull().sum()"
      ],
      "execution_count": 275,
      "outputs": [
        {
          "output_type": "execute_result",
          "data": {
            "text/plain": [
              "Gender                    0\n",
              "Age                       0\n",
              "Ethnicity                 0\n",
              "Educational_Level         0\n",
              "Income                    0\n",
              "Country_region            0\n",
              "Hotel_Type                0\n",
              "Expected_checkin          0\n",
              "Expected_checkout         0\n",
              "Booking_date              0\n",
              "Adults                    0\n",
              "Children                  0\n",
              "Babies                    0\n",
              "Meal_Type                 0\n",
              "Visted_Previously         0\n",
              "Previous_Cancellations    0\n",
              "Deposit_type              0\n",
              "Booking_channel           0\n",
              "Required_Car_Parking      0\n",
              "Reservation_Status        0\n",
              "Use_Promotion             0\n",
              "Discount_Rate             0\n",
              "Room_Rate                 0\n",
              "dtype: int64"
            ]
          },
          "metadata": {
            "tags": []
          },
          "execution_count": 275
        }
      ]
    },
    {
      "cell_type": "code",
      "metadata": {
        "colab": {
          "base_uri": "https://localhost:8080/"
        },
        "id": "zJqpP5aT509k",
        "outputId": "8aa69ff9-7639-4c86-8813-8fa3973819e5"
      },
      "source": [
        "data_train.columns"
      ],
      "execution_count": 276,
      "outputs": [
        {
          "output_type": "execute_result",
          "data": {
            "text/plain": [
              "Index(['Gender', 'Age', 'Ethnicity', 'Educational_Level', 'Income',\n",
              "       'Country_region', 'Hotel_Type', 'Expected_checkin', 'Expected_checkout',\n",
              "       'Booking_date', 'Adults', 'Children', 'Babies', 'Meal_Type',\n",
              "       'Visted_Previously', 'Previous_Cancellations', 'Deposit_type',\n",
              "       'Booking_channel', 'Required_Car_Parking', 'Reservation_Status',\n",
              "       'Use_Promotion', 'Discount_Rate', 'Room_Rate'],\n",
              "      dtype='object')"
            ]
          },
          "metadata": {
            "tags": []
          },
          "execution_count": 276
        }
      ]
    },
    {
      "cell_type": "code",
      "metadata": {
        "id": "hDRZTjxYPK_X"
      },
      "source": [
        "object_cols = ['Gender', 'Ethnicity', 'Educational_Level',\n",
        "       'Income', 'Country_region', 'Hotel_Type', \n",
        "       'Meal_Type', 'Visted_Previously', 'Previous_Cancellations',\n",
        "       'Deposit_type', 'Booking_channel', 'Required_Car_Parking',\n",
        "       'Reservation_Status', 'Use_Promotion']\n",
        "# these columns need to be onehot encode or vectorise\n",
        "\n",
        "dates = ['Expected_checkin', 'Expected_checkout', 'Booking_date'] #need to feature engineer"
      ],
      "execution_count": 277,
      "outputs": []
    },
    {
      "cell_type": "code",
      "metadata": {
        "colab": {
          "base_uri": "https://localhost:8080/"
        },
        "id": "EoCt8iKjRSKj",
        "outputId": "2cb95282-cedc-4479-eeb9-465ea2628cb5"
      },
      "source": [
        "for col in object_cols:\n",
        "  print(col, pd.unique(data_train[col]))"
      ],
      "execution_count": 278,
      "outputs": [
        {
          "output_type": "stream",
          "text": [
            "Gender ['F' 'M']\n",
            "Ethnicity ['Latino' 'caucasian' 'African American' 'Asian American']\n",
            "Educational_Level ['Grad' 'Mid-School' 'College' 'High-School']\n",
            "Income ['<25K' '50K -- 100K' '>100K' '25K --50K']\n",
            "Country_region ['North' 'East' 'South' 'West']\n",
            "Hotel_Type ['City Hotel' 'Airport Hotels' 'Resort']\n",
            "Meal_Type ['BB' 'FB' 'HB']\n",
            "Visted_Previously ['No' 'Yes']\n",
            "Previous_Cancellations ['No' 'Yes']\n",
            "Deposit_type ['No Deposit' 'Refundable' 'Non-Refundable']\n",
            "Booking_channel ['Online' 'Agent' 'Direct']\n",
            "Required_Car_Parking ['Yes' 'No']\n",
            "Reservation_Status ['Check-In' 'Canceled' 'No-Show']\n",
            "Use_Promotion ['Yes' 'No']\n"
          ],
          "name": "stdout"
        }
      ]
    },
    {
      "cell_type": "code",
      "metadata": {
        "id": "PD6_IuQbPxoJ"
      },
      "source": [
        "one_hot_encoded_lst = ['Ethnicity', 'Educational_Level',\n",
        "       'Income', 'Country_region', 'Hotel_Type', \n",
        "       'Meal_Type', 'Deposit_type', 'Booking_channel'] "
      ],
      "execution_count": 279,
      "outputs": []
    },
    {
      "cell_type": "code",
      "metadata": {
        "id": "5KDI3sWjP_pc"
      },
      "source": [
        "data_train = pd.get_dummies(data_train, columns=one_hot_encoded_lst)"
      ],
      "execution_count": 280,
      "outputs": []
    },
    {
      "cell_type": "code",
      "metadata": {
        "colab": {
          "base_uri": "https://localhost:8080/"
        },
        "id": "mgfsct9kQSN2",
        "outputId": "81eadd58-eb68-42b5-f323-544d7c028d81"
      },
      "source": [
        "data_train.columns"
      ],
      "execution_count": 281,
      "outputs": [
        {
          "output_type": "execute_result",
          "data": {
            "text/plain": [
              "Index(['Gender', 'Age', 'Expected_checkin', 'Expected_checkout',\n",
              "       'Booking_date', 'Adults', 'Children', 'Babies', 'Visted_Previously',\n",
              "       'Previous_Cancellations', 'Required_Car_Parking', 'Reservation_Status',\n",
              "       'Use_Promotion', 'Discount_Rate', 'Room_Rate',\n",
              "       'Ethnicity_African American', 'Ethnicity_Asian American',\n",
              "       'Ethnicity_Latino', 'Ethnicity_caucasian', 'Educational_Level_College',\n",
              "       'Educational_Level_Grad', 'Educational_Level_High-School',\n",
              "       'Educational_Level_Mid-School', 'Income_25K --50K',\n",
              "       'Income_50K -- 100K', 'Income_<25K', 'Income_>100K',\n",
              "       'Country_region_East', 'Country_region_North', 'Country_region_South',\n",
              "       'Country_region_West', 'Hotel_Type_Airport Hotels',\n",
              "       'Hotel_Type_City Hotel', 'Hotel_Type_Resort', 'Meal_Type_BB',\n",
              "       'Meal_Type_FB', 'Meal_Type_HB', 'Deposit_type_No Deposit',\n",
              "       'Deposit_type_Non-Refundable', 'Deposit_type_Refundable',\n",
              "       'Booking_channel_Agent', 'Booking_channel_Direct',\n",
              "       'Booking_channel_Online'],\n",
              "      dtype='object')"
            ]
          },
          "metadata": {
            "tags": []
          },
          "execution_count": 281
        }
      ]
    },
    {
      "cell_type": "code",
      "metadata": {
        "id": "sT5r3z--Qoeq"
      },
      "source": [
        "data_train['Gender'] = data_train['Gender'].map({'F':0, 'M':1})\n",
        "data_train['Visted_Previously'] = data_train['Visted_Previously'].map({'No':0, 'Yes':1})\n",
        "data_train['Previous_Cancellations'] = data_train['Previous_Cancellations'].map({'No':0, 'Yes':1})\n",
        "data_train['Required_Car_Parking'] = data_train['Required_Car_Parking'].map({'Yes':1, 'No':0})\n",
        "data_train['Use_Promotion'] = data_train['Use_Promotion'].map({'Yes':1, 'No':0})\n",
        "# data_train['Reservation_Status'] = data_train['Reservation_Status'].map({'Check-In':1, 'Canceled':2, 'No-Show':3})\n",
        "data_train['Reservation_Status'] = data_train['Reservation_Status'].map({'Check-In':0, 'Canceled':1, 'No-Show':2})"
      ],
      "execution_count": 282,
      "outputs": []
    },
    {
      "cell_type": "code",
      "metadata": {
        "colab": {
          "base_uri": "https://localhost:8080/"
        },
        "id": "b0G3jFOsBbfo",
        "outputId": "ea53581c-2d2d-41cc-c2fc-8d006d8f469c"
      },
      "source": [
        "checkin, canceled, noshow = np.bincount(data_train['Reservation_Status'])\n",
        "total = checkin + canceled + noshow\n",
        "print('Examples:\\n    Total: {}\\n    Check-In: {} ({:.2f}% of total)\\n    Canceled: {} ({:.2f}% of total)\\n     No-Show: {} ({:.2f}% of total)\\n'.format(\n",
        "    total, checkin, 100 * checkin / total, canceled, 100 * canceled / total, noshow, 100 * noshow / total))"
      ],
      "execution_count": 283,
      "outputs": [
        {
          "output_type": "stream",
          "text": [
            "Examples:\n",
            "    Total: 30248\n",
            "    Check-In: 22850 (75.54% of total)\n",
            "    Canceled: 4875 (16.12% of total)\n",
            "     No-Show: 2523 (8.34% of total)\n",
            "\n"
          ],
          "name": "stdout"
        }
      ]
    },
    {
      "cell_type": "code",
      "metadata": {
        "id": "LsZBqlQTvp52"
      },
      "source": [
        "data_train[dates[0]] = pd.to_datetime(data_train[dates[0]])\n",
        "data_train[dates[1]] = pd.to_datetime(data_train[dates[1]])\n",
        "data_train[dates[2]] = pd.to_datetime(data_train[dates[2]])"
      ],
      "execution_count": 284,
      "outputs": []
    },
    {
      "cell_type": "code",
      "metadata": {
        "colab": {
          "base_uri": "https://localhost:8080/"
        },
        "id": "81HDzvBZv6k9",
        "outputId": "679d706f-c426-408d-fa02-ba5ccfd17483"
      },
      "source": [
        "data_train['Expected_stay'] = (data_train[dates[1]] - data_train[dates[0]]).dt.days\n",
        "data_train['Expected_stay'].unique()"
      ],
      "execution_count": 285,
      "outputs": [
        {
          "output_type": "execute_result",
          "data": {
            "text/plain": [
              "array([1, 4, 3, 2])"
            ]
          },
          "metadata": {
            "tags": []
          },
          "execution_count": 285
        }
      ]
    },
    {
      "cell_type": "code",
      "metadata": {
        "id": "pcn8CZ2Iwaz0"
      },
      "source": [
        "data_train['Booking_to_checkingin'] = (data_train[dates[0]] - data_train[dates[2]]).dt.days"
      ],
      "execution_count": 286,
      "outputs": []
    },
    {
      "cell_type": "code",
      "metadata": {
        "id": "e0BMkLxYx88v"
      },
      "source": [
        "data_train['Month_of_stay'] = data_train[dates[0]].dt.month"
      ],
      "execution_count": 287,
      "outputs": []
    },
    {
      "cell_type": "code",
      "metadata": {
        "id": "NCKPOPzBwwGX"
      },
      "source": [
        "weekdayin = data_train[dates[0]].dt.dayofweek\n",
        "weekdayout = data_train[dates[1]].dt.dayofweek\n",
        "from pandas import DataFrame\n",
        "\n",
        "fina = []\n",
        "for x,y in zip(weekdayin, weekdayout):\n",
        "  t = []\n",
        "  if y >= x:\n",
        "    for i in range(x, y + 1):\n",
        "      t.append(i)\n",
        "    if 5 in t or 6 in t:\n",
        "      fina.append(1)\n",
        "    else:\n",
        "      fina.append(0)\n",
        "  else:\n",
        "    for i in range(x, 7):\n",
        "      t.append(i)\n",
        "    for j in range(0, y + 1):\n",
        "      t.append(i)\n",
        "    if 5 in t or 6 in t:\n",
        "      fina.append(1)\n",
        "    else:\n",
        "      fina.append(0)\n",
        "data_train['weekend_stay'] = DataFrame(fina,columns=['weekend_stay'])['weekend_stay'].values"
      ],
      "execution_count": 288,
      "outputs": []
    },
    {
      "cell_type": "code",
      "metadata": {
        "colab": {
          "base_uri": "https://localhost:8080/"
        },
        "id": "kK1DBaKFrbP-",
        "outputId": "03ec6362-ac9c-4f34-c55e-6f2e8bd27758"
      },
      "source": [
        "data_train['Actual_cost'] = data_train['Expected_stay'] * (data_train['Room_Rate']*(100 - data_train['Discount_Rate']))\n",
        "data_train['Actual_cost'].head()"
      ],
      "execution_count": 289,
      "outputs": [
        {
          "output_type": "execute_result",
          "data": {
            "text/plain": [
              "Reservation-id\n",
              "39428300    19620\n",
              "77491756    18500\n",
              "73747291    47600\n",
              "67301739    13680\n",
              "77222321    21780\n",
              "Name: Actual_cost, dtype: int64"
            ]
          },
          "metadata": {
            "tags": []
          },
          "execution_count": 289
        }
      ]
    },
    {
      "cell_type": "code",
      "metadata": {
        "colab": {
          "base_uri": "https://localhost:8080/"
        },
        "id": "f-STqpPwyET0",
        "outputId": "da504859-c09d-43a8-ebe8-b886588baff9"
      },
      "source": [
        "data_train.isnull().sum()"
      ],
      "execution_count": 290,
      "outputs": [
        {
          "output_type": "execute_result",
          "data": {
            "text/plain": [
              "Gender                           0\n",
              "Age                              0\n",
              "Expected_checkin                 0\n",
              "Expected_checkout                0\n",
              "Booking_date                     0\n",
              "Adults                           0\n",
              "Children                         0\n",
              "Babies                           0\n",
              "Visted_Previously                0\n",
              "Previous_Cancellations           0\n",
              "Required_Car_Parking             0\n",
              "Reservation_Status               0\n",
              "Use_Promotion                    0\n",
              "Discount_Rate                    0\n",
              "Room_Rate                        0\n",
              "Ethnicity_African American       0\n",
              "Ethnicity_Asian American         0\n",
              "Ethnicity_Latino                 0\n",
              "Ethnicity_caucasian              0\n",
              "Educational_Level_College        0\n",
              "Educational_Level_Grad           0\n",
              "Educational_Level_High-School    0\n",
              "Educational_Level_Mid-School     0\n",
              "Income_25K --50K                 0\n",
              "Income_50K -- 100K               0\n",
              "Income_<25K                      0\n",
              "Income_>100K                     0\n",
              "Country_region_East              0\n",
              "Country_region_North             0\n",
              "Country_region_South             0\n",
              "Country_region_West              0\n",
              "Hotel_Type_Airport Hotels        0\n",
              "Hotel_Type_City Hotel            0\n",
              "Hotel_Type_Resort                0\n",
              "Meal_Type_BB                     0\n",
              "Meal_Type_FB                     0\n",
              "Meal_Type_HB                     0\n",
              "Deposit_type_No Deposit          0\n",
              "Deposit_type_Non-Refundable      0\n",
              "Deposit_type_Refundable          0\n",
              "Booking_channel_Agent            0\n",
              "Booking_channel_Direct           0\n",
              "Booking_channel_Online           0\n",
              "Expected_stay                    0\n",
              "Booking_to_checkingin            0\n",
              "Month_of_stay                    0\n",
              "weekend_stay                     0\n",
              "Actual_cost                      0\n",
              "dtype: int64"
            ]
          },
          "metadata": {
            "tags": []
          },
          "execution_count": 290
        }
      ]
    },
    {
      "cell_type": "code",
      "metadata": {
        "colab": {
          "base_uri": "https://localhost:8080/",
          "height": 289
        },
        "id": "GoRHUhOOS8fq",
        "outputId": "0b1ea8b7-9aea-4b6e-fbf3-0374c132f829"
      },
      "source": [
        "data_train.head()"
      ],
      "execution_count": 291,
      "outputs": [
        {
          "output_type": "execute_result",
          "data": {
            "text/html": [
              "<div>\n",
              "<style scoped>\n",
              "    .dataframe tbody tr th:only-of-type {\n",
              "        vertical-align: middle;\n",
              "    }\n",
              "\n",
              "    .dataframe tbody tr th {\n",
              "        vertical-align: top;\n",
              "    }\n",
              "\n",
              "    .dataframe thead th {\n",
              "        text-align: right;\n",
              "    }\n",
              "</style>\n",
              "<table border=\"1\" class=\"dataframe\">\n",
              "  <thead>\n",
              "    <tr style=\"text-align: right;\">\n",
              "      <th></th>\n",
              "      <th>Gender</th>\n",
              "      <th>Age</th>\n",
              "      <th>Expected_checkin</th>\n",
              "      <th>Expected_checkout</th>\n",
              "      <th>Booking_date</th>\n",
              "      <th>Adults</th>\n",
              "      <th>Children</th>\n",
              "      <th>Babies</th>\n",
              "      <th>Visted_Previously</th>\n",
              "      <th>Previous_Cancellations</th>\n",
              "      <th>Required_Car_Parking</th>\n",
              "      <th>Reservation_Status</th>\n",
              "      <th>Use_Promotion</th>\n",
              "      <th>Discount_Rate</th>\n",
              "      <th>Room_Rate</th>\n",
              "      <th>Ethnicity_African American</th>\n",
              "      <th>Ethnicity_Asian American</th>\n",
              "      <th>Ethnicity_Latino</th>\n",
              "      <th>Ethnicity_caucasian</th>\n",
              "      <th>Educational_Level_College</th>\n",
              "      <th>Educational_Level_Grad</th>\n",
              "      <th>Educational_Level_High-School</th>\n",
              "      <th>Educational_Level_Mid-School</th>\n",
              "      <th>Income_25K --50K</th>\n",
              "      <th>Income_50K -- 100K</th>\n",
              "      <th>Income_&lt;25K</th>\n",
              "      <th>Income_&gt;100K</th>\n",
              "      <th>Country_region_East</th>\n",
              "      <th>Country_region_North</th>\n",
              "      <th>Country_region_South</th>\n",
              "      <th>Country_region_West</th>\n",
              "      <th>Hotel_Type_Airport Hotels</th>\n",
              "      <th>Hotel_Type_City Hotel</th>\n",
              "      <th>Hotel_Type_Resort</th>\n",
              "      <th>Meal_Type_BB</th>\n",
              "      <th>Meal_Type_FB</th>\n",
              "      <th>Meal_Type_HB</th>\n",
              "      <th>Deposit_type_No Deposit</th>\n",
              "      <th>Deposit_type_Non-Refundable</th>\n",
              "      <th>Deposit_type_Refundable</th>\n",
              "      <th>Booking_channel_Agent</th>\n",
              "      <th>Booking_channel_Direct</th>\n",
              "      <th>Booking_channel_Online</th>\n",
              "      <th>Expected_stay</th>\n",
              "      <th>Booking_to_checkingin</th>\n",
              "      <th>Month_of_stay</th>\n",
              "      <th>weekend_stay</th>\n",
              "      <th>Actual_cost</th>\n",
              "    </tr>\n",
              "    <tr>\n",
              "      <th>Reservation-id</th>\n",
              "      <th></th>\n",
              "      <th></th>\n",
              "      <th></th>\n",
              "      <th></th>\n",
              "      <th></th>\n",
              "      <th></th>\n",
              "      <th></th>\n",
              "      <th></th>\n",
              "      <th></th>\n",
              "      <th></th>\n",
              "      <th></th>\n",
              "      <th></th>\n",
              "      <th></th>\n",
              "      <th></th>\n",
              "      <th></th>\n",
              "      <th></th>\n",
              "      <th></th>\n",
              "      <th></th>\n",
              "      <th></th>\n",
              "      <th></th>\n",
              "      <th></th>\n",
              "      <th></th>\n",
              "      <th></th>\n",
              "      <th></th>\n",
              "      <th></th>\n",
              "      <th></th>\n",
              "      <th></th>\n",
              "      <th></th>\n",
              "      <th></th>\n",
              "      <th></th>\n",
              "      <th></th>\n",
              "      <th></th>\n",
              "      <th></th>\n",
              "      <th></th>\n",
              "      <th></th>\n",
              "      <th></th>\n",
              "      <th></th>\n",
              "      <th></th>\n",
              "      <th></th>\n",
              "      <th></th>\n",
              "      <th></th>\n",
              "      <th></th>\n",
              "      <th></th>\n",
              "      <th></th>\n",
              "      <th></th>\n",
              "      <th></th>\n",
              "      <th></th>\n",
              "      <th></th>\n",
              "    </tr>\n",
              "  </thead>\n",
              "  <tbody>\n",
              "    <tr>\n",
              "      <th>39428300</th>\n",
              "      <td>0</td>\n",
              "      <td>40</td>\n",
              "      <td>2015-07-01</td>\n",
              "      <td>2015-07-02</td>\n",
              "      <td>2015-05-21</td>\n",
              "      <td>2</td>\n",
              "      <td>2</td>\n",
              "      <td>0</td>\n",
              "      <td>0</td>\n",
              "      <td>0</td>\n",
              "      <td>1</td>\n",
              "      <td>0</td>\n",
              "      <td>1</td>\n",
              "      <td>10</td>\n",
              "      <td>218</td>\n",
              "      <td>0</td>\n",
              "      <td>0</td>\n",
              "      <td>1</td>\n",
              "      <td>0</td>\n",
              "      <td>0</td>\n",
              "      <td>1</td>\n",
              "      <td>0</td>\n",
              "      <td>0</td>\n",
              "      <td>0</td>\n",
              "      <td>0</td>\n",
              "      <td>1</td>\n",
              "      <td>0</td>\n",
              "      <td>0</td>\n",
              "      <td>1</td>\n",
              "      <td>0</td>\n",
              "      <td>0</td>\n",
              "      <td>0</td>\n",
              "      <td>1</td>\n",
              "      <td>0</td>\n",
              "      <td>1</td>\n",
              "      <td>0</td>\n",
              "      <td>0</td>\n",
              "      <td>1</td>\n",
              "      <td>0</td>\n",
              "      <td>0</td>\n",
              "      <td>0</td>\n",
              "      <td>0</td>\n",
              "      <td>1</td>\n",
              "      <td>1</td>\n",
              "      <td>41</td>\n",
              "      <td>7</td>\n",
              "      <td>0</td>\n",
              "      <td>19620</td>\n",
              "    </tr>\n",
              "    <tr>\n",
              "      <th>77491756</th>\n",
              "      <td>0</td>\n",
              "      <td>49</td>\n",
              "      <td>2015-07-01</td>\n",
              "      <td>2015-07-02</td>\n",
              "      <td>2015-05-26</td>\n",
              "      <td>3</td>\n",
              "      <td>3</td>\n",
              "      <td>0</td>\n",
              "      <td>0</td>\n",
              "      <td>0</td>\n",
              "      <td>1</td>\n",
              "      <td>0</td>\n",
              "      <td>0</td>\n",
              "      <td>0</td>\n",
              "      <td>185</td>\n",
              "      <td>0</td>\n",
              "      <td>0</td>\n",
              "      <td>1</td>\n",
              "      <td>0</td>\n",
              "      <td>0</td>\n",
              "      <td>0</td>\n",
              "      <td>0</td>\n",
              "      <td>1</td>\n",
              "      <td>0</td>\n",
              "      <td>1</td>\n",
              "      <td>0</td>\n",
              "      <td>0</td>\n",
              "      <td>1</td>\n",
              "      <td>0</td>\n",
              "      <td>0</td>\n",
              "      <td>0</td>\n",
              "      <td>0</td>\n",
              "      <td>1</td>\n",
              "      <td>0</td>\n",
              "      <td>1</td>\n",
              "      <td>0</td>\n",
              "      <td>0</td>\n",
              "      <td>0</td>\n",
              "      <td>0</td>\n",
              "      <td>1</td>\n",
              "      <td>0</td>\n",
              "      <td>0</td>\n",
              "      <td>1</td>\n",
              "      <td>1</td>\n",
              "      <td>36</td>\n",
              "      <td>7</td>\n",
              "      <td>0</td>\n",
              "      <td>18500</td>\n",
              "    </tr>\n",
              "    <tr>\n",
              "      <th>73747291</th>\n",
              "      <td>0</td>\n",
              "      <td>42</td>\n",
              "      <td>2015-07-02</td>\n",
              "      <td>2015-07-06</td>\n",
              "      <td>2015-06-29</td>\n",
              "      <td>3</td>\n",
              "      <td>3</td>\n",
              "      <td>0</td>\n",
              "      <td>0</td>\n",
              "      <td>0</td>\n",
              "      <td>1</td>\n",
              "      <td>0</td>\n",
              "      <td>0</td>\n",
              "      <td>0</td>\n",
              "      <td>119</td>\n",
              "      <td>0</td>\n",
              "      <td>0</td>\n",
              "      <td>0</td>\n",
              "      <td>1</td>\n",
              "      <td>0</td>\n",
              "      <td>1</td>\n",
              "      <td>0</td>\n",
              "      <td>0</td>\n",
              "      <td>0</td>\n",
              "      <td>0</td>\n",
              "      <td>1</td>\n",
              "      <td>0</td>\n",
              "      <td>1</td>\n",
              "      <td>0</td>\n",
              "      <td>0</td>\n",
              "      <td>0</td>\n",
              "      <td>0</td>\n",
              "      <td>1</td>\n",
              "      <td>0</td>\n",
              "      <td>1</td>\n",
              "      <td>0</td>\n",
              "      <td>0</td>\n",
              "      <td>1</td>\n",
              "      <td>0</td>\n",
              "      <td>0</td>\n",
              "      <td>0</td>\n",
              "      <td>0</td>\n",
              "      <td>1</td>\n",
              "      <td>4</td>\n",
              "      <td>3</td>\n",
              "      <td>7</td>\n",
              "      <td>1</td>\n",
              "      <td>47600</td>\n",
              "    </tr>\n",
              "    <tr>\n",
              "      <th>67301739</th>\n",
              "      <td>1</td>\n",
              "      <td>25</td>\n",
              "      <td>2015-07-02</td>\n",
              "      <td>2015-07-03</td>\n",
              "      <td>2015-06-20</td>\n",
              "      <td>4</td>\n",
              "      <td>3</td>\n",
              "      <td>0</td>\n",
              "      <td>0</td>\n",
              "      <td>0</td>\n",
              "      <td>1</td>\n",
              "      <td>0</td>\n",
              "      <td>1</td>\n",
              "      <td>5</td>\n",
              "      <td>144</td>\n",
              "      <td>1</td>\n",
              "      <td>0</td>\n",
              "      <td>0</td>\n",
              "      <td>0</td>\n",
              "      <td>1</td>\n",
              "      <td>0</td>\n",
              "      <td>0</td>\n",
              "      <td>0</td>\n",
              "      <td>0</td>\n",
              "      <td>0</td>\n",
              "      <td>0</td>\n",
              "      <td>1</td>\n",
              "      <td>0</td>\n",
              "      <td>0</td>\n",
              "      <td>1</td>\n",
              "      <td>0</td>\n",
              "      <td>1</td>\n",
              "      <td>0</td>\n",
              "      <td>0</td>\n",
              "      <td>1</td>\n",
              "      <td>0</td>\n",
              "      <td>0</td>\n",
              "      <td>0</td>\n",
              "      <td>0</td>\n",
              "      <td>1</td>\n",
              "      <td>1</td>\n",
              "      <td>0</td>\n",
              "      <td>0</td>\n",
              "      <td>1</td>\n",
              "      <td>12</td>\n",
              "      <td>7</td>\n",
              "      <td>0</td>\n",
              "      <td>13680</td>\n",
              "    </tr>\n",
              "    <tr>\n",
              "      <th>77222321</th>\n",
              "      <td>0</td>\n",
              "      <td>62</td>\n",
              "      <td>2015-07-03</td>\n",
              "      <td>2015-07-04</td>\n",
              "      <td>2015-06-20</td>\n",
              "      <td>1</td>\n",
              "      <td>1</td>\n",
              "      <td>0</td>\n",
              "      <td>0</td>\n",
              "      <td>0</td>\n",
              "      <td>0</td>\n",
              "      <td>0</td>\n",
              "      <td>1</td>\n",
              "      <td>10</td>\n",
              "      <td>242</td>\n",
              "      <td>0</td>\n",
              "      <td>0</td>\n",
              "      <td>1</td>\n",
              "      <td>0</td>\n",
              "      <td>0</td>\n",
              "      <td>0</td>\n",
              "      <td>1</td>\n",
              "      <td>0</td>\n",
              "      <td>1</td>\n",
              "      <td>0</td>\n",
              "      <td>0</td>\n",
              "      <td>0</td>\n",
              "      <td>1</td>\n",
              "      <td>0</td>\n",
              "      <td>0</td>\n",
              "      <td>0</td>\n",
              "      <td>0</td>\n",
              "      <td>0</td>\n",
              "      <td>1</td>\n",
              "      <td>1</td>\n",
              "      <td>0</td>\n",
              "      <td>0</td>\n",
              "      <td>1</td>\n",
              "      <td>0</td>\n",
              "      <td>0</td>\n",
              "      <td>0</td>\n",
              "      <td>1</td>\n",
              "      <td>0</td>\n",
              "      <td>1</td>\n",
              "      <td>13</td>\n",
              "      <td>7</td>\n",
              "      <td>1</td>\n",
              "      <td>21780</td>\n",
              "    </tr>\n",
              "  </tbody>\n",
              "</table>\n",
              "</div>"
            ],
            "text/plain": [
              "                Gender  Age  ... weekend_stay Actual_cost\n",
              "Reservation-id               ...                         \n",
              "39428300             0   40  ...            0       19620\n",
              "77491756             0   49  ...            0       18500\n",
              "73747291             0   42  ...            1       47600\n",
              "67301739             1   25  ...            0       13680\n",
              "77222321             0   62  ...            1       21780\n",
              "\n",
              "[5 rows x 48 columns]"
            ]
          },
          "metadata": {
            "tags": []
          },
          "execution_count": 291
        }
      ]
    },
    {
      "cell_type": "code",
      "metadata": {
        "id": "botZ8oQ7Tb3P"
      },
      "source": [
        "def find_correlation(data, threshold=0.85): #removing correlated rows > 0.85\n",
        "    corr_mat = data.corr()\n",
        "    corr_mat.loc[:, :] = np.tril(corr_mat, k=-1)\n",
        "    already_in = set()\n",
        "    result = []\n",
        "    for col in corr_mat:\n",
        "        perfect_corr = corr_mat[col][abs(corr_mat[col])> threshold].index.tolist()\n",
        "        if perfect_corr and col not in already_in:\n",
        "            already_in.update(set(perfect_corr))\n",
        "            perfect_corr.append(col)\n",
        "            result.append(perfect_corr)\n",
        "    select_nested = [f[1:] for f in result]\n",
        "    select_flat = [i for j in select_nested for i in j]\n",
        "    return select_flat"
      ],
      "execution_count": 292,
      "outputs": []
    },
    {
      "cell_type": "code",
      "metadata": {
        "colab": {
          "base_uri": "https://localhost:8080/"
        },
        "id": "_JxB9Rq_UvDX",
        "outputId": "e04ad5a9-65eb-4146-d5a5-9f3b27253d94"
      },
      "source": [
        "find_correlation(data_train)"
      ],
      "execution_count": 293,
      "outputs": [
        {
          "output_type": "execute_result",
          "data": {
            "text/plain": [
              "['Expected_stay']"
            ]
          },
          "metadata": {
            "tags": []
          },
          "execution_count": 293
        }
      ]
    },
    {
      "cell_type": "code",
      "metadata": {
        "id": "RzagNm5SXlv2"
      },
      "source": [
        " data_train = data_train.drop(dates, 1)"
      ],
      "execution_count": 294,
      "outputs": []
    },
    {
      "cell_type": "code",
      "metadata": {
        "id": "d2u3ZD_4hBBZ"
      },
      "source": [
        "from sklearn.utils import shuffle\n",
        "for _ in range(1000):\n",
        "  data_train = shuffle(data_train)"
      ],
      "execution_count": 295,
      "outputs": []
    },
    {
      "cell_type": "code",
      "metadata": {
        "id": "dORNU0hK7ygW"
      },
      "source": [
        "cleaned_df = data_train.copy()"
      ],
      "execution_count": 296,
      "outputs": []
    },
    {
      "cell_type": "code",
      "metadata": {
        "id": "7uhI36x188Ct"
      },
      "source": [
        "eps = 0.001\n",
        "cleaned_df['Log Actual_cost'] = np.log(cleaned_df.pop('Actual_cost')+eps)\n",
        "cleaned_df['Log Room_Rate'] = np.log(cleaned_df.pop('Room_Rate')+eps)"
      ],
      "execution_count": 297,
      "outputs": []
    },
    {
      "cell_type": "code",
      "metadata": {
        "colab": {
          "base_uri": "https://localhost:8080/",
          "height": 334
        },
        "id": "iKfqCmnt8-py",
        "outputId": "d4f85411-eb7c-4b0a-ea36-a5d55fdfa630"
      },
      "source": [
        "cleaned_df.describe()"
      ],
      "execution_count": 298,
      "outputs": [
        {
          "output_type": "execute_result",
          "data": {
            "text/html": [
              "<div>\n",
              "<style scoped>\n",
              "    .dataframe tbody tr th:only-of-type {\n",
              "        vertical-align: middle;\n",
              "    }\n",
              "\n",
              "    .dataframe tbody tr th {\n",
              "        vertical-align: top;\n",
              "    }\n",
              "\n",
              "    .dataframe thead th {\n",
              "        text-align: right;\n",
              "    }\n",
              "</style>\n",
              "<table border=\"1\" class=\"dataframe\">\n",
              "  <thead>\n",
              "    <tr style=\"text-align: right;\">\n",
              "      <th></th>\n",
              "      <th>Gender</th>\n",
              "      <th>Age</th>\n",
              "      <th>Adults</th>\n",
              "      <th>Children</th>\n",
              "      <th>Babies</th>\n",
              "      <th>Visted_Previously</th>\n",
              "      <th>Previous_Cancellations</th>\n",
              "      <th>Required_Car_Parking</th>\n",
              "      <th>Reservation_Status</th>\n",
              "      <th>Use_Promotion</th>\n",
              "      <th>Discount_Rate</th>\n",
              "      <th>Ethnicity_African American</th>\n",
              "      <th>Ethnicity_Asian American</th>\n",
              "      <th>Ethnicity_Latino</th>\n",
              "      <th>Ethnicity_caucasian</th>\n",
              "      <th>Educational_Level_College</th>\n",
              "      <th>Educational_Level_Grad</th>\n",
              "      <th>Educational_Level_High-School</th>\n",
              "      <th>Educational_Level_Mid-School</th>\n",
              "      <th>Income_25K --50K</th>\n",
              "      <th>Income_50K -- 100K</th>\n",
              "      <th>Income_&lt;25K</th>\n",
              "      <th>Income_&gt;100K</th>\n",
              "      <th>Country_region_East</th>\n",
              "      <th>Country_region_North</th>\n",
              "      <th>Country_region_South</th>\n",
              "      <th>Country_region_West</th>\n",
              "      <th>Hotel_Type_Airport Hotels</th>\n",
              "      <th>Hotel_Type_City Hotel</th>\n",
              "      <th>Hotel_Type_Resort</th>\n",
              "      <th>Meal_Type_BB</th>\n",
              "      <th>Meal_Type_FB</th>\n",
              "      <th>Meal_Type_HB</th>\n",
              "      <th>Deposit_type_No Deposit</th>\n",
              "      <th>Deposit_type_Non-Refundable</th>\n",
              "      <th>Deposit_type_Refundable</th>\n",
              "      <th>Booking_channel_Agent</th>\n",
              "      <th>Booking_channel_Direct</th>\n",
              "      <th>Booking_channel_Online</th>\n",
              "      <th>Expected_stay</th>\n",
              "      <th>Booking_to_checkingin</th>\n",
              "      <th>Month_of_stay</th>\n",
              "      <th>weekend_stay</th>\n",
              "      <th>Log Actual_cost</th>\n",
              "      <th>Log Room_Rate</th>\n",
              "    </tr>\n",
              "  </thead>\n",
              "  <tbody>\n",
              "    <tr>\n",
              "      <th>count</th>\n",
              "      <td>30248.000000</td>\n",
              "      <td>30248.000000</td>\n",
              "      <td>30248.000000</td>\n",
              "      <td>30248.000000</td>\n",
              "      <td>30248.000000</td>\n",
              "      <td>30248.000000</td>\n",
              "      <td>30248.000000</td>\n",
              "      <td>30248.000000</td>\n",
              "      <td>30248.000000</td>\n",
              "      <td>30248.000000</td>\n",
              "      <td>30248.000000</td>\n",
              "      <td>30248.000000</td>\n",
              "      <td>30248.000000</td>\n",
              "      <td>30248.000000</td>\n",
              "      <td>30248.000000</td>\n",
              "      <td>30248.000000</td>\n",
              "      <td>30248.000000</td>\n",
              "      <td>30248.000000</td>\n",
              "      <td>30248.000000</td>\n",
              "      <td>30248.000000</td>\n",
              "      <td>30248.000000</td>\n",
              "      <td>30248.000000</td>\n",
              "      <td>30248.000000</td>\n",
              "      <td>30248.000000</td>\n",
              "      <td>30248.000000</td>\n",
              "      <td>30248.000000</td>\n",
              "      <td>30248.000000</td>\n",
              "      <td>30248.000000</td>\n",
              "      <td>30248.000000</td>\n",
              "      <td>30248.000000</td>\n",
              "      <td>30248.000000</td>\n",
              "      <td>30248.000000</td>\n",
              "      <td>30248.000000</td>\n",
              "      <td>30248.000000</td>\n",
              "      <td>30248.000000</td>\n",
              "      <td>30248.000000</td>\n",
              "      <td>30248.000000</td>\n",
              "      <td>30248.000000</td>\n",
              "      <td>30248.000000</td>\n",
              "      <td>30248.000000</td>\n",
              "      <td>30248.000000</td>\n",
              "      <td>30248.000000</td>\n",
              "      <td>30248.000000</td>\n",
              "      <td>30248.000000</td>\n",
              "      <td>30248.000000</td>\n",
              "    </tr>\n",
              "    <tr>\n",
              "      <th>mean</th>\n",
              "      <td>0.497653</td>\n",
              "      <td>43.997388</td>\n",
              "      <td>2.333873</td>\n",
              "      <td>1.743586</td>\n",
              "      <td>0.349940</td>\n",
              "      <td>0.334336</td>\n",
              "      <td>0.113991</td>\n",
              "      <td>0.713700</td>\n",
              "      <td>0.327989</td>\n",
              "      <td>0.752281</td>\n",
              "      <td>12.494214</td>\n",
              "      <td>0.252909</td>\n",
              "      <td>0.248611</td>\n",
              "      <td>0.247653</td>\n",
              "      <td>0.250827</td>\n",
              "      <td>0.402539</td>\n",
              "      <td>0.197831</td>\n",
              "      <td>0.200145</td>\n",
              "      <td>0.199484</td>\n",
              "      <td>0.285903</td>\n",
              "      <td>0.288350</td>\n",
              "      <td>0.281804</td>\n",
              "      <td>0.143943</td>\n",
              "      <td>0.199121</td>\n",
              "      <td>0.205964</td>\n",
              "      <td>0.397051</td>\n",
              "      <td>0.197864</td>\n",
              "      <td>0.338336</td>\n",
              "      <td>0.331757</td>\n",
              "      <td>0.329906</td>\n",
              "      <td>0.500727</td>\n",
              "      <td>0.202691</td>\n",
              "      <td>0.296582</td>\n",
              "      <td>0.664077</td>\n",
              "      <td>0.082319</td>\n",
              "      <td>0.253604</td>\n",
              "      <td>0.144770</td>\n",
              "      <td>0.288482</td>\n",
              "      <td>0.566748</td>\n",
              "      <td>1.832683</td>\n",
              "      <td>109.895696</td>\n",
              "      <td>6.571079</td>\n",
              "      <td>0.516431</td>\n",
              "      <td>10.066259</td>\n",
              "      <td>5.131498</td>\n",
              "    </tr>\n",
              "    <tr>\n",
              "      <th>std</th>\n",
              "      <td>0.500003</td>\n",
              "      <td>15.294786</td>\n",
              "      <td>1.177353</td>\n",
              "      <td>0.722228</td>\n",
              "      <td>0.572767</td>\n",
              "      <td>0.471766</td>\n",
              "      <td>0.317806</td>\n",
              "      <td>0.452039</td>\n",
              "      <td>0.622291</td>\n",
              "      <td>0.431695</td>\n",
              "      <td>11.202236</td>\n",
              "      <td>0.434687</td>\n",
              "      <td>0.432215</td>\n",
              "      <td>0.431656</td>\n",
              "      <td>0.433496</td>\n",
              "      <td>0.490417</td>\n",
              "      <td>0.398371</td>\n",
              "      <td>0.400116</td>\n",
              "      <td>0.399619</td>\n",
              "      <td>0.451851</td>\n",
              "      <td>0.453002</td>\n",
              "      <td>0.449886</td>\n",
              "      <td>0.351038</td>\n",
              "      <td>0.399346</td>\n",
              "      <td>0.404411</td>\n",
              "      <td>0.489295</td>\n",
              "      <td>0.398396</td>\n",
              "      <td>0.473151</td>\n",
              "      <td>0.470852</td>\n",
              "      <td>0.470187</td>\n",
              "      <td>0.500008</td>\n",
              "      <td>0.402011</td>\n",
              "      <td>0.456758</td>\n",
              "      <td>0.472320</td>\n",
              "      <td>0.274855</td>\n",
              "      <td>0.435081</td>\n",
              "      <td>0.351875</td>\n",
              "      <td>0.453064</td>\n",
              "      <td>0.495533</td>\n",
              "      <td>0.984225</td>\n",
              "      <td>76.926047</td>\n",
              "      <td>3.336087</td>\n",
              "      <td>0.499738</td>\n",
              "      <td>0.585590</td>\n",
              "      <td>0.262621</td>\n",
              "    </tr>\n",
              "    <tr>\n",
              "      <th>min</th>\n",
              "      <td>0.000000</td>\n",
              "      <td>18.000000</td>\n",
              "      <td>1.000000</td>\n",
              "      <td>1.000000</td>\n",
              "      <td>0.000000</td>\n",
              "      <td>0.000000</td>\n",
              "      <td>0.000000</td>\n",
              "      <td>0.000000</td>\n",
              "      <td>0.000000</td>\n",
              "      <td>0.000000</td>\n",
              "      <td>0.000000</td>\n",
              "      <td>0.000000</td>\n",
              "      <td>0.000000</td>\n",
              "      <td>0.000000</td>\n",
              "      <td>0.000000</td>\n",
              "      <td>0.000000</td>\n",
              "      <td>0.000000</td>\n",
              "      <td>0.000000</td>\n",
              "      <td>0.000000</td>\n",
              "      <td>0.000000</td>\n",
              "      <td>0.000000</td>\n",
              "      <td>0.000000</td>\n",
              "      <td>0.000000</td>\n",
              "      <td>0.000000</td>\n",
              "      <td>0.000000</td>\n",
              "      <td>0.000000</td>\n",
              "      <td>0.000000</td>\n",
              "      <td>0.000000</td>\n",
              "      <td>0.000000</td>\n",
              "      <td>0.000000</td>\n",
              "      <td>0.000000</td>\n",
              "      <td>0.000000</td>\n",
              "      <td>0.000000</td>\n",
              "      <td>0.000000</td>\n",
              "      <td>0.000000</td>\n",
              "      <td>0.000000</td>\n",
              "      <td>0.000000</td>\n",
              "      <td>0.000000</td>\n",
              "      <td>0.000000</td>\n",
              "      <td>1.000000</td>\n",
              "      <td>-4.000000</td>\n",
              "      <td>1.000000</td>\n",
              "      <td>0.000000</td>\n",
              "      <td>8.699515</td>\n",
              "      <td>4.605180</td>\n",
              "    </tr>\n",
              "    <tr>\n",
              "      <th>25%</th>\n",
              "      <td>0.000000</td>\n",
              "      <td>31.000000</td>\n",
              "      <td>2.000000</td>\n",
              "      <td>1.000000</td>\n",
              "      <td>0.000000</td>\n",
              "      <td>0.000000</td>\n",
              "      <td>0.000000</td>\n",
              "      <td>0.000000</td>\n",
              "      <td>0.000000</td>\n",
              "      <td>1.000000</td>\n",
              "      <td>5.000000</td>\n",
              "      <td>0.000000</td>\n",
              "      <td>0.000000</td>\n",
              "      <td>0.000000</td>\n",
              "      <td>0.000000</td>\n",
              "      <td>0.000000</td>\n",
              "      <td>0.000000</td>\n",
              "      <td>0.000000</td>\n",
              "      <td>0.000000</td>\n",
              "      <td>0.000000</td>\n",
              "      <td>0.000000</td>\n",
              "      <td>0.000000</td>\n",
              "      <td>0.000000</td>\n",
              "      <td>0.000000</td>\n",
              "      <td>0.000000</td>\n",
              "      <td>0.000000</td>\n",
              "      <td>0.000000</td>\n",
              "      <td>0.000000</td>\n",
              "      <td>0.000000</td>\n",
              "      <td>0.000000</td>\n",
              "      <td>0.000000</td>\n",
              "      <td>0.000000</td>\n",
              "      <td>0.000000</td>\n",
              "      <td>0.000000</td>\n",
              "      <td>0.000000</td>\n",
              "      <td>0.000000</td>\n",
              "      <td>0.000000</td>\n",
              "      <td>0.000000</td>\n",
              "      <td>0.000000</td>\n",
              "      <td>1.000000</td>\n",
              "      <td>46.000000</td>\n",
              "      <td>4.000000</td>\n",
              "      <td>0.000000</td>\n",
              "      <td>9.615806</td>\n",
              "      <td>4.919988</td>\n",
              "    </tr>\n",
              "    <tr>\n",
              "      <th>50%</th>\n",
              "      <td>0.000000</td>\n",
              "      <td>44.000000</td>\n",
              "      <td>2.000000</td>\n",
              "      <td>2.000000</td>\n",
              "      <td>0.000000</td>\n",
              "      <td>0.000000</td>\n",
              "      <td>0.000000</td>\n",
              "      <td>1.000000</td>\n",
              "      <td>0.000000</td>\n",
              "      <td>1.000000</td>\n",
              "      <td>10.000000</td>\n",
              "      <td>0.000000</td>\n",
              "      <td>0.000000</td>\n",
              "      <td>0.000000</td>\n",
              "      <td>0.000000</td>\n",
              "      <td>0.000000</td>\n",
              "      <td>0.000000</td>\n",
              "      <td>0.000000</td>\n",
              "      <td>0.000000</td>\n",
              "      <td>0.000000</td>\n",
              "      <td>0.000000</td>\n",
              "      <td>0.000000</td>\n",
              "      <td>0.000000</td>\n",
              "      <td>0.000000</td>\n",
              "      <td>0.000000</td>\n",
              "      <td>0.000000</td>\n",
              "      <td>0.000000</td>\n",
              "      <td>0.000000</td>\n",
              "      <td>0.000000</td>\n",
              "      <td>0.000000</td>\n",
              "      <td>1.000000</td>\n",
              "      <td>0.000000</td>\n",
              "      <td>0.000000</td>\n",
              "      <td>1.000000</td>\n",
              "      <td>0.000000</td>\n",
              "      <td>0.000000</td>\n",
              "      <td>0.000000</td>\n",
              "      <td>0.000000</td>\n",
              "      <td>1.000000</td>\n",
              "      <td>2.000000</td>\n",
              "      <td>102.000000</td>\n",
              "      <td>7.000000</td>\n",
              "      <td>1.000000</td>\n",
              "      <td>9.985068</td>\n",
              "      <td>5.159061</td>\n",
              "    </tr>\n",
              "    <tr>\n",
              "      <th>75%</th>\n",
              "      <td>1.000000</td>\n",
              "      <td>57.000000</td>\n",
              "      <td>3.000000</td>\n",
              "      <td>2.000000</td>\n",
              "      <td>1.000000</td>\n",
              "      <td>1.000000</td>\n",
              "      <td>0.000000</td>\n",
              "      <td>1.000000</td>\n",
              "      <td>0.000000</td>\n",
              "      <td>1.000000</td>\n",
              "      <td>20.000000</td>\n",
              "      <td>1.000000</td>\n",
              "      <td>0.000000</td>\n",
              "      <td>0.000000</td>\n",
              "      <td>1.000000</td>\n",
              "      <td>1.000000</td>\n",
              "      <td>0.000000</td>\n",
              "      <td>0.000000</td>\n",
              "      <td>0.000000</td>\n",
              "      <td>1.000000</td>\n",
              "      <td>1.000000</td>\n",
              "      <td>1.000000</td>\n",
              "      <td>0.000000</td>\n",
              "      <td>0.000000</td>\n",
              "      <td>0.000000</td>\n",
              "      <td>1.000000</td>\n",
              "      <td>0.000000</td>\n",
              "      <td>1.000000</td>\n",
              "      <td>1.000000</td>\n",
              "      <td>1.000000</td>\n",
              "      <td>1.000000</td>\n",
              "      <td>0.000000</td>\n",
              "      <td>1.000000</td>\n",
              "      <td>1.000000</td>\n",
              "      <td>0.000000</td>\n",
              "      <td>1.000000</td>\n",
              "      <td>0.000000</td>\n",
              "      <td>1.000000</td>\n",
              "      <td>1.000000</td>\n",
              "      <td>2.000000</td>\n",
              "      <td>166.000000</td>\n",
              "      <td>9.000000</td>\n",
              "      <td>1.000000</td>\n",
              "      <td>10.540064</td>\n",
              "      <td>5.365981</td>\n",
              "    </tr>\n",
              "    <tr>\n",
              "      <th>max</th>\n",
              "      <td>1.000000</td>\n",
              "      <td>70.000000</td>\n",
              "      <td>5.000000</td>\n",
              "      <td>3.000000</td>\n",
              "      <td>2.000000</td>\n",
              "      <td>1.000000</td>\n",
              "      <td>1.000000</td>\n",
              "      <td>1.000000</td>\n",
              "      <td>2.000000</td>\n",
              "      <td>1.000000</td>\n",
              "      <td>40.000000</td>\n",
              "      <td>1.000000</td>\n",
              "      <td>1.000000</td>\n",
              "      <td>1.000000</td>\n",
              "      <td>1.000000</td>\n",
              "      <td>1.000000</td>\n",
              "      <td>1.000000</td>\n",
              "      <td>1.000000</td>\n",
              "      <td>1.000000</td>\n",
              "      <td>1.000000</td>\n",
              "      <td>1.000000</td>\n",
              "      <td>1.000000</td>\n",
              "      <td>1.000000</td>\n",
              "      <td>1.000000</td>\n",
              "      <td>1.000000</td>\n",
              "      <td>1.000000</td>\n",
              "      <td>1.000000</td>\n",
              "      <td>1.000000</td>\n",
              "      <td>1.000000</td>\n",
              "      <td>1.000000</td>\n",
              "      <td>1.000000</td>\n",
              "      <td>1.000000</td>\n",
              "      <td>1.000000</td>\n",
              "      <td>1.000000</td>\n",
              "      <td>1.000000</td>\n",
              "      <td>1.000000</td>\n",
              "      <td>1.000000</td>\n",
              "      <td>1.000000</td>\n",
              "      <td>1.000000</td>\n",
              "      <td>4.000000</td>\n",
              "      <td>708.000000</td>\n",
              "      <td>12.000000</td>\n",
              "      <td>1.000000</td>\n",
              "      <td>11.512925</td>\n",
              "      <td>5.521465</td>\n",
              "    </tr>\n",
              "  </tbody>\n",
              "</table>\n",
              "</div>"
            ],
            "text/plain": [
              "             Gender           Age  ...  Log Actual_cost  Log Room_Rate\n",
              "count  30248.000000  30248.000000  ...     30248.000000   30248.000000\n",
              "mean       0.497653     43.997388  ...        10.066259       5.131498\n",
              "std        0.500003     15.294786  ...         0.585590       0.262621\n",
              "min        0.000000     18.000000  ...         8.699515       4.605180\n",
              "25%        0.000000     31.000000  ...         9.615806       4.919988\n",
              "50%        0.000000     44.000000  ...         9.985068       5.159061\n",
              "75%        1.000000     57.000000  ...        10.540064       5.365981\n",
              "max        1.000000     70.000000  ...        11.512925       5.521465\n",
              "\n",
              "[8 rows x 45 columns]"
            ]
          },
          "metadata": {
            "tags": []
          },
          "execution_count": 298
        }
      ]
    },
    {
      "cell_type": "code",
      "metadata": {
        "id": "e2gwvJD8WDrp"
      },
      "source": [
        "from sklearn.model_selection import train_test_split"
      ],
      "execution_count": 299,
      "outputs": []
    },
    {
      "cell_type": "code",
      "metadata": {
        "colab": {
          "base_uri": "https://localhost:8080/"
        },
        "id": "jPEigmH39PNt",
        "outputId": "9b65a762-5932-4abd-f28c-12373401b278"
      },
      "source": [
        "train_df, test_df = train_test_split(cleaned_df, test_size=0.2)\n",
        "train_df, val_df = train_test_split(train_df, test_size=0.2)\n",
        "\n",
        "checkin, canceled, noshow = np.bincount(train_df['Reservation_Status'])\n",
        "total = checkin + canceled + noshow\n",
        "print('Train Dataframe:\\n    Total: {}\\n    Check-In: {} ({:.2f}% of total)\\n    Canceled: {} ({:.2f}% of total)\\n     No-Show: {} ({:.2f}% of total)\\n'.format(\n",
        "    total, checkin, 100 * checkin / total, canceled, 100 * canceled / total, noshow, 100 * noshow / total))\n",
        "\n",
        "checkin, canceled, noshow = np.bincount(test_df['Reservation_Status'])\n",
        "total = checkin + canceled + noshow\n",
        "print('Test Dataframe:\\n    Total: {}\\n    Check-In: {} ({:.2f}% of total)\\n    Canceled: {} ({:.2f}% of total)\\n     No-Show: {} ({:.2f}% of total)\\n'.format(\n",
        "    total, checkin, 100 * checkin / total, canceled, 100 * canceled / total, noshow, 100 * noshow / total))\n",
        "\n",
        "checkin, canceled, noshow = np.bincount(val_df['Reservation_Status'])\n",
        "total = checkin + canceled + noshow\n",
        "print('Validation Dataframe:\\n    Total: {}\\n    Check-In: {} ({:.2f}% of total)\\n    Canceled: {} ({:.2f}% of total)\\n     No-Show: {} ({:.2f}% of total)\\n'.format(\n",
        "    total, checkin, 100 * checkin / total, canceled, 100 * canceled / total, noshow, 100 * noshow / total))\n"
      ],
      "execution_count": 300,
      "outputs": [
        {
          "output_type": "stream",
          "text": [
            "Train Dataframe:\n",
            "    Total: 19358\n",
            "    Check-In: 14620 (75.52% of total)\n",
            "    Canceled: 3129 (16.16% of total)\n",
            "     No-Show: 1609 (8.31% of total)\n",
            "\n",
            "Test Dataframe:\n",
            "    Total: 6050\n",
            "    Check-In: 4570 (75.54% of total)\n",
            "    Canceled: 968 (16.00% of total)\n",
            "     No-Show: 512 (8.46% of total)\n",
            "\n",
            "Validation Dataframe:\n",
            "    Total: 4840\n",
            "    Check-In: 3660 (75.62% of total)\n",
            "    Canceled: 778 (16.07% of total)\n",
            "     No-Show: 402 (8.31% of total)\n",
            "\n"
          ],
          "name": "stdout"
        }
      ]
    },
    {
      "cell_type": "code",
      "metadata": {
        "id": "J2J31wRiWAsi"
      },
      "source": [
        "train_labels = np.array(train_df.pop('Reservation_Status'))\n",
        "bool_checkin_labels = train_labels == 0\n",
        "bool_canceled_labels = train_labels == 1\n",
        "bool_noshow_labels = train_labels == 2\n",
        "val_labels = np.array(val_df.pop('Reservation_Status'))\n",
        "test_labels = np.array(test_df.pop('Reservation_Status'))\n",
        "\n",
        "train_features = np.array(train_df)\n",
        "val_features = np.array(val_df)\n",
        "test_features_not_scaled = np.array(test_df)"
      ],
      "execution_count": 301,
      "outputs": []
    },
    {
      "cell_type": "code",
      "metadata": {
        "id": "FKppJ5fi_chK"
      },
      "source": [
        "from sklearn.preprocessing import StandardScaler"
      ],
      "execution_count": null,
      "outputs": []
    },
    {
      "cell_type": "code",
      "metadata": {
        "colab": {
          "base_uri": "https://localhost:8080/"
        },
        "id": "aCM24ReT_WWj",
        "outputId": "a97318ec-dd5e-41e8-b862-e74a0d2b92b7"
      },
      "source": [
        "scaler = StandardScaler()\n",
        "train_features = scaler.fit_transform(train_features)\n",
        "\n",
        "val_features = scaler.transform(val_features)\n",
        "test_features = scaler.transform(test_features_not_scaled)\n",
        "\n",
        "train_features = np.clip(train_features, -5, 5)\n",
        "val_features = np.clip(val_features, -5, 5)\n",
        "test_features = np.clip(test_features, -5, 5)\n",
        "\n",
        "\n",
        "print('Training labels shape:', train_labels.shape)\n",
        "print('Validation labels shape:', val_labels.shape)\n",
        "print('Test labels shape:', test_labels.shape)\n",
        "\n",
        "print('Training features shape:', train_features.shape)\n",
        "print('Validation features shape:', val_features.shape)\n",
        "print('Test features shape:', test_features.shape)"
      ],
      "execution_count": null,
      "outputs": [
        {
          "output_type": "stream",
          "text": [
            "Training labels shape: (19358,)\n",
            "Validation labels shape: (4840,)\n",
            "Test labels shape: (6050,)\n",
            "Training features shape: (19358, 44)\n",
            "Validation features shape: (4840, 44)\n",
            "Test features shape: (6050, 44)\n"
          ],
          "name": "stdout"
        }
      ]
    },
    {
      "cell_type": "code",
      "metadata": {
        "id": "wn1Zr7jtApW5"
      },
      "source": [
        "import matplotlib as mpl\n",
        "import matplotlib.pyplot as plt\n",
        "import numpy as np\n",
        "import pandas as pd\n",
        "import seaborn as sns"
      ],
      "execution_count": 302,
      "outputs": []
    },
    {
      "cell_type": "code",
      "metadata": {
        "colab": {
          "base_uri": "https://localhost:8080/",
          "height": 1000
        },
        "id": "Eo12Zc_bAlP_",
        "outputId": "526f1040-7171-4a5c-fcb9-92d8b1f2b016"
      },
      "source": [
        "checkin_df = pd.DataFrame(train_features[ bool_checkin_labels], columns=train_df.columns)\n",
        "canceled_df = pd.DataFrame(train_features[bool_canceled_labels], columns=train_df.columns)\n",
        "noshow_df = pd.DataFrame(train_features[bool_noshow_labels], columns=train_df.columns)\n",
        "\n",
        "sns.jointplot(checkin_df['Booking_to_checkingin'], checkin_df['Log Actual_cost'],\n",
        "              kind='hex', xlim=(-5,5), ylim=(-5,5))\n",
        "plt.suptitle(\"Check-In distribution\")\n",
        "\n",
        "sns.jointplot(canceled_df['Booking_to_checkingin'], canceled_df['Log Actual_cost'],\n",
        "              kind='hex', xlim=(-5,5), ylim=(-5,5))\n",
        "_ = plt.suptitle(\"Canceled distribution\")\n",
        "\n",
        "sns.jointplot(noshow_df['Booking_to_checkingin'], noshow_df['Log Actual_cost'],\n",
        "              kind='hex', xlim=(-5,5), ylim=(-5,5))\n",
        "_ = plt.suptitle(\"No-Show distribution\")"
      ],
      "execution_count": null,
      "outputs": [
        {
          "output_type": "stream",
          "text": [
            "/usr/local/lib/python3.7/dist-packages/seaborn/_decorators.py:43: FutureWarning: Pass the following variables as keyword args: x, y. From version 0.12, the only valid positional argument will be `data`, and passing other arguments without an explicit keyword will result in an error or misinterpretation.\n",
            "  FutureWarning\n",
            "/usr/local/lib/python3.7/dist-packages/seaborn/_decorators.py:43: FutureWarning: Pass the following variables as keyword args: x, y. From version 0.12, the only valid positional argument will be `data`, and passing other arguments without an explicit keyword will result in an error or misinterpretation.\n",
            "  FutureWarning\n",
            "/usr/local/lib/python3.7/dist-packages/seaborn/_decorators.py:43: FutureWarning: Pass the following variables as keyword args: x, y. From version 0.12, the only valid positional argument will be `data`, and passing other arguments without an explicit keyword will result in an error or misinterpretation.\n",
            "  FutureWarning\n"
          ],
          "name": "stderr"
        },
        {
          "output_type": "display_data",
          "data": {
            "image/png": "[encoded data removed]",
            "text/plain": [
              "<Figure size 432x432 with 3 Axes>"
            ]
          },
          "metadata": {
            "tags": []
          }
        },
        {
          "output_type": "display_data",
          "data": {
            "image/png": "[encoded data removed]",
            "text/plain": [
              "<Figure size 432x432 with 3 Axes>"
            ]
          },
          "metadata": {
            "tags": []
          }
        },
        {
          "output_type": "display_data",
          "data": {
            "image/png": "[encoded data removed]",
            "text/plain": [
              "<Figure size 432x432 with 3 Axes>"
            ]
          },
          "metadata": {
            "tags": []
          }
        }
      ]
    },
    {
      "cell_type": "code",
      "metadata": {
        "colab": {
          "base_uri": "https://localhost:8080/"
        },
        "id": "MOUGWA4dBPoA",
        "outputId": "5ba0170d-4c1d-4b82-ae36-f48e1f1f9637"
      },
      "source": [
        "weight_for_0 = (1 / checkin)*(total)/2.0 \n",
        "weight_for_1 = (1 / canceled)*(total)/2.0\n",
        "weight_for_2 = (1 / noshow)*(total)/2.0\n",
        "\n",
        "class_weight = {0: weight_for_0, 1: weight_for_1, 2: weight_for_2}\n",
        "\n",
        "print('Weight for class 0: {:.2f}'.format(weight_for_0))\n",
        "print('Weight for class 1: {:.2f}'.format(weight_for_1))\n",
        "print('Weight for class 2: {:.2f}'.format(weight_for_2))"
      ],
      "execution_count": 303,
      "outputs": [
        {
          "output_type": "stream",
          "text": [
            "Weight for class 0: 0.66\n",
            "Weight for class 1: 3.11\n",
            "Weight for class 2: 6.02\n"
          ],
          "name": "stdout"
        }
      ]
    },
    {
      "cell_type": "code",
      "metadata": {
        "colab": {
          "base_uri": "https://localhost:8080/"
        },
        "id": "r525LzvKE8TQ",
        "outputId": "8243da57-1b0e-427c-e220-08b250b4ff07"
      },
      "source": [
        "class_weight"
      ],
      "execution_count": 304,
      "outputs": [
        {
          "output_type": "execute_result",
          "data": {
            "text/plain": [
              "{0: 0.6612021857923497, 1: 3.1105398457583546, 2: 6.019900497512437}"
            ]
          },
          "metadata": {
            "tags": []
          },
          "execution_count": 304
        }
      ]
    },
    {
      "cell_type": "markdown",
      "metadata": {
        "id": "i8XDxp8sLRnu"
      },
      "source": [
        "### Trying out Models"
      ]
    },
    {
      "cell_type": "markdown",
      "metadata": {
        "id": "WJgKQyeYIl14"
      },
      "source": [
        "#### Dafault Models and Weighted Models"
      ]
    },
    {
      "cell_type": "code",
      "metadata": {
        "id": "9MXCmiPxVpD_"
      },
      "source": [
        "from sklearn.linear_model import LogisticRegression #trying different models\n",
        "from sklearn.tree import DecisionTreeClassifier\n",
        "from sklearn.ensemble import RandomForestClassifier\n",
        "from sklearn.ensemble import GradientBoostingClassifier\n",
        "from sklearn.ensemble import AdaBoostClassifier\n",
        "from sklearn.ensemble import ExtraTreesClassifier\n",
        "from sklearn.neighbors import KNeighborsClassifier\n",
        "from sklearn.svm import SVC\n",
        "from sklearn.naive_bayes import GaussianNB\n",
        "#from sklearn.model_selection import KFold\n",
        "from sklearn.metrics import accuracy_score\n",
        "from sklearn.metrics import classification_report,confusion_matrix"
      ],
      "execution_count": 305,
      "outputs": []
    },
    {
      "cell_type": "code",
      "metadata": {
        "colab": {
          "base_uri": "https://localhost:8080/"
        },
        "id": "o99Z7PzBV_Jv",
        "outputId": "0a02736f-8ad8-4076-d924-9ef1143edfc5"
      },
      "source": [
        "classifiers = [['Logistic Regression :', LogisticRegression(max_iter = 1500)],\n",
        "       ['Decision Tree Classification :', DecisionTreeClassifier(criterion='gini', max_depth=15)],\n",
        "       ['Gradient Boosting Classification :', GradientBoostingClassifier()],\n",
        "       ['Ada Boosting Classification :', AdaBoostClassifier()],\n",
        "       ['RandomForest Classification :', RandomForestClassifier()],\n",
        "       ['RandomForest Classification_Balanced :', RandomForestClassifier(random_state=0, n_jobs=-1, n_estimators=10, class_weight=\"balanced\")],\n",
        "       ['RandomForest Classification_Balanced_SubSample :', RandomForestClassifier(random_state=0, n_jobs=-1, n_estimators=10, class_weight=\"balanced_subsample\")],\n",
        "       ['RandomForest Classification_Custom_Weighted :', RandomForestClassifier(random_state=0, n_jobs=-1, n_estimators=10, class_weight=class_weight)],\n",
        "       ['Extra Tree Classification :', ExtraTreesClassifier()],\n",
        "       ['K-Neighbors Classification :', KNeighborsClassifier()],\n",
        "      #  ['Support Vector Classification :',SVC()],\n",
        "       ['Gaussian Naive Bayes :',GaussianNB()]]\n",
        "\n",
        "for name,model in classifiers:\n",
        "    model = model\n",
        "    model.fit(train_features,train_labels)\n",
        "    predictions = model.predict(val_features)\n",
        "    print(name,accuracy_score(val_labels,predictions))\n",
        "    print(confusion_matrix(val_labels,predictions))\n",
        "    print(classification_report(val_labels,predictions))"
      ],
      "execution_count": 306,
      "outputs": [
        {
          "output_type": "stream",
          "text": [
            "Logistic Regression : 0.756198347107438\n",
            "[[3660    0    0]\n",
            " [ 778    0    0]\n",
            " [ 402    0    0]]\n",
            "              precision    recall  f1-score   support\n",
            "\n",
            "           0       0.76      1.00      0.86      3660\n",
            "           1       0.00      0.00      0.00       778\n",
            "           2       0.00      0.00      0.00       402\n",
            "\n",
            "    accuracy                           0.76      4840\n",
            "   macro avg       0.25      0.33      0.29      4840\n",
            "weighted avg       0.57      0.76      0.65      4840\n",
            "\n"
          ],
          "name": "stdout"
        },
        {
          "output_type": "stream",
          "text": [
            "/usr/local/lib/python3.7/dist-packages/sklearn/metrics/_classification.py:1272: UndefinedMetricWarning: Precision and F-score are ill-defined and being set to 0.0 in labels with no predicted samples. Use `zero_division` parameter to control this behavior.\n",
            "  _warn_prf(average, modifier, msg_start, len(result))\n"
          ],
          "name": "stderr"
        },
        {
          "output_type": "stream",
          "text": [
            "Decision Tree Classification : 0.6566115702479339\n",
            "[[3034  448  178]\n",
            " [ 606  115   57]\n",
            " [ 302   71   29]]\n",
            "              precision    recall  f1-score   support\n",
            "\n",
            "           0       0.77      0.83      0.80      3660\n",
            "           1       0.18      0.15      0.16       778\n",
            "           2       0.11      0.07      0.09       402\n",
            "\n",
            "    accuracy                           0.66      4840\n",
            "   macro avg       0.35      0.35      0.35      4840\n",
            "weighted avg       0.62      0.66      0.64      4840\n",
            "\n",
            "Gradient Boosting Classification : 0.756198347107438\n",
            "[[3660    0    0]\n",
            " [ 778    0    0]\n",
            " [ 402    0    0]]\n",
            "              precision    recall  f1-score   support\n",
            "\n",
            "           0       0.76      1.00      0.86      3660\n",
            "           1       0.00      0.00      0.00       778\n",
            "           2       0.00      0.00      0.00       402\n",
            "\n",
            "    accuracy                           0.76      4840\n",
            "   macro avg       0.25      0.33      0.29      4840\n",
            "weighted avg       0.57      0.76      0.65      4840\n",
            "\n"
          ],
          "name": "stdout"
        },
        {
          "output_type": "stream",
          "text": [
            "/usr/local/lib/python3.7/dist-packages/sklearn/metrics/_classification.py:1272: UndefinedMetricWarning: Precision and F-score are ill-defined and being set to 0.0 in labels with no predicted samples. Use `zero_division` parameter to control this behavior.\n",
            "  _warn_prf(average, modifier, msg_start, len(result))\n"
          ],
          "name": "stderr"
        },
        {
          "output_type": "stream",
          "text": [
            "Ada Boosting Classification : 0.756198347107438\n",
            "[[3660    0    0]\n",
            " [ 778    0    0]\n",
            " [ 402    0    0]]\n",
            "              precision    recall  f1-score   support\n",
            "\n",
            "           0       0.76      1.00      0.86      3660\n",
            "           1       0.00      0.00      0.00       778\n",
            "           2       0.00      0.00      0.00       402\n",
            "\n",
            "    accuracy                           0.76      4840\n",
            "   macro avg       0.25      0.33      0.29      4840\n",
            "weighted avg       0.57      0.76      0.65      4840\n",
            "\n"
          ],
          "name": "stdout"
        },
        {
          "output_type": "stream",
          "text": [
            "/usr/local/lib/python3.7/dist-packages/sklearn/metrics/_classification.py:1272: UndefinedMetricWarning: Precision and F-score are ill-defined and being set to 0.0 in labels with no predicted samples. Use `zero_division` parameter to control this behavior.\n",
            "  _warn_prf(average, modifier, msg_start, len(result))\n"
          ],
          "name": "stderr"
        },
        {
          "output_type": "stream",
          "text": [
            "RandomForest Classification : 0.756198347107438\n",
            "[[3659    1    0]\n",
            " [ 776    1    1]\n",
            " [ 402    0    0]]\n",
            "              precision    recall  f1-score   support\n",
            "\n",
            "           0       0.76      1.00      0.86      3660\n",
            "           1       0.50      0.00      0.00       778\n",
            "           2       0.00      0.00      0.00       402\n",
            "\n",
            "    accuracy                           0.76      4840\n",
            "   macro avg       0.42      0.33      0.29      4840\n",
            "weighted avg       0.65      0.76      0.65      4840\n",
            "\n",
            "RandomForest Classification_Balanced : 0.7483471074380166\n",
            "[[3593   60    7]\n",
            " [ 747   28    3]\n",
            " [ 391   10    1]]\n",
            "              precision    recall  f1-score   support\n",
            "\n",
            "           0       0.76      0.98      0.86      3660\n",
            "           1       0.29      0.04      0.06       778\n",
            "           2       0.09      0.00      0.00       402\n",
            "\n",
            "    accuracy                           0.75      4840\n",
            "   macro avg       0.38      0.34      0.31      4840\n",
            "weighted avg       0.63      0.75      0.66      4840\n",
            "\n",
            "RandomForest Classification_Balanced_SubSample : 0.7518595041322315\n",
            "[[3598   54    8]\n",
            " [ 740   35    3]\n",
            " [ 383   13    6]]\n",
            "              precision    recall  f1-score   support\n",
            "\n",
            "           0       0.76      0.98      0.86      3660\n",
            "           1       0.34      0.04      0.08       778\n",
            "           2       0.35      0.01      0.03       402\n",
            "\n",
            "    accuracy                           0.75      4840\n",
            "   macro avg       0.49      0.35      0.32      4840\n",
            "weighted avg       0.66      0.75      0.66      4840\n",
            "\n",
            "RandomForest Classification_Custom_Weighted : 0.7473140495867768\n",
            "[[3596   59    5]\n",
            " [ 756   20    2]\n",
            " [ 393    8    1]]\n",
            "              precision    recall  f1-score   support\n",
            "\n",
            "           0       0.76      0.98      0.86      3660\n",
            "           1       0.23      0.03      0.05       778\n",
            "           2       0.12      0.00      0.00       402\n",
            "\n",
            "    accuracy                           0.75      4840\n",
            "   macro avg       0.37      0.34      0.30      4840\n",
            "weighted avg       0.62      0.75      0.65      4840\n",
            "\n",
            "Extra Tree Classification : 0.7537190082644628\n",
            "[[3645   13    2]\n",
            " [ 775    3    0]\n",
            " [ 398    4    0]]\n",
            "              precision    recall  f1-score   support\n",
            "\n",
            "           0       0.76      1.00      0.86      3660\n",
            "           1       0.15      0.00      0.01       778\n",
            "           2       0.00      0.00      0.00       402\n",
            "\n",
            "    accuracy                           0.75      4840\n",
            "   macro avg       0.30      0.33      0.29      4840\n",
            "weighted avg       0.60      0.75      0.65      4840\n",
            "\n",
            "K-Neighbors Classification : 0.734297520661157\n",
            "[[3498  138   24]\n",
            " [ 721   50    7]\n",
            " [ 384   12    6]]\n",
            "              precision    recall  f1-score   support\n",
            "\n",
            "           0       0.76      0.96      0.85      3660\n",
            "           1       0.25      0.06      0.10       778\n",
            "           2       0.16      0.01      0.03       402\n",
            "\n",
            "    accuracy                           0.73      4840\n",
            "   macro avg       0.39      0.34      0.33      4840\n",
            "weighted avg       0.63      0.73      0.66      4840\n",
            "\n",
            "Gaussian Naive Bayes : 0.7039256198347107\n",
            "[[3234  411   15]\n",
            " [ 602  169    7]\n",
            " [ 315   83    4]]\n",
            "              precision    recall  f1-score   support\n",
            "\n",
            "           0       0.78      0.88      0.83      3660\n",
            "           1       0.25      0.22      0.23       778\n",
            "           2       0.15      0.01      0.02       402\n",
            "\n",
            "    accuracy                           0.70      4840\n",
            "   macro avg       0.40      0.37      0.36      4840\n",
            "weighted avg       0.64      0.70      0.67      4840\n",
            "\n"
          ],
          "name": "stdout"
        }
      ]
    },
    {
      "cell_type": "code",
      "metadata": {
        "colab": {
          "base_uri": "https://localhost:8080/"
        },
        "id": "IkZMijAOcs1x",
        "outputId": "b3c18be3-7d2d-46cd-f19b-70dbcf2f6922"
      },
      "source": [
        "model = DecisionTreeClassifier(criterion='gini', max_depth=15)\n",
        "model.fit(train_features,train_labels)\n",
        "predictions = model.predict(test_features)\n",
        "print(accuracy_score(test_labels,predictions))\n",
        "print(confusion_matrix(test_labels,predictions))\n",
        "print(classification_report(test_labels,predictions))"
      ],
      "execution_count": 327,
      "outputs": [
        {
          "output_type": "stream",
          "text": [
            "0.5917355371900826\n",
            "[[3315 1240   15]\n",
            " [ 704  262    2]\n",
            " [ 371  138    3]]\n",
            "              precision    recall  f1-score   support\n",
            "\n",
            "           0       0.76      0.73      0.74      4570\n",
            "           1       0.16      0.27      0.20       968\n",
            "           2       0.15      0.01      0.01       512\n",
            "\n",
            "    accuracy                           0.59      6050\n",
            "   macro avg       0.35      0.33      0.32      6050\n",
            "weighted avg       0.61      0.59      0.59      6050\n",
            "\n"
          ],
          "name": "stdout"
        }
      ]
    },
    {
      "cell_type": "markdown",
      "metadata": {
        "id": "hAObD3XuFfDf"
      },
      "source": [
        "#### Oversampling"
      ]
    },
    {
      "cell_type": "code",
      "metadata": {
        "id": "aStMj5EaFh-F"
      },
      "source": [
        "checkin_features = train_features[bool_checkin_labels]\n",
        "canceled_features = train_features[bool_canceled_labels]\n",
        "noshow_features = train_features[bool_noshow_labels]\n",
        "\n",
        "checkin_labels = train_labels[bool_checkin_labels]\n",
        "canceled_labels = train_labels[bool_canceled_labels]\n",
        "noshow_labels = train_labels[bool_noshow_labels]"
      ],
      "execution_count": 343,
      "outputs": []
    },
    {
      "cell_type": "code",
      "metadata": {
        "colab": {
          "base_uri": "https://localhost:8080/"
        },
        "id": "IqwLALTjFea-",
        "outputId": "8e052cdf-1d10-4670-e6fb-cc60782d2bae"
      },
      "source": [
        "ids = np.arange(len(canceled_features))\n",
        "choices = np.random.choice(ids, len(checkin_features))\n",
        "print(ids)\n",
        "res_canceled_features = canceled_features[choices]\n",
        "res_canceled_labels = canceled_labels[choices]\n",
        "\n",
        "res_canceled_features.shape"
      ],
      "execution_count": 344,
      "outputs": [
        {
          "output_type": "stream",
          "text": [
            "[   0    1    2 ... 3126 3127 3128]\n"
          ],
          "name": "stdout"
        },
        {
          "output_type": "execute_result",
          "data": {
            "text/plain": [
              "(14620, 44)"
            ]
          },
          "metadata": {
            "tags": []
          },
          "execution_count": 344
        }
      ]
    },
    {
      "cell_type": "code",
      "metadata": {
        "colab": {
          "base_uri": "https://localhost:8080/"
        },
        "id": "e-Woe0SLFaQ5",
        "outputId": "3069b889-8ff3-4abd-bc72-1403e4597be6"
      },
      "source": [
        "ids = np.arange(len(noshow_features))\n",
        "choices = np.random.choice(ids, len(checkin_features))\n",
        "print(ids)\n",
        "res_noshow_features = noshow_features[choices]\n",
        "res_noshow_labels = noshow_labels[choices]\n",
        "\n",
        "res_noshow_features.shape"
      ],
      "execution_count": 345,
      "outputs": [
        {
          "output_type": "stream",
          "text": [
            "[   0    1    2 ... 1606 1607 1608]\n"
          ],
          "name": "stdout"
        },
        {
          "output_type": "execute_result",
          "data": {
            "text/plain": [
              "(14620, 44)"
            ]
          },
          "metadata": {
            "tags": []
          },
          "execution_count": 345
        }
      ]
    },
    {
      "cell_type": "code",
      "metadata": {
        "colab": {
          "base_uri": "https://localhost:8080/"
        },
        "id": "1pn2s2MIGi0X",
        "outputId": "a9b7cab1-e88b-4ce9-b8c7-1aa452a7b8c8"
      },
      "source": [
        "resampled_features = np.concatenate([res_noshow_features, res_canceled_features, checkin_features], axis=0)\n",
        "resampled_labels = np.concatenate([res_noshow_labels, res_canceled_labels, checkin_labels], axis=0)\n",
        "\n",
        "order = np.arange(len(resampled_labels))\n",
        "np.random.shuffle(order)\n",
        "resampled_features = resampled_features[order]\n",
        "resampled_labels = resampled_labels[order]\n",
        "\n",
        "resampled_features.shape"
      ],
      "execution_count": 346,
      "outputs": [
        {
          "output_type": "execute_result",
          "data": {
            "text/plain": [
              "(43860, 44)"
            ]
          },
          "metadata": {
            "tags": []
          },
          "execution_count": 346
        }
      ]
    },
    {
      "cell_type": "code",
      "metadata": {
        "colab": {
          "base_uri": "https://localhost:8080/"
        },
        "id": "7QiVYYZ-Gs8l",
        "outputId": "de00ead8-dcb9-4d8c-c86f-c431fb87c0e4"
      },
      "source": [
        "classifiers = [['Logistic Regression :', LogisticRegression(max_iter = 1500)],\n",
        "       ['Decision Tree Classification :', DecisionTreeClassifier(criterion='gini', max_depth=15) ],\n",
        "       ['Gradient Boosting Classification :', GradientBoostingClassifier()],\n",
        "       ['Ada Boosting Classification :', AdaBoostClassifier()],\n",
        "       ['RandomForest Classification :', RandomForestClassifier()],\n",
        "       ['RandomForest Classification_Balanced :', RandomForestClassifier(random_state=0, n_jobs=-1, n_estimators=10, class_weight=\"balanced\")],\n",
        "       ['RandomForest Classification_Balanced_SubSample :', RandomForestClassifier(random_state=0, n_jobs=-1, n_estimators=10, class_weight=\"balanced_subsample\")],\n",
        "       ['RandomForest Classification_Custom_Weighted :', RandomForestClassifier(random_state=0, n_jobs=-1, n_estimators=10, class_weight=class_weight)],\n",
        "       ['Extra Tree Classification :', ExtraTreesClassifier()],\n",
        "       ['K-Neighbors Classification :', KNeighborsClassifier()],\n",
        "      #  ['Support Vector Classification :',SVC()],\n",
        "       ['Gaussian Naive Bayes :',GaussianNB()]]\n",
        "\n",
        "for name,model in classifiers:\n",
        "    model = model\n",
        "    model.fit(resampled_features,resampled_labels)\n",
        "    predictions = model.predict(val_features)\n",
        "    print(name,accuracy_score(val_labels,predictions))\n",
        "    print(confusion_matrix(val_labels,predictions))\n",
        "    print(classification_report(val_labels,predictions))"
      ],
      "execution_count": 347,
      "outputs": [
        {
          "output_type": "stream",
          "text": [
            "Logistic Regression : 0.5183884297520661\n",
            "[[2132  615  913]\n",
            " [ 309  214  255]\n",
            " [ 149   90  163]]\n",
            "              precision    recall  f1-score   support\n",
            "\n",
            "           0       0.82      0.58      0.68      3660\n",
            "           1       0.23      0.28      0.25       778\n",
            "           2       0.12      0.41      0.19       402\n",
            "\n",
            "    accuracy                           0.52      4840\n",
            "   macro avg       0.39      0.42      0.37      4840\n",
            "weighted avg       0.67      0.52      0.57      4840\n",
            "\n",
            "Decision Tree Classification : 0.5\n",
            "[[2081  852  727]\n",
            " [ 342  232  204]\n",
            " [ 178  117  107]]\n",
            "              precision    recall  f1-score   support\n",
            "\n",
            "           0       0.80      0.57      0.66      3660\n",
            "           1       0.19      0.30      0.23       778\n",
            "           2       0.10      0.27      0.15       402\n",
            "\n",
            "    accuracy                           0.50      4840\n",
            "   macro avg       0.37      0.38      0.35      4840\n",
            "weighted avg       0.64      0.50      0.55      4840\n",
            "\n",
            "Gradient Boosting Classification : 0.4797520661157025\n",
            "[[1902  857  901]\n",
            " [ 247  260  271]\n",
            " [ 109  133  160]]\n",
            "              precision    recall  f1-score   support\n",
            "\n",
            "           0       0.84      0.52      0.64      3660\n",
            "           1       0.21      0.33      0.26       778\n",
            "           2       0.12      0.40      0.18       402\n",
            "\n",
            "    accuracy                           0.48      4840\n",
            "   macro avg       0.39      0.42      0.36      4840\n",
            "weighted avg       0.68      0.48      0.54      4840\n",
            "\n",
            "Ada Boosting Classification : 0.5136363636363637\n",
            "[[2075  705  880]\n",
            " [ 285  245  248]\n",
            " [ 132  104  166]]\n",
            "              precision    recall  f1-score   support\n",
            "\n",
            "           0       0.83      0.57      0.67      3660\n",
            "           1       0.23      0.31      0.27       778\n",
            "           2       0.13      0.41      0.20       402\n",
            "\n",
            "    accuracy                           0.51      4840\n",
            "   macro avg       0.40      0.43      0.38      4840\n",
            "weighted avg       0.68      0.51      0.57      4840\n",
            "\n",
            "RandomForest Classification : 0.7512396694214876\n",
            "[[3627   32    1]\n",
            " [ 768    9    1]\n",
            " [ 396    6    0]]\n",
            "              precision    recall  f1-score   support\n",
            "\n",
            "           0       0.76      0.99      0.86      3660\n",
            "           1       0.19      0.01      0.02       778\n",
            "           2       0.00      0.00      0.00       402\n",
            "\n",
            "    accuracy                           0.75      4840\n",
            "   macro avg       0.32      0.33      0.29      4840\n",
            "weighted avg       0.60      0.75      0.65      4840\n",
            "\n",
            "RandomForest Classification_Balanced : 0.7148760330578512\n",
            "[[3396  213   51]\n",
            " [ 698   58   22]\n",
            " [ 363   33    6]]\n",
            "              precision    recall  f1-score   support\n",
            "\n",
            "           0       0.76      0.93      0.84      3660\n",
            "           1       0.19      0.07      0.11       778\n",
            "           2       0.08      0.01      0.02       402\n",
            "\n",
            "    accuracy                           0.71      4840\n",
            "   macro avg       0.34      0.34      0.32      4840\n",
            "weighted avg       0.61      0.71      0.65      4840\n",
            "\n",
            "RandomForest Classification_Balanced_SubSample : 0.7295454545454545\n",
            "[[3447  176   37]\n",
            " [ 686   75   17]\n",
            " [ 343   50    9]]\n",
            "              precision    recall  f1-score   support\n",
            "\n",
            "           0       0.77      0.94      0.85      3660\n",
            "           1       0.25      0.10      0.14       778\n",
            "           2       0.14      0.02      0.04       402\n",
            "\n",
            "    accuracy                           0.73      4840\n",
            "   macro avg       0.39      0.35      0.34      4840\n",
            "weighted avg       0.63      0.73      0.67      4840\n",
            "\n",
            "RandomForest Classification_Custom_Weighted : 0.7293388429752066\n",
            "[[3476  152   32]\n",
            " [ 712   47   19]\n",
            " [ 370   25    7]]\n",
            "              precision    recall  f1-score   support\n",
            "\n",
            "           0       0.76      0.95      0.85      3660\n",
            "           1       0.21      0.06      0.09       778\n",
            "           2       0.12      0.02      0.03       402\n",
            "\n",
            "    accuracy                           0.73      4840\n",
            "   macro avg       0.36      0.34      0.32      4840\n",
            "weighted avg       0.62      0.73      0.66      4840\n",
            "\n",
            "Extra Tree Classification : 0.7545454545454545\n",
            "[[3651    8    1]\n",
            " [ 776    1    1]\n",
            " [ 400    2    0]]\n",
            "              precision    recall  f1-score   support\n",
            "\n",
            "           0       0.76      1.00      0.86      3660\n",
            "           1       0.09      0.00      0.00       778\n",
            "           2       0.00      0.00      0.00       402\n",
            "\n",
            "    accuracy                           0.75      4840\n",
            "   macro avg       0.28      0.33      0.29      4840\n",
            "weighted avg       0.59      0.75      0.65      4840\n",
            "\n",
            "K-Neighbors Classification : 0.44731404958677684\n",
            "[[1788 1180  692]\n",
            " [ 330  283  165]\n",
            " [ 175  133   94]]\n",
            "              precision    recall  f1-score   support\n",
            "\n",
            "           0       0.78      0.49      0.60      3660\n",
            "           1       0.18      0.36      0.24       778\n",
            "           2       0.10      0.23      0.14       402\n",
            "\n",
            "    accuracy                           0.45      4840\n",
            "   macro avg       0.35      0.36      0.33      4840\n",
            "weighted avg       0.63      0.45      0.50      4840\n",
            "\n",
            "Gaussian Naive Bayes : 0.5301652892561983\n",
            "[[2178  596  886]\n",
            " [ 309  226  243]\n",
            " [ 151   89  162]]\n",
            "              precision    recall  f1-score   support\n",
            "\n",
            "           0       0.83      0.60      0.69      3660\n",
            "           1       0.25      0.29      0.27       778\n",
            "           2       0.13      0.40      0.19       402\n",
            "\n",
            "    accuracy                           0.53      4840\n",
            "   macro avg       0.40      0.43      0.38      4840\n",
            "weighted avg       0.67      0.53      0.58      4840\n",
            "\n"
          ],
          "name": "stdout"
        }
      ]
    },
    {
      "cell_type": "code",
      "metadata": {
        "colab": {
          "base_uri": "https://localhost:8080/"
        },
        "id": "uxlbGRYnX-8u",
        "outputId": "7829b208-a27f-4f4d-cbf9-21c69cf38751"
      },
      "source": [
        "model = GradientBoostingClassifier()\n",
        "model.fit(resampled_features,resampled_labels)\n",
        "predictions = model.predict(test_features)\n",
        "print(accuracy_score(test_labels,predictions))\n",
        "print(confusion_matrix(test_labels,predictions))\n",
        "print(classification_report(test_labels,predictions))"
      ],
      "execution_count": 348,
      "outputs": [
        {
          "output_type": "stream",
          "text": [
            "0.3943801652892562\n",
            "[[1817 2753    0]\n",
            " [ 399  569    0]\n",
            " [ 196  316    0]]\n",
            "              precision    recall  f1-score   support\n",
            "\n",
            "           0       0.75      0.40      0.52      4570\n",
            "           1       0.16      0.59      0.25       968\n",
            "           2       0.00      0.00      0.00       512\n",
            "\n",
            "    accuracy                           0.39      6050\n",
            "   macro avg       0.30      0.33      0.26      6050\n",
            "weighted avg       0.59      0.39      0.43      6050\n",
            "\n"
          ],
          "name": "stdout"
        },
        {
          "output_type": "stream",
          "text": [
            "/usr/local/lib/python3.7/dist-packages/sklearn/metrics/_classification.py:1272: UndefinedMetricWarning: Precision and F-score are ill-defined and being set to 0.0 in labels with no predicted samples. Use `zero_division` parameter to control this behavior.\n",
            "  _warn_prf(average, modifier, msg_start, len(result))\n"
          ],
          "name": "stderr"
        }
      ]
    },
    {
      "cell_type": "markdown",
      "metadata": {
        "id": "Or7IKsCveKRS"
      },
      "source": [
        "#### Multi Model *Experiment*"
      ]
    },
    {
      "cell_type": "code",
      "metadata": {
        "colab": {
          "base_uri": "https://localhost:8080/"
        },
        "id": "_gLikkWVjyTG",
        "outputId": "dad54149-afb9-4210-e46e-d9b92081c00c"
      },
      "source": [
        "train1_df, train2_df = train_test_split(cleaned_df, test_size=0.2)\n",
        "train3_df, train1_df = train_test_split(train1_df, test_size=0.25)\n",
        "train3_df, combined_val_df = train_test_split(train3_df, test_size=0.3)\n",
        "\n",
        "checkin, canceled, noshow = np.bincount(train1_df['Reservation_Status'])\n",
        "total = checkin + canceled + noshow\n",
        "print('Train 1 Dataframe:\\n    Total: {}\\n    Check-In: {} ({:.2f}% of total)\\n    Canceled: {} ({:.2f}% of total)\\n     No-Show: {} ({:.2f}% of total)\\n'.format(\n",
        "    total, checkin, 100 * checkin / total, canceled, 100 * canceled / total, noshow, 100 * noshow / total))\n",
        "\n",
        "checkin, canceled, noshow = np.bincount(train2_df['Reservation_Status'])\n",
        "total = checkin + canceled + noshow\n",
        "print('Train 2 Dataframe:\\n    Total: {}\\n    Check-In: {} ({:.2f}% of total)\\n    Canceled: {} ({:.2f}% of total)\\n     No-Show: {} ({:.2f}% of total)\\n'.format(\n",
        "    total, checkin, 100 * checkin / total, canceled, 100 * canceled / total, noshow, 100 * noshow / total))\n",
        "\n",
        "checkin, canceled, noshow = np.bincount(train3_df['Reservation_Status'])\n",
        "total = checkin + canceled + noshow\n",
        "print('Train 3 Dataframe:\\n    Total: {}\\n    Check-In: {} ({:.2f}% of total)\\n    Canceled: {} ({:.2f}% of total)\\n     No-Show: {} ({:.2f}% of total)\\n'.format(\n",
        "    total, checkin, 100 * checkin / total, canceled, 100 * canceled / total, noshow, 100 * noshow / total))\n",
        "\n",
        "checkin, canceled, noshow = np.bincount(combined_val_df['Reservation_Status'])\n",
        "total = checkin + canceled + noshow\n",
        "print('Validation Dataframe:\\n    Total: {}\\n    Check-In: {} ({:.2f}% of total)\\n    Canceled: {} ({:.2f}% of total)\\n     No-Show: {} ({:.2f}% of total)\\n'.format(\n",
        "    total, checkin, 100 * checkin / total, canceled, 100 * canceled / total, noshow, 100 * noshow / total))\n"
      ],
      "execution_count": null,
      "outputs": [
        {
          "output_type": "stream",
          "text": [
            "Train 1 Dataframe:\n",
            "    Total: 6050\n",
            "    Check-In: 4555 (75.29% of total)\n",
            "    Canceled: 985 (16.28% of total)\n",
            "     No-Show: 510 (8.43% of total)\n",
            "\n",
            "Train 2 Dataframe:\n",
            "    Total: 6050\n",
            "    Check-In: 4617 (76.31% of total)\n",
            "    Canceled: 953 (15.75% of total)\n",
            "     No-Show: 480 (7.93% of total)\n",
            "\n",
            "Train 3 Dataframe:\n",
            "    Total: 12703\n",
            "    Check-In: 9576 (75.38% of total)\n",
            "    Canceled: 2047 (16.11% of total)\n",
            "     No-Show: 1080 (8.50% of total)\n",
            "\n",
            "Validation Dataframe:\n",
            "    Total: 5445\n",
            "    Check-In: 4102 (75.34% of total)\n",
            "    Canceled: 890 (16.35% of total)\n",
            "     No-Show: 453 (8.32% of total)\n",
            "\n"
          ],
          "name": "stdout"
        }
      ]
    },
    {
      "cell_type": "code",
      "metadata": {
        "id": "VMnKdPA3kUlJ"
      },
      "source": [
        "train1_labels = np.array(train1_df.pop('Reservation_Status'))\n",
        "train2_labels = np.array(train2_df.pop('Reservation_Status'))\n",
        "train3_labels = np.array(train3_df.pop('Reservation_Status'))\n",
        "combined_val_labels = np.array(combined_val_df.pop('Reservation_Status'))\n",
        "\n",
        "train1_features = np.array(train1_df)\n",
        "train2_features = np.array(train2_df)\n",
        "train3_features = np.array(train3_df)\n",
        "combined_val_features = np.array(combined_val_df)"
      ],
      "execution_count": null,
      "outputs": []
    },
    {
      "cell_type": "code",
      "metadata": {
        "colab": {
          "base_uri": "https://localhost:8080/"
        },
        "id": "xKwX_FN9lJur",
        "outputId": "170b5d74-1b3a-4b72-d22f-de58559df871"
      },
      "source": [
        "combined_scaler = StandardScaler()\n",
        "\n",
        "train1_features = combined_scaler.fit_transform(train1_features)\n",
        "train2_features = combined_scaler.transform(train2_features)\n",
        "train3_features = combined_scaler.transform(train3_features)\n",
        "combined_val_features = combined_scaler.transform(combined_val_features)\n",
        "\n",
        "train1_features = np.clip(train1_features, -5, 5)\n",
        "train2_features = np.clip(train2_features, -5, 5)\n",
        "train3_features = np.clip(train3_features, -5, 5)\n",
        "combined_val_features = np.clip(combined_val_features, -5, 5)\n",
        "\n",
        "\n",
        "print('Train 1 labels shape:', train1_labels.shape)\n",
        "print('Tran 2 labels shape:', train2_labels.shape)\n",
        "print('Tran 3 labels shape:', train3_labels.shape)\n",
        "print('Validation labels shape:', combined_val_labels.shape)\n",
        "\n",
        "print('Train 1 features shape:', train1_features.shape)\n",
        "print('Train 2 features shape:', train2_features.shape)\n",
        "print('Train 3 features shape:', train3_features.shape)\n",
        "print('Validation features shape:', combined_val_features.shape)"
      ],
      "execution_count": null,
      "outputs": [
        {
          "output_type": "stream",
          "text": [
            "Train 1 labels shape: (6050,)\n",
            "Tran 2 labels shape: (6050,)\n",
            "Tran 3 labels shape: (12703,)\n",
            "Validation labels shape: (5445,)\n",
            "Train 1 features shape: (6050, 44)\n",
            "Train 2 features shape: (6050, 44)\n",
            "Train 3 features shape: (12703, 44)\n",
            "Validation features shape: (5445, 44)\n"
          ],
          "name": "stdout"
        }
      ]
    },
    {
      "cell_type": "code",
      "metadata": {
        "colab": {
          "base_uri": "https://localhost:8080/"
        },
        "id": "J0FIQHnUGehM",
        "outputId": "67593fcf-0c37-4788-9881-f0963699513d"
      },
      "source": [
        "from sklearn.decomposition import PCA\n",
        "pca = PCA(.85)\n",
        "print(pca.fit(train3_features))\n",
        "train1_features = pca.transform(train1_features)\n",
        "train2_features = pca.transform(train2_features)\n",
        "train3_features = pca.transform(train3_features)\n",
        "combined_val_features = pca.transform(combined_val_features)"
      ],
      "execution_count": null,
      "outputs": [
        {
          "output_type": "stream",
          "text": [
            "PCA(copy=True, iterated_power='auto', n_components=0.85, random_state=None,\n",
            "    svd_solver='auto', tol=0.0, whiten=False)\n"
          ],
          "name": "stdout"
        }
      ]
    },
    {
      "cell_type": "code",
      "metadata": {
        "colab": {
          "base_uri": "https://localhost:8080/"
        },
        "id": "ABz_3w0KIqqa",
        "outputId": "d5fee038-d36d-4637-84bc-9ab510386fb1"
      },
      "source": [
        "print('Train 1 features shape:', train1_features.shape)\n",
        "print('Train 2 features shape:', train2_features.shape)\n",
        "print('Train 3 features shape:', train3_features.shape)\n",
        "print('Validation features shape:', combined_val_features.shape)"
      ],
      "execution_count": null,
      "outputs": [
        {
          "output_type": "stream",
          "text": [
            "Train 1 features shape: (6050, 27)\n",
            "Train 2 features shape: (6050, 27)\n",
            "Train 3 features shape: (12703, 27)\n",
            "Validation features shape: (5445, 27)\n"
          ],
          "name": "stdout"
        }
      ]
    },
    {
      "cell_type": "code",
      "metadata": {
        "id": "QFu8y67yeH3w"
      },
      "source": [
        "model1 = DecisionTreeClassifier(criterion='gini', max_depth=15)\n",
        "model1.fit(train1_features,train1_labels)\n",
        "predictions1 = model1.predict(train3_features)"
      ],
      "execution_count": null,
      "outputs": []
    },
    {
      "cell_type": "code",
      "metadata": {
        "id": "MczmGhlNemg2"
      },
      "source": [
        "model2 = DecisionTreeClassifier(criterion='gini', max_depth=15)\n",
        "model2.fit(train2_features,train2_labels)\n",
        "predictions2 = model2.predict(train3_features)"
      ],
      "execution_count": null,
      "outputs": []
    },
    {
      "cell_type": "code",
      "metadata": {
        "id": "VSM1zxwWfUZV"
      },
      "source": [
        "with_pred_train3_df = pd.DataFrame(train3_features)\n",
        "with_pred_train3_df['Pred1'] = pd.DataFrame(predictions1.tolist(),columns=['Pred1'])['Pred1'].values\n",
        "with_pred_train3_df['Pred2'] = pd.DataFrame(predictions1.tolist(),columns=['Pred2'])['Pred2'].values\n",
        "with_pred_train3_features = np.array(with_pred_train3_df)"
      ],
      "execution_count": 183,
      "outputs": []
    },
    {
      "cell_type": "code",
      "metadata": {
        "colab": {
          "base_uri": "https://localhost:8080/",
          "height": 224
        },
        "id": "AedBOT0VgzyT",
        "outputId": "6e7c43af-e0a5-4da3-d301-d934ddb2333c"
      },
      "source": [
        "with_pred_train3_df.head()"
      ],
      "execution_count": 184,
      "outputs": [
        {
          "output_type": "execute_result",
          "data": {
            "text/html": [
              "<div>\n",
              "<style scoped>\n",
              "    .dataframe tbody tr th:only-of-type {\n",
              "        vertical-align: middle;\n",
              "    }\n",
              "\n",
              "    .dataframe tbody tr th {\n",
              "        vertical-align: top;\n",
              "    }\n",
              "\n",
              "    .dataframe thead th {\n",
              "        text-align: right;\n",
              "    }\n",
              "</style>\n",
              "<table border=\"1\" class=\"dataframe\">\n",
              "  <thead>\n",
              "    <tr style=\"text-align: right;\">\n",
              "      <th></th>\n",
              "      <th>0</th>\n",
              "      <th>1</th>\n",
              "      <th>2</th>\n",
              "      <th>3</th>\n",
              "      <th>4</th>\n",
              "      <th>5</th>\n",
              "      <th>6</th>\n",
              "      <th>7</th>\n",
              "      <th>8</th>\n",
              "      <th>9</th>\n",
              "      <th>10</th>\n",
              "      <th>11</th>\n",
              "      <th>12</th>\n",
              "      <th>13</th>\n",
              "      <th>14</th>\n",
              "      <th>15</th>\n",
              "      <th>16</th>\n",
              "      <th>17</th>\n",
              "      <th>18</th>\n",
              "      <th>19</th>\n",
              "      <th>20</th>\n",
              "      <th>21</th>\n",
              "      <th>22</th>\n",
              "      <th>23</th>\n",
              "      <th>24</th>\n",
              "      <th>25</th>\n",
              "      <th>26</th>\n",
              "      <th>Pred1</th>\n",
              "      <th>Pred2</th>\n",
              "    </tr>\n",
              "  </thead>\n",
              "  <tbody>\n",
              "    <tr>\n",
              "      <th>0</th>\n",
              "      <td>1.743538</td>\n",
              "      <td>-0.073263</td>\n",
              "      <td>1.578705</td>\n",
              "      <td>1.989729</td>\n",
              "      <td>-1.096756</td>\n",
              "      <td>-1.209849</td>\n",
              "      <td>1.362532</td>\n",
              "      <td>0.534978</td>\n",
              "      <td>0.603848</td>\n",
              "      <td>0.834226</td>\n",
              "      <td>0.509155</td>\n",
              "      <td>0.231412</td>\n",
              "      <td>1.778092</td>\n",
              "      <td>0.104661</td>\n",
              "      <td>2.154591</td>\n",
              "      <td>0.434750</td>\n",
              "      <td>0.464224</td>\n",
              "      <td>2.287670</td>\n",
              "      <td>2.108385</td>\n",
              "      <td>-0.737617</td>\n",
              "      <td>-1.022381</td>\n",
              "      <td>1.768095</td>\n",
              "      <td>0.302201</td>\n",
              "      <td>-0.516785</td>\n",
              "      <td>0.237921</td>\n",
              "      <td>-1.885017</td>\n",
              "      <td>-0.774289</td>\n",
              "      <td>1</td>\n",
              "      <td>1</td>\n",
              "    </tr>\n",
              "    <tr>\n",
              "      <th>1</th>\n",
              "      <td>2.936450</td>\n",
              "      <td>-1.010531</td>\n",
              "      <td>-1.010225</td>\n",
              "      <td>1.260813</td>\n",
              "      <td>-2.309302</td>\n",
              "      <td>1.162262</td>\n",
              "      <td>-1.722350</td>\n",
              "      <td>0.526805</td>\n",
              "      <td>-0.197895</td>\n",
              "      <td>-0.218268</td>\n",
              "      <td>-0.058498</td>\n",
              "      <td>2.019198</td>\n",
              "      <td>-1.512083</td>\n",
              "      <td>0.718173</td>\n",
              "      <td>-0.389744</td>\n",
              "      <td>0.967093</td>\n",
              "      <td>-0.702498</td>\n",
              "      <td>0.541295</td>\n",
              "      <td>-0.350920</td>\n",
              "      <td>-0.381413</td>\n",
              "      <td>0.061956</td>\n",
              "      <td>-0.155382</td>\n",
              "      <td>-0.272263</td>\n",
              "      <td>-0.297055</td>\n",
              "      <td>-0.650215</td>\n",
              "      <td>2.213010</td>\n",
              "      <td>1.260063</td>\n",
              "      <td>0</td>\n",
              "      <td>0</td>\n",
              "    </tr>\n",
              "    <tr>\n",
              "      <th>2</th>\n",
              "      <td>-1.121777</td>\n",
              "      <td>-1.506487</td>\n",
              "      <td>-1.014178</td>\n",
              "      <td>-0.877869</td>\n",
              "      <td>-1.219932</td>\n",
              "      <td>1.683273</td>\n",
              "      <td>-1.755608</td>\n",
              "      <td>0.771246</td>\n",
              "      <td>0.342640</td>\n",
              "      <td>0.278300</td>\n",
              "      <td>0.632368</td>\n",
              "      <td>2.066685</td>\n",
              "      <td>0.451572</td>\n",
              "      <td>-0.667667</td>\n",
              "      <td>1.226439</td>\n",
              "      <td>-0.472791</td>\n",
              "      <td>0.781020</td>\n",
              "      <td>-0.054748</td>\n",
              "      <td>-0.120941</td>\n",
              "      <td>0.109675</td>\n",
              "      <td>-0.251730</td>\n",
              "      <td>-0.571252</td>\n",
              "      <td>-0.159228</td>\n",
              "      <td>-0.201572</td>\n",
              "      <td>-1.195371</td>\n",
              "      <td>0.065299</td>\n",
              "      <td>0.875187</td>\n",
              "      <td>0</td>\n",
              "      <td>0</td>\n",
              "    </tr>\n",
              "    <tr>\n",
              "      <th>3</th>\n",
              "      <td>-1.988645</td>\n",
              "      <td>2.313518</td>\n",
              "      <td>0.451894</td>\n",
              "      <td>1.785800</td>\n",
              "      <td>-0.300149</td>\n",
              "      <td>-1.107873</td>\n",
              "      <td>-0.675154</td>\n",
              "      <td>-1.720735</td>\n",
              "      <td>0.206842</td>\n",
              "      <td>1.281983</td>\n",
              "      <td>-1.833006</td>\n",
              "      <td>-0.088107</td>\n",
              "      <td>2.189834</td>\n",
              "      <td>-0.215725</td>\n",
              "      <td>-1.077867</td>\n",
              "      <td>1.193750</td>\n",
              "      <td>0.354155</td>\n",
              "      <td>0.674725</td>\n",
              "      <td>0.512948</td>\n",
              "      <td>0.980588</td>\n",
              "      <td>2.430310</td>\n",
              "      <td>-0.327471</td>\n",
              "      <td>-0.486894</td>\n",
              "      <td>0.062219</td>\n",
              "      <td>-0.218492</td>\n",
              "      <td>0.721367</td>\n",
              "      <td>-1.583434</td>\n",
              "      <td>0</td>\n",
              "      <td>0</td>\n",
              "    </tr>\n",
              "    <tr>\n",
              "      <th>4</th>\n",
              "      <td>0.495237</td>\n",
              "      <td>1.495795</td>\n",
              "      <td>0.547655</td>\n",
              "      <td>0.802627</td>\n",
              "      <td>-0.167349</td>\n",
              "      <td>2.209049</td>\n",
              "      <td>-0.132513</td>\n",
              "      <td>-1.226987</td>\n",
              "      <td>-1.295225</td>\n",
              "      <td>0.140029</td>\n",
              "      <td>-2.001022</td>\n",
              "      <td>-0.760563</td>\n",
              "      <td>-1.285033</td>\n",
              "      <td>-1.124923</td>\n",
              "      <td>0.261427</td>\n",
              "      <td>-1.070725</td>\n",
              "      <td>-1.013117</td>\n",
              "      <td>-0.696434</td>\n",
              "      <td>1.147069</td>\n",
              "      <td>1.545472</td>\n",
              "      <td>2.185111</td>\n",
              "      <td>-1.184434</td>\n",
              "      <td>3.427343</td>\n",
              "      <td>0.300642</td>\n",
              "      <td>0.203500</td>\n",
              "      <td>-0.202991</td>\n",
              "      <td>0.719106</td>\n",
              "      <td>0</td>\n",
              "      <td>0</td>\n",
              "    </tr>\n",
              "  </tbody>\n",
              "</table>\n",
              "</div>"
            ],
            "text/plain": [
              "          0         1         2         3  ...        25        26  Pred1  Pred2\n",
              "0  1.743538 -0.073263  1.578705  1.989729  ... -1.885017 -0.774289      1      1\n",
              "1  2.936450 -1.010531 -1.010225  1.260813  ...  2.213010  1.260063      0      0\n",
              "2 -1.121777 -1.506487 -1.014178 -0.877869  ...  0.065299  0.875187      0      0\n",
              "3 -1.988645  2.313518  0.451894  1.785800  ...  0.721367 -1.583434      0      0\n",
              "4  0.495237  1.495795  0.547655  0.802627  ... -0.202991  0.719106      0      0\n",
              "\n",
              "[5 rows x 29 columns]"
            ]
          },
          "metadata": {
            "tags": []
          },
          "execution_count": 184
        }
      ]
    },
    {
      "cell_type": "code",
      "metadata": {
        "id": "9b4PTeBuiUID"
      },
      "source": [
        "with_pred_val_df = pd.DataFrame(combined_val_features)\n",
        "with_pred_val_df['Pred1'] = pd.DataFrame(model1.predict(combined_val_features).tolist(),columns=['Pred1'])['Pred1'].values\n",
        "with_pred_val_df['Pred2'] = pd.DataFrame(model2.predict(combined_val_features),columns=['Pred2'])['Pred2'].values\n",
        "with_pred_val_features = np.array(with_pred_val_df)"
      ],
      "execution_count": 185,
      "outputs": []
    },
    {
      "cell_type": "code",
      "metadata": {
        "colab": {
          "base_uri": "https://localhost:8080/"
        },
        "id": "V05Cwe5Fg67k",
        "outputId": "a069d76f-bdf3-4e98-86b8-751ea8a72630"
      },
      "source": [
        "model3 = DecisionTreeClassifier(criterion='gini', max_depth=15)\n",
        "model3.fit(with_pred_train3_features,train3_labels)\n",
        "predictions = model3.predict(with_pred_val_features)\n",
        "print(accuracy_score(combined_val_labels,predictions))\n",
        "print(confusion_matrix(combined_val_labels,predictions))\n",
        "print(classification_report(combined_val_labels,predictions))"
      ],
      "execution_count": 186,
      "outputs": [
        {
          "output_type": "stream",
          "text": [
            "0.708356290174472\n",
            "[[3753  249  100]\n",
            " [ 776   82   32]\n",
            " [ 392   39   22]]\n",
            "              precision    recall  f1-score   support\n",
            "\n",
            "           0       0.76      0.91      0.83      4102\n",
            "           1       0.22      0.09      0.13       890\n",
            "           2       0.14      0.05      0.07       453\n",
            "\n",
            "    accuracy                           0.71      5445\n",
            "   macro avg       0.38      0.35      0.34      5445\n",
            "weighted avg       0.62      0.71      0.65      5445\n",
            "\n"
          ],
          "name": "stdout"
        }
      ]
    },
    {
      "cell_type": "code",
      "metadata": {
        "colab": {
          "base_uri": "https://localhost:8080/"
        },
        "id": "PMcmMWiWtOUE",
        "outputId": "fe287ec5-67bd-4a51-8bb7-d7ab574daa23"
      },
      "source": [
        "testing_features = test_features_not_scaled.copy()\n",
        "testing_features = combined_scaler.transform(testing_features)\n",
        "testing_features = np.clip(testing_features, -5, 5)\n",
        "testing_features = pca.transform(testing_features)\n",
        "testing_labels = test_labels.copy()\n",
        "\n",
        "with_pred_test_df = pd.DataFrame(testing_features)\n",
        "with_pred_test_df['Pred1'] = pd.DataFrame(model1.predict(testing_features).tolist(),columns=['Pred1'])['Pred1'].values\n",
        "with_pred_test_df['Pred2'] = pd.DataFrame(model2.predict(testing_features),columns=['Pred2'])['Pred2'].values\n",
        "with_pred_test_features = np.array(with_pred_test_df)\n",
        "predictions = model3.predict(with_pred_test_features)\n",
        "print(accuracy_score(testing_labels,predictions))\n",
        "print(confusion_matrix(testing_labels,predictions))\n",
        "print(classification_report(testing_labels,predictions))"
      ],
      "execution_count": 187,
      "outputs": [
        {
          "output_type": "stream",
          "text": [
            "0.7479338842975206\n",
            "[[4277  198   74]\n",
            " [ 771  192   28]\n",
            " [ 427   27   56]]\n",
            "              precision    recall  f1-score   support\n",
            "\n",
            "           0       0.78      0.94      0.85      4549\n",
            "           1       0.46      0.19      0.27       991\n",
            "           2       0.35      0.11      0.17       510\n",
            "\n",
            "    accuracy                           0.75      6050\n",
            "   macro avg       0.53      0.41      0.43      6050\n",
            "weighted avg       0.69      0.75      0.70      6050\n",
            "\n"
          ],
          "name": "stdout"
        }
      ]
    },
    {
      "cell_type": "code",
      "metadata": {
        "id": "ly-F6tPNrbPw"
      },
      "source": [
        "def predict_combined_model(features):\n",
        "  features = features.copy()\n",
        "  with_pred_df = pd.DataFrame(features)\n",
        "  with_pred_df['Pred1'] = pd.DataFrame(model1.predict(features).tolist(),columns=['Pred1'])['Pred1'].values\n",
        "  with_pred_df['Pred2'] = pd.DataFrame(model2.predict(features),columns=['Pred2'])['Pred2'].values\n",
        "  with_pred_features = np.array(with_pred_df)\n",
        "  predictions = model3.predict(with_pred_features)\n",
        "  return predictions"
      ],
      "execution_count": 188,
      "outputs": []
    },
    {
      "cell_type": "markdown",
      "metadata": {
        "id": "nL6Df0KiIcMv"
      },
      "source": [
        "#### LGBM with bayesian Optimization"
      ]
    },
    {
      "cell_type": "code",
      "metadata": {
        "id": "q-Z5stT62OwL"
      },
      "source": [
        "# !pip install bayesian-optimization"
      ],
      "execution_count": 189,
      "outputs": []
    },
    {
      "cell_type": "code",
      "metadata": {
        "id": "CCwyHle0YXtK"
      },
      "source": [
        "# #LGBMClassifier\n",
        "# from sklearn.model_selection import StratifiedKFold\n",
        "# from lightgbm import LGBMClassifier\n",
        "\n",
        "# from sklearn.metrics import accuracy_score, classification_report, confusion_matrix\n",
        "\n",
        "# def lgbm_evaluate(**params):\n",
        "# #     warnings.simplefilter('ignore')\n",
        "    \n",
        "#     params['num_leaves'] = int(params['num_leaves'])\n",
        "#     params['max_depth'] = int(params['max_depth'])\n",
        "        \n",
        "#     clf = LGBMClassifier(**params, n_estimators=20000, nthread=-1)\n",
        "\n",
        "#     test_pred_proba = np.zeros((x_train.shape[0], 3))\n",
        "    \n",
        "#     for n_fold, (train_idx, valid_idx) in enumerate(folds.split(x_train, y_train)):\n",
        "#         X_train_bo, X_valid = x_train.iloc[train_idx], x_train.iloc[valid_idx]\n",
        "#         y_train_bo, y_valid = y_train.iloc[train_idx], y_train.iloc[valid_idx]\n",
        "        \n",
        "#         model = LGBMClassifier(**params, n_estimators = 10000, n_jobs = -1)\n",
        "#         model.fit(X_train_bo, y_train_bo, \n",
        "#                 eval_set=[(X_train_bo, y_train_bo), (X_valid, y_valid)], eval_metric='binary_logloss',\n",
        "#                 verbose=False, early_stopping_rounds=200)\n",
        "\n",
        "#         y_pred_valid = model.predict_proba(X_valid)\n",
        "\n",
        "#         test_pred_proba[valid_idx] = y_pred_valid\n",
        "\n",
        "#     return accuracy_score(y_valid, y_pred_valid.argmax(1))"
      ],
      "execution_count": 190,
      "outputs": []
    },
    {
      "cell_type": "code",
      "metadata": {
        "id": "Ti9r6QBy1ZiF"
      },
      "source": [
        "# #hyper parameter tuning\n",
        "# params = {'colsample_bytree': (0.6, 1),\n",
        "#      'learning_rate': (.001, .08), \n",
        "#       'num_leaves': (8, 124), \n",
        "#       'subsample': (0.6, 1), \n",
        "#       'max_depth': (3, 25), \n",
        "#       'reg_alpha': (.05, 15.0), \n",
        "#       'reg_lambda': (.05, 15.0), \n",
        "#       'min_split_gain': (.001, .03),\n",
        "#       'min_child_weight': (12, 80)}\n",
        "\n",
        "# from sklearn.model_selection import StratifiedKFold\n",
        "# n_fold = 20\n",
        "# folds = StratifiedKFold(n_splits=n_fold, shuffle=True, random_state=11)\n",
        "\n",
        "# from bayes_opt import BayesianOptimization\n",
        "# bo = BayesianOptimization(lgbm_evaluate, params)\n",
        "# bo.maximize(init_points=5, n_iter=5)"
      ],
      "execution_count": 191,
      "outputs": []
    },
    {
      "cell_type": "markdown",
      "metadata": {
        "id": "r_fbpD91IVbC"
      },
      "source": [
        "#### Tensorflow Model"
      ]
    },
    {
      "cell_type": "code",
      "metadata": {
        "id": "09ds2tW91sRy"
      },
      "source": [
        "# import numpy as np\n",
        "# import pandas as pd\n",
        "# from keras.models import Sequential\n",
        "# from keras.layers import Dense, Dropout, Activation, Flatten\n",
        "# from tensorflow.keras import optimizers\n",
        "# import tensorflow as tf"
      ],
      "execution_count": 192,
      "outputs": []
    },
    {
      "cell_type": "code",
      "metadata": {
        "id": "NsbuW-9Cxn7J"
      },
      "source": [
        "# y_train = tf.keras.utils.to_categorical(y_train, 3)\n",
        "# y_test = tf.keras.utils.to_categorical(y_test, 3)"
      ],
      "execution_count": 193,
      "outputs": []
    },
    {
      "cell_type": "code",
      "metadata": {
        "id": "d7Th8thq_UqI"
      },
      "source": [
        "# model = Sequential()\n",
        "\n",
        "# model.add(Flatten())\n",
        "\n",
        "# model.add(Dense(128))\n",
        "# model.add(Activation('relu'))\n",
        "# model.add(Dropout(0.5))\n",
        "# model.add(Dense(128))\n",
        "# model.add(Activation('relu'))\n",
        "\n",
        "# model.add(Dense(4))\n",
        "# model.add(Activation('softmax'))\n",
        "\n",
        "# model.compile(loss = \"sparse_categorical_crossentropy\", optimizer = optimizers.SGD(lr = 0.0001 , momentum = 0.1), metrics=[\"accuracy\"])"
      ],
      "execution_count": 194,
      "outputs": []
    },
    {
      "cell_type": "code",
      "metadata": {
        "id": "XQsEIcFICvmE"
      },
      "source": [
        "# model.fit( x_train, y_train,\n",
        "#                     epochs = 10,\n",
        "#                     batch_size = 20,\n",
        "#                     validation_data = (x_test, y_test))\n",
        "# model.summary()"
      ],
      "execution_count": 195,
      "outputs": []
    },
    {
      "cell_type": "code",
      "metadata": {
        "id": "3CCW2jIGDONq"
      },
      "source": [
        "# predictions = model.predict([x_test])"
      ],
      "execution_count": 196,
      "outputs": []
    },
    {
      "cell_type": "code",
      "metadata": {
        "id": "kzVj35OYRVUq"
      },
      "source": [
        "# predictions = list(np.argmax(predictions[x]) for x in range(len(predictions)))"
      ],
      "execution_count": 197,
      "outputs": []
    },
    {
      "cell_type": "code",
      "metadata": {
        "id": "PSn7L-zcRdp4"
      },
      "source": [
        "# predictions.count(1), predictions.count(2), predictions.count(3)"
      ],
      "execution_count": 198,
      "outputs": []
    },
    {
      "cell_type": "markdown",
      "metadata": {
        "id": "CRO3fMRpZZgE"
      },
      "source": [
        "### **Submission**"
      ]
    },
    {
      "cell_type": "code",
      "metadata": {
        "id": "g8urulNoZ0B1"
      },
      "source": [
        "def prepare_dataset(df, one_hot_encoded_lst, dates, scaler, pca):\n",
        "  df = pd.get_dummies(df, columns=one_hot_encoded_lst)\n",
        "\n",
        "  df['Gender'] = df['Gender'].map({'F':0, 'M':1})\n",
        "  df['Visted_Previously'] = df['Visted_Previously'].map({'No':0, 'Yes':1})\n",
        "  df['Previous_Cancellations'] = df['Previous_Cancellations'].map({'No':0, 'Yes':1})\n",
        "  df['Required_Car_Parking'] = df['Required_Car_Parking'].map({'Yes':1, 'No':0})\n",
        "  df['Use_Promotion'] = df['Use_Promotion'].map({'Yes':1, 'No':0})\n",
        "\n",
        "  df[dates[0]] = pd.to_datetime(df[dates[0]])\n",
        "  df[dates[1]] = pd.to_datetime(df[dates[1]])\n",
        "  df[dates[2]] = pd.to_datetime(df[dates[2]])\n",
        "\n",
        "  df['Expected_stay'] = (df[dates[1]] - df[dates[0]]).dt.days\n",
        "  df['Booking_to_checkingin'] = (df[dates[0]] - df[dates[2]]).dt.days\n",
        "  df['Month_of_stay'] = df[dates[0]].dt.month\n",
        "\n",
        "  weekdayin = df[dates[0]].dt.dayofweek\n",
        "  weekdayout = df[dates[1]].dt.dayofweek\n",
        "  from pandas import DataFrame\n",
        "\n",
        "  fina = []\n",
        "  for x,y in zip(weekdayin, weekdayout):\n",
        "    t = []\n",
        "    if y >= x:\n",
        "      for i in range(x, y + 1):\n",
        "        t.append(i)\n",
        "      if 5 in t or 6 in t:\n",
        "        fina.append(1)\n",
        "      else:\n",
        "        fina.append(0)\n",
        "    else:\n",
        "      for i in range(x, 7):\n",
        "        t.append(i)\n",
        "      for j in range(0, y + 1):\n",
        "        t.append(i)\n",
        "      if 5 in t or 6 in t:\n",
        "        fina.append(1)\n",
        "      else:\n",
        "        fina.append(0)\n",
        "  df['weekend_stay'] = DataFrame(fina,columns=['weekend_stay'])['weekend_stay'].values\n",
        "  df['Actual_cost'] = df['Expected_stay'] * (df['Room_Rate']*(100 - df['Discount_Rate']))\n",
        "  df = df.drop(dates, 1)\n",
        "\n",
        "  eps = 0.001\n",
        "  df['Log Actual_cost'] = np.log(df.pop('Actual_cost')+eps)\n",
        "  df['Log Room_Rate'] = np.log(df.pop('Room_Rate')+eps)\n",
        "\n",
        "  features = np.array(df)\n",
        "  if scaler:\n",
        "    print('Scaling ......')\n",
        "    features = scaler.transform(features)\n",
        "    features = np.clip(features, -5, 5)\n",
        "  if pca:\n",
        "    print('Using PCA ......')\n",
        "    features = pca.transform(features)\n",
        "  \n",
        "  return features"
      ],
      "execution_count": 349,
      "outputs": []
    },
    {
      "cell_type": "code",
      "metadata": {
        "id": "BC7kq5S9RfSo"
      },
      "source": [
        "data_submission = pd.read_csv('Hotel-A-test.csv', index_col=0)"
      ],
      "execution_count": 350,
      "outputs": []
    },
    {
      "cell_type": "code",
      "metadata": {
        "colab": {
          "base_uri": "https://localhost:8080/",
          "height": 357
        },
        "id": "fDNBEr0hbcAW",
        "outputId": "14bf2f7e-6932-4694-fc3d-1771c204eaf7"
      },
      "source": [
        "data_submission.head()"
      ],
      "execution_count": 351,
      "outputs": [
        {
          "output_type": "execute_result",
          "data": {
            "text/html": [
              "<div>\n",
              "<style scoped>\n",
              "    .dataframe tbody tr th:only-of-type {\n",
              "        vertical-align: middle;\n",
              "    }\n",
              "\n",
              "    .dataframe tbody tr th {\n",
              "        vertical-align: top;\n",
              "    }\n",
              "\n",
              "    .dataframe thead th {\n",
              "        text-align: right;\n",
              "    }\n",
              "</style>\n",
              "<table border=\"1\" class=\"dataframe\">\n",
              "  <thead>\n",
              "    <tr style=\"text-align: right;\">\n",
              "      <th></th>\n",
              "      <th>Gender</th>\n",
              "      <th>Age</th>\n",
              "      <th>Ethnicity</th>\n",
              "      <th>Educational_Level</th>\n",
              "      <th>Income</th>\n",
              "      <th>Country_region</th>\n",
              "      <th>Hotel_Type</th>\n",
              "      <th>Expected_checkin</th>\n",
              "      <th>Expected_checkout</th>\n",
              "      <th>Booking_date</th>\n",
              "      <th>Adults</th>\n",
              "      <th>Children</th>\n",
              "      <th>Babies</th>\n",
              "      <th>Meal_Type</th>\n",
              "      <th>Visted_Previously</th>\n",
              "      <th>Previous_Cancellations</th>\n",
              "      <th>Deposit_type</th>\n",
              "      <th>Booking_channel</th>\n",
              "      <th>Required_Car_Parking</th>\n",
              "      <th>Use_Promotion</th>\n",
              "      <th>Discount_Rate</th>\n",
              "      <th>Room_Rate</th>\n",
              "    </tr>\n",
              "    <tr>\n",
              "      <th>Reservation-id</th>\n",
              "      <th></th>\n",
              "      <th></th>\n",
              "      <th></th>\n",
              "      <th></th>\n",
              "      <th></th>\n",
              "      <th></th>\n",
              "      <th></th>\n",
              "      <th></th>\n",
              "      <th></th>\n",
              "      <th></th>\n",
              "      <th></th>\n",
              "      <th></th>\n",
              "      <th></th>\n",
              "      <th></th>\n",
              "      <th></th>\n",
              "      <th></th>\n",
              "      <th></th>\n",
              "      <th></th>\n",
              "      <th></th>\n",
              "      <th></th>\n",
              "      <th></th>\n",
              "      <th></th>\n",
              "    </tr>\n",
              "  </thead>\n",
              "  <tbody>\n",
              "    <tr>\n",
              "      <th>62931593</th>\n",
              "      <td>F</td>\n",
              "      <td>52</td>\n",
              "      <td>Latino</td>\n",
              "      <td>Grad</td>\n",
              "      <td>25K --50K</td>\n",
              "      <td>South</td>\n",
              "      <td>City Hotel</td>\n",
              "      <td>11/18/2016</td>\n",
              "      <td>11/19/2016</td>\n",
              "      <td>10/28/2016</td>\n",
              "      <td>3</td>\n",
              "      <td>3</td>\n",
              "      <td>0</td>\n",
              "      <td>HB</td>\n",
              "      <td>No</td>\n",
              "      <td>No</td>\n",
              "      <td>No Deposit</td>\n",
              "      <td>Direct</td>\n",
              "      <td>Yes</td>\n",
              "      <td>Yes</td>\n",
              "      <td>10</td>\n",
              "      <td>153</td>\n",
              "    </tr>\n",
              "    <tr>\n",
              "      <th>70586099</th>\n",
              "      <td>F</td>\n",
              "      <td>47</td>\n",
              "      <td>Latino</td>\n",
              "      <td>Grad</td>\n",
              "      <td>25K --50K</td>\n",
              "      <td>East</td>\n",
              "      <td>Airport Hotels</td>\n",
              "      <td>11/18/2016</td>\n",
              "      <td>11/19/2016</td>\n",
              "      <td>8/6/2016</td>\n",
              "      <td>2</td>\n",
              "      <td>1</td>\n",
              "      <td>0</td>\n",
              "      <td>FB</td>\n",
              "      <td>No</td>\n",
              "      <td>No</td>\n",
              "      <td>No Deposit</td>\n",
              "      <td>Online</td>\n",
              "      <td>No</td>\n",
              "      <td>No</td>\n",
              "      <td>0</td>\n",
              "      <td>210</td>\n",
              "    </tr>\n",
              "    <tr>\n",
              "      <th>4230648</th>\n",
              "      <td>F</td>\n",
              "      <td>28</td>\n",
              "      <td>Asian American</td>\n",
              "      <td>Grad</td>\n",
              "      <td>&lt;25K</td>\n",
              "      <td>East</td>\n",
              "      <td>City Hotel</td>\n",
              "      <td>4/28/2017</td>\n",
              "      <td>5/1/2017</td>\n",
              "      <td>4/8/2017</td>\n",
              "      <td>2</td>\n",
              "      <td>2</td>\n",
              "      <td>0</td>\n",
              "      <td>BB</td>\n",
              "      <td>No</td>\n",
              "      <td>No</td>\n",
              "      <td>No Deposit</td>\n",
              "      <td>Agent</td>\n",
              "      <td>No</td>\n",
              "      <td>Yes</td>\n",
              "      <td>5</td>\n",
              "      <td>117</td>\n",
              "    </tr>\n",
              "    <tr>\n",
              "      <th>25192322</th>\n",
              "      <td>F</td>\n",
              "      <td>65</td>\n",
              "      <td>caucasian</td>\n",
              "      <td>High-School</td>\n",
              "      <td>25K --50K</td>\n",
              "      <td>South</td>\n",
              "      <td>Airport Hotels</td>\n",
              "      <td>11/18/2016</td>\n",
              "      <td>11/20/2016</td>\n",
              "      <td>5/20/2016</td>\n",
              "      <td>1</td>\n",
              "      <td>3</td>\n",
              "      <td>2</td>\n",
              "      <td>FB</td>\n",
              "      <td>No</td>\n",
              "      <td>No</td>\n",
              "      <td>No Deposit</td>\n",
              "      <td>Online</td>\n",
              "      <td>Yes</td>\n",
              "      <td>Yes</td>\n",
              "      <td>10</td>\n",
              "      <td>107</td>\n",
              "    </tr>\n",
              "    <tr>\n",
              "      <th>80931528</th>\n",
              "      <td>M</td>\n",
              "      <td>45</td>\n",
              "      <td>African American</td>\n",
              "      <td>College</td>\n",
              "      <td>25K --50K</td>\n",
              "      <td>South</td>\n",
              "      <td>City Hotel</td>\n",
              "      <td>11/18/2016</td>\n",
              "      <td>11/20/2016</td>\n",
              "      <td>10/31/2016</td>\n",
              "      <td>3</td>\n",
              "      <td>1</td>\n",
              "      <td>0</td>\n",
              "      <td>BB</td>\n",
              "      <td>No</td>\n",
              "      <td>No</td>\n",
              "      <td>Refundable</td>\n",
              "      <td>Agent</td>\n",
              "      <td>No</td>\n",
              "      <td>No</td>\n",
              "      <td>0</td>\n",
              "      <td>119</td>\n",
              "    </tr>\n",
              "  </tbody>\n",
              "</table>\n",
              "</div>"
            ],
            "text/plain": [
              "               Gender  Age  ... Discount_Rate Room_Rate\n",
              "Reservation-id              ...                        \n",
              "62931593            F   52  ...            10       153\n",
              "70586099            F   47  ...             0       210\n",
              "4230648             F   28  ...             5       117\n",
              "25192322            F   65  ...            10       107\n",
              "80931528            M   45  ...             0       119\n",
              "\n",
              "[5 rows x 22 columns]"
            ]
          },
          "metadata": {
            "tags": []
          },
          "execution_count": 351
        }
      ]
    },
    {
      "cell_type": "code",
      "metadata": {
        "id": "Ta8bHkXuZk4N"
      },
      "source": [
        "submission_features = prepare_dataset(data_submission, one_hot_encoded_lst, dates, scaler=None, pca=None)"
      ],
      "execution_count": 352,
      "outputs": []
    },
    {
      "cell_type": "code",
      "metadata": {
        "id": "hCamaWMhbipq"
      },
      "source": [
        "submission_predictions = model.predict(submission_features)"
      ],
      "execution_count": 353,
      "outputs": []
    },
    {
      "cell_type": "code",
      "metadata": {
        "id": "nGyOcMcRtkNL"
      },
      "source": [
        "# submission_predictions = predict_combined_model(submission_features)"
      ],
      "execution_count": 354,
      "outputs": []
    },
    {
      "cell_type": "code",
      "metadata": {
        "colab": {
          "base_uri": "https://localhost:8080/"
        },
        "id": "2ej5-wNxdn2d",
        "outputId": "600030c8-08b0-4e5d-cfd7-a1fbc96e1dc9"
      },
      "source": [
        "submission_predictions = submission_predictions.tolist()\n",
        "submission_predictions = [x + 1 for x in submission_predictions]\n",
        "submission_predictions.count(1), submission_predictions.count(2), submission_predictions.count(3)"
      ],
      "execution_count": 355,
      "outputs": [
        {
          "output_type": "execute_result",
          "data": {
            "text/plain": [
              "(1411, 1429, 1478)"
            ]
          },
          "metadata": {
            "tags": []
          },
          "execution_count": 355
        }
      ]
    },
    {
      "cell_type": "code",
      "metadata": {
        "colab": {
          "base_uri": "https://localhost:8080/"
        },
        "id": "Hw7hnye3d55q",
        "outputId": "e0c10ad5-1095-4e35-d418-f1d5df626e5e"
      },
      "source": [
        "print(submission_predictions)"
      ],
      "execution_count": 356,
      "outputs": [
        {
          "output_type": "stream",
          "text": [
            "[2, 3, 1, 3, 1, 3, 2, 3, 2, 2, 3, 3, 2, 2, 2, 2, 1, 2, 2, 2, 2, 2, 3, 2, 1, 2, 3, 2, 2, 3, 2, 3, 2, 3, 3, 2, 2, 1, 3, 1, 2, 2, 2, 3, 2, 2, 2, 2, 1, 1, 1, 1, 3, 3, 2, 1, 2, 2, 3, 2, 3, 2, 2, 2, 2, 2, 2, 2, 1, 2, 2, 2, 1, 2, 2, 2, 2, 2, 1, 2, 1, 3, 2, 2, 3, 2, 2, 1, 2, 2, 2, 2, 3, 1, 2, 2, 3, 1, 3, 3, 2, 1, 2, 1, 2, 2, 2, 2, 3, 2, 2, 2, 1, 2, 3, 2, 2, 3, 2, 1, 2, 1, 2, 2, 2, 2, 1, 2, 2, 1, 3, 2, 3, 3, 2, 3, 2, 2, 2, 2, 3, 3, 3, 3, 3, 2, 2, 3, 3, 3, 3, 2, 2, 3, 2, 2, 2, 2, 1, 2, 3, 3, 2, 2, 1, 3, 3, 2, 3, 2, 3, 1, 3, 3, 3, 2, 3, 2, 1, 3, 1, 2, 3, 3, 3, 2, 1, 1, 3, 1, 3, 2, 3, 3, 2, 1, 2, 1, 1, 3, 2, 1, 3, 3, 2, 3, 1, 1, 1, 3, 1, 2, 2, 2, 1, 2, 2, 1, 3, 3, 3, 3, 3, 2, 2, 3, 2, 1, 2, 3, 2, 2, 2, 2, 2, 3, 1, 3, 1, 2, 2, 2, 2, 1, 3, 1, 3, 2, 2, 2, 3, 2, 2, 2, 2, 3, 2, 2, 3, 2, 2, 1, 3, 2, 3, 2, 2, 1, 2, 1, 2, 2, 3, 2, 2, 2, 1, 3, 2, 2, 2, 3, 1, 3, 2, 2, 2, 2, 2, 3, 1, 2, 2, 3, 3, 1, 2, 2, 3, 2, 2, 2, 2, 2, 1, 2, 2, 2, 2, 3, 2, 1, 2, 1, 3, 3, 2, 2, 2, 3, 2, 3, 3, 2, 2, 3, 2, 3, 3, 1, 2, 3, 3, 1, 3, 2, 2, 2, 3, 1, 2, 2, 1, 2, 1, 2, 2, 1, 2, 1, 1, 1, 1, 3, 1, 1, 2, 2, 2, 2, 2, 3, 1, 3, 2, 3, 1, 1, 1, 2, 3, 3, 1, 3, 1, 3, 1, 3, 1, 2, 1, 2, 3, 3, 3, 2, 2, 1, 2, 3, 2, 2, 2, 1, 1, 3, 2, 3, 1, 2, 2, 1, 2, 2, 2, 2, 3, 2, 2, 3, 1, 2, 2, 3, 3, 3, 2, 1, 2, 2, 2, 2, 3, 3, 3, 1, 3, 3, 1, 2, 2, 2, 3, 1, 3, 2, 2, 3, 2, 1, 1, 3, 1, 1, 2, 1, 3, 3, 1, 1, 2, 3, 1, 2, 3, 3, 2, 2, 3, 1, 3, 3, 2, 2, 3, 3, 1, 2, 2, 2, 2, 2, 3, 2, 3, 1, 1, 2, 3, 2, 2, 1, 3, 3, 1, 2, 1, 1, 3, 1, 3, 2, 2, 3, 3, 3, 2, 2, 2, 2, 2, 3, 1, 2, 2, 1, 3, 3, 3, 2, 2, 3, 3, 3, 3, 2, 1, 3, 1, 1, 1, 3, 2, 3, 3, 1, 3, 3, 1, 2, 3, 3, 1, 1, 2, 1, 1, 2, 3, 1, 1, 3, 3, 1, 3, 1, 2, 1, 2, 2, 1, 3, 3, 1, 2, 3, 2, 2, 2, 3, 2, 3, 1, 3, 3, 2, 3, 3, 2, 2, 3, 1, 2, 3, 3, 2, 3, 3, 1, 3, 1, 3, 1, 3, 1, 2, 3, 1, 2, 3, 2, 2, 2, 3, 3, 2, 2, 2, 1, 3, 2, 3, 3, 3, 1, 3, 3, 3, 3, 1, 2, 2, 3, 1, 3, 2, 3, 3, 2, 2, 2, 1, 3, 2, 2, 3, 3, 3, 1, 2, 3, 1, 3, 1, 3, 1, 3, 2, 2, 2, 1, 3, 3, 2, 1, 3, 2, 3, 2, 3, 2, 3, 1, 3, 2, 3, 3, 3, 3, 2, 3, 3, 3, 1, 2, 2, 1, 2, 2, 2, 3, 2, 1, 1, 2, 1, 3, 3, 1, 1, 1, 2, 3, 1, 1, 3, 3, 2, 2, 2, 1, 3, 2, 2, 3, 2, 2, 3, 3, 3, 3, 3, 2, 2, 2, 2, 3, 3, 2, 3, 2, 2, 2, 3, 2, 2, 2, 2, 3, 2, 1, 2, 2, 1, 2, 3, 2, 3, 1, 2, 2, 3, 2, 2, 2, 3, 3, 2, 3, 3, 1, 2, 2, 2, 3, 2, 2, 2, 3, 1, 2, 3, 3, 3, 1, 1, 2, 1, 2, 2, 1, 2, 2, 3, 3, 2, 1, 3, 1, 3, 3, 3, 2, 3, 2, 1, 2, 3, 2, 2, 3, 1, 1, 2, 2, 3, 3, 3, 2, 1, 3, 3, 3, 3, 2, 3, 3, 3, 1, 3, 2, 3, 1, 1, 3, 3, 1, 3, 1, 3, 1, 1, 3, 3, 2, 3, 3, 3, 2, 1, 3, 3, 3, 3, 3, 1, 1, 3, 1, 3, 2, 3, 1, 2, 1, 2, 3, 1, 2, 3, 2, 2, 3, 3, 1, 1, 3, 3, 3, 2, 1, 3, 2, 2, 3, 1, 3, 1, 3, 2, 1, 1, 1, 3, 2, 2, 2, 1, 1, 3, 1, 3, 2, 3, 1, 2, 3, 1, 3, 3, 1, 3, 2, 3, 3, 3, 1, 1, 1, 3, 3, 3, 1, 2, 2, 2, 2, 1, 3, 3, 2, 2, 1, 3, 1, 2, 3, 3, 1, 3, 2, 2, 2, 3, 2, 1, 2, 3, 2, 1, 2, 2, 3, 3, 1, 2, 1, 3, 3, 2, 2, 2, 2, 2, 3, 1, 2, 1, 2, 3, 2, 3, 3, 2, 3, 2, 1, 1, 2, 3, 1, 2, 1, 3, 3, 3, 2, 3, 3, 2, 1, 3, 2, 3, 2, 1, 3, 2, 3, 3, 1, 2, 1, 1, 1, 1, 3, 1, 3, 3, 1, 3, 3, 2, 2, 3, 3, 1, 2, 2, 1, 3, 2, 1, 3, 3, 1, 1, 1, 2, 3, 2, 2, 3, 3, 2, 3, 3, 3, 3, 2, 3, 3, 2, 2, 3, 3, 3, 3, 2, 3, 3, 3, 2, 2, 2, 3, 3, 3, 2, 2, 1, 3, 3, 1, 1, 2, 2, 1, 3, 1, 2, 1, 2, 3, 2, 1, 3, 2, 2, 3, 1, 1, 1, 3, 1, 2, 2, 2, 3, 3, 2, 3, 3, 2, 3, 2, 2, 1, 2, 1, 1, 3, 1, 3, 3, 2, 2, 1, 3, 1, 2, 3, 3, 1, 2, 1, 3, 3, 3, 3, 1, 2, 2, 2, 3, 3, 3, 1, 2, 1, 2, 1, 3, 1, 2, 1, 3, 3, 3, 3, 3, 3, 1, 2, 2, 3, 2, 2, 3, 3, 2, 1, 3, 3, 3, 1, 1, 1, 2, 1, 3, 3, 3, 2, 3, 3, 2, 3, 3, 3, 2, 1, 3, 1, 1, 2, 1, 3, 3, 3, 3, 3, 1, 3, 3, 3, 1, 1, 3, 2, 1, 3, 2, 2, 1, 1, 3, 3, 3, 1, 1, 1, 1, 1, 3, 2, 2, 3, 3, 2, 1, 3, 1, 1, 2, 1, 3, 2, 3, 3, 2, 3, 2, 1, 1, 3, 2, 3, 3, 3, 1, 3, 2, 2, 3, 2, 1, 2, 2, 3, 3, 3, 1, 3, 2, 3, 2, 3, 3, 2, 3, 1, 2, 2, 3, 2, 1, 2, 1, 3, 1, 3, 3, 3, 2, 3, 2, 2, 3, 3, 3, 1, 1, 1, 2, 2, 1, 2, 3, 3, 2, 3, 2, 3, 2, 3, 1, 3, 3, 2, 2, 2, 1, 2, 2, 2, 3, 2, 3, 2, 2, 3, 3, 3, 3, 3, 2, 2, 3, 3, 3, 3, 3, 3, 1, 2, 3, 1, 1, 3, 1, 3, 3, 1, 1, 1, 3, 2, 3, 2, 1, 1, 3, 1, 2, 2, 3, 3, 2, 1, 3, 3, 3, 2, 1, 3, 3, 3, 2, 3, 2, 1, 2, 2, 2, 3, 1, 2, 1, 1, 2, 1, 2, 3, 2, 3, 1, 1, 2, 1, 3, 2, 1, 1, 2, 3, 3, 3, 2, 1, 1, 2, 1, 1, 2, 2, 3, 1, 3, 3, 1, 3, 2, 1, 1, 3, 1, 2, 1, 2, 2, 1, 2, 1, 3, 2, 2, 3, 3, 1, 1, 3, 1, 2, 2, 1, 1, 3, 1, 2, 2, 1, 2, 1, 1, 1, 1, 1, 3, 1, 1, 2, 3, 1, 1, 1, 3, 1, 1, 1, 2, 3, 3, 3, 3, 3, 1, 3, 1, 2, 1, 3, 2, 3, 1, 2, 2, 2, 2, 1, 1, 1, 1, 1, 1, 1, 1, 3, 3, 2, 1, 1, 1, 1, 1, 3, 1, 1, 1, 1, 3, 3, 1, 1, 2, 3, 1, 2, 1, 1, 2, 3, 1, 1, 2, 1, 2, 3, 2, 1, 1, 1, 2, 2, 2, 3, 1, 3, 1, 3, 2, 3, 2, 3, 2, 1, 2, 1, 3, 3, 1, 1, 2, 2, 3, 3, 3, 3, 2, 1, 3, 2, 1, 3, 1, 2, 2, 1, 1, 3, 2, 1, 3, 3, 1, 3, 2, 2, 3, 3, 3, 1, 3, 2, 2, 1, 2, 2, 1, 3, 1, 3, 2, 2, 1, 1, 3, 2, 1, 3, 2, 2, 1, 1, 1, 1, 3, 3, 1, 3, 1, 2, 2, 3, 2, 3, 1, 2, 1, 1, 1, 2, 1, 1, 2, 3, 1, 3, 3, 1, 2, 2, 1, 1, 2, 1, 3, 3, 2, 1, 2, 3, 2, 2, 2, 1, 1, 3, 2, 3, 2, 3, 2, 3, 1, 1, 3, 3, 1, 2, 3, 1, 1, 3, 3, 3, 3, 1, 2, 3, 3, 3, 1, 3, 2, 1, 1, 2, 3, 3, 2, 3, 3, 3, 2, 1, 3, 1, 1, 1, 3, 1, 2, 1, 1, 1, 2, 3, 1, 2, 3, 2, 1, 1, 1, 2, 3, 3, 2, 1, 3, 2, 3, 2, 3, 1, 3, 1, 1, 1, 2, 1, 2, 1, 3, 1, 1, 1, 1, 2, 2, 1, 1, 1, 1, 2, 2, 3, 1, 3, 1, 1, 1, 2, 3, 1, 3, 1, 2, 2, 3, 3, 2, 3, 2, 2, 1, 3, 1, 1, 2, 3, 2, 2, 1, 2, 2, 2, 2, 2, 1, 3, 1, 3, 1, 3, 1, 1, 1, 3, 1, 3, 1, 2, 3, 1, 1, 2, 1, 1, 2, 2, 1, 2, 1, 3, 3, 2, 1, 2, 3, 1, 1, 1, 3, 1, 2, 3, 3, 1, 2, 1, 2, 1, 3, 1, 1, 2, 2, 3, 3, 3, 2, 3, 1, 2, 3, 3, 3, 3, 1, 1, 2, 3, 3, 3, 1, 3, 2, 1, 3, 1, 1, 3, 1, 2, 1, 1, 3, 1, 2, 3, 1, 1, 1, 1, 1, 2, 3, 2, 2, 2, 3, 2, 1, 3, 3, 1, 3, 3, 1, 3, 1, 1, 3, 2, 3, 3, 3, 1, 1, 2, 3, 3, 2, 2, 3, 3, 1, 3, 3, 1, 3, 1, 3, 1, 1, 1, 3, 2, 1, 1, 2, 1, 2, 3, 3, 2, 1, 1, 2, 1, 1, 1, 3, 2, 3, 3, 1, 1, 1, 1, 1, 1, 1, 2, 3, 3, 1, 3, 1, 3, 1, 2, 1, 3, 2, 1, 2, 3, 3, 1, 1, 1, 1, 1, 1, 2, 2, 1, 1, 1, 1, 1, 1, 3, 1, 1, 2, 3, 3, 2, 1, 3, 2, 1, 2, 2, 1, 2, 1, 1, 1, 1, 3, 1, 1, 1, 3, 2, 1, 1, 3, 3, 3, 1, 3, 3, 1, 3, 3, 2, 3, 3, 1, 2, 1, 3, 3, 2, 2, 1, 1, 1, 1, 3, 2, 1, 1, 3, 2, 2, 2, 3, 2, 3, 1, 1, 2, 2, 1, 2, 1, 1, 1, 2, 1, 3, 2, 3, 2, 2, 3, 1, 2, 3, 2, 2, 2, 2, 2, 1, 2, 1, 2, 2, 1, 2, 2, 3, 1, 1, 1, 3, 2, 2, 2, 1, 1, 3, 3, 3, 1, 1, 1, 3, 3, 1, 3, 1, 1, 2, 3, 1, 2, 1, 1, 3, 1, 1, 3, 3, 2, 1, 1, 2, 1, 3, 2, 1, 3, 2, 2, 2, 3, 3, 1, 3, 2, 3, 1, 3, 2, 1, 2, 2, 3, 2, 1, 2, 1, 1, 1, 2, 2, 3, 1, 2, 3, 1, 3, 3, 1, 1, 1, 3, 1, 1, 3, 3, 3, 1, 2, 2, 3, 1, 1, 1, 3, 1, 1, 1, 2, 1, 3, 1, 2, 2, 1, 2, 1, 2, 3, 3, 2, 1, 1, 3, 1, 3, 1, 2, 3, 1, 1, 1, 1, 1, 3, 2, 1, 2, 1, 2, 3, 1, 2, 1, 3, 1, 2, 3, 3, 1, 3, 3, 1, 1, 1, 2, 3, 3, 1, 2, 3, 3, 3, 2, 3, 2, 3, 3, 3, 2, 1, 3, 1, 1, 1, 2, 1, 1, 1, 1, 3, 2, 1, 1, 1, 2, 2, 3, 2, 2, 2, 1, 2, 1, 1, 1, 2, 1, 1, 2, 1, 2, 1, 1, 2, 1, 2, 1, 3, 2, 3, 3, 2, 2, 2, 3, 1, 3, 2, 3, 1, 3, 1, 1, 2, 1, 2, 3, 3, 2, 2, 3, 2, 3, 2, 2, 1, 2, 1, 2, 1, 2, 1, 2, 1, 3, 1, 3, 2, 3, 3, 1, 3, 1, 3, 1, 1, 3, 1, 2, 1, 1, 3, 1, 2, 1, 1, 1, 2, 3, 3, 1, 2, 2, 2, 2, 1, 2, 3, 2, 1, 1, 2, 3, 3, 1, 2, 1, 2, 1, 3, 1, 1, 1, 2, 3, 3, 2, 2, 1, 2, 2, 3, 3, 1, 1, 2, 1, 1, 3, 1, 3, 1, 2, 2, 2, 1, 1, 1, 1, 2, 1, 3, 1, 3, 3, 1, 1, 2, 3, 1, 2, 1, 1, 1, 1, 1, 1, 1, 1, 1, 3, 1, 1, 2, 1, 1, 2, 1, 1, 1, 1, 2, 1, 1, 1, 1, 1, 1, 2, 1, 1, 2, 3, 1, 1, 2, 2, 1, 3, 1, 1, 1, 2, 3, 1, 1, 1, 3, 3, 1, 3, 1, 1, 1, 1, 1, 1, 1, 1, 1, 3, 3, 3, 3, 1, 3, 2, 3, 2, 1, 1, 1, 1, 3, 3, 3, 3, 3, 1, 1, 2, 1, 3, 1, 1, 3, 3, 3, 2, 2, 1, 2, 1, 2, 1, 2, 3, 1, 2, 2, 3, 2, 1, 1, 2, 3, 3, 3, 1, 2, 3, 3, 2, 3, 2, 3, 1, 2, 1, 1, 1, 3, 1, 1, 1, 3, 3, 1, 3, 2, 1, 1, 1, 3, 3, 3, 2, 3, 1, 2, 2, 2, 2, 1, 1, 3, 2, 1, 2, 3, 2, 3, 2, 1, 3, 1, 2, 3, 1, 3, 3, 3, 3, 2, 1, 2, 3, 2, 3, 1, 2, 3, 3, 2, 3, 2, 1, 2, 2, 1, 3, 2, 2, 3, 2, 1, 1, 3, 2, 1, 1, 2, 1, 1, 2, 3, 3, 3, 3, 3, 3, 2, 3, 3, 3, 3, 2, 1, 1, 3, 1, 3, 3, 2, 3, 3, 2, 1, 1, 3, 1, 1, 2, 3, 3, 1, 3, 3, 2, 3, 1, 2, 3, 1, 3, 2, 3, 3, 1, 2, 1, 1, 2, 1, 1, 3, 1, 1, 1, 1, 3, 3, 2, 2, 1, 1, 1, 2, 1, 2, 1, 1, 1, 1, 1, 1, 1, 1, 1, 1, 1, 1, 3, 1, 3, 3, 2, 3, 1, 3, 1, 3, 3, 3, 2, 3, 2, 1, 1, 2, 1, 1, 1, 1, 1, 3, 1, 3, 1, 3, 3, 1, 1, 3, 1, 1, 1, 3, 3, 3, 3, 1, 1, 2, 2, 3, 1, 2, 3, 2, 2, 3, 1, 1, 3, 3, 3, 2, 1, 2, 2, 3, 2, 1, 3, 3, 1, 1, 2, 2, 3, 1, 1, 1, 1, 1, 3, 2, 1, 3, 2, 1, 1, 1, 1, 2, 3, 3, 3, 3, 1, 2, 3, 2, 1, 2, 3, 3, 1, 2, 3, 3, 1, 2, 1, 2, 3, 3, 1, 3, 3, 1, 3, 3, 3, 3, 1, 3, 3, 2, 2, 1, 1, 3, 3, 2, 3, 2, 2, 3, 3, 1, 3, 3, 3, 1, 2, 2, 2, 1, 1, 1, 2, 3, 2, 1, 2, 2, 2, 3, 3, 2, 3, 1, 3, 3, 3, 1, 2, 1, 3, 1, 2, 3, 1, 3, 3, 3, 2, 2, 1, 2, 2, 1, 2, 2, 1, 2, 2, 3, 3, 2, 2, 3, 3, 3, 2, 1, 1, 2, 2, 3, 1, 3, 2, 1, 2, 2, 2, 1, 3, 1, 2, 1, 3, 1, 2, 3, 2, 3, 1, 2, 3, 1, 3, 2, 2, 3, 3, 3, 1, 3, 1, 1, 1, 2, 1, 2, 2, 3, 1, 3, 1, 1, 3, 3, 1, 3, 1, 3, 2, 1, 3, 2, 1, 3, 1, 1, 3, 1, 1, 2, 1, 3, 3, 3, 1, 3, 2, 2, 3, 1, 1, 3, 2, 2, 2, 3, 2, 1, 3, 3, 2, 1, 1, 1, 3, 2, 3, 1, 2, 3, 2, 1, 3, 1, 1, 1, 3, 3, 3, 3, 1, 3, 1, 1, 1, 3, 2, 3, 1, 1, 3, 2, 1, 2, 3, 2, 3, 2, 1, 3, 2, 1, 1, 3, 1, 3, 3, 3, 1, 1, 2, 2, 1, 1, 2, 1, 3, 1, 1, 3, 2, 2, 3, 2, 3, 1, 3, 1, 3, 3, 3, 1, 3, 3, 1, 2, 3, 1, 2, 3, 1, 2, 3, 3, 2, 3, 2, 3, 2, 2, 1, 3, 1, 3, 2, 2, 1, 1, 2, 3, 3, 3, 3, 2, 2, 1, 1, 3, 3, 2, 2, 1, 2, 3, 3, 2, 3, 2, 2, 3, 1, 2, 3, 2, 3, 1, 3, 3, 2, 2, 2, 2, 3, 2, 3, 3, 2, 1, 3, 1, 1, 3, 2, 3, 1, 3, 2, 2, 2, 2, 3, 1, 2, 1, 3, 3, 1, 3, 1, 3, 2, 3, 2, 3, 3, 1, 2, 3, 1, 1, 3, 1, 2, 3, 1, 1, 2, 3, 3, 3, 2, 3, 3, 1, 3, 2, 3, 3, 1, 1, 1, 1, 2, 2, 3, 3, 3, 1, 3, 1, 2, 3, 2, 2, 2, 3, 3, 1, 1, 1, 1, 2, 1, 2, 2, 1, 1, 3, 1, 2, 2, 1, 3, 3, 1, 1, 2, 2, 1, 3, 1, 1, 1, 3, 1, 2, 3, 2, 1, 1, 3, 2, 2, 1, 3, 2, 1, 2, 2, 2, 2, 3, 1, 3, 3, 2, 2, 3, 1, 1, 3, 1, 3, 2, 3, 1, 2, 1, 3, 1, 2, 1, 2, 1, 3, 1, 2, 3, 3, 2, 1, 3, 1, 1, 1, 1, 3, 1, 2, 3, 3, 2, 3, 3, 1, 2, 3, 3, 1, 1, 3, 3, 1, 1, 2, 3, 2, 2, 2, 2, 1, 1, 2, 1, 2, 1, 1, 1, 2, 2, 2, 1, 1, 3, 3, 3, 3, 2, 1, 1, 1, 2, 3, 1, 1, 3, 2, 3, 3, 1, 1, 1, 2, 3, 2, 3, 3, 3, 3, 1, 3, 3, 3, 2, 2, 3, 2, 1, 2, 2, 3, 3, 3, 1, 3, 2, 3, 1, 3, 2, 2, 1, 2, 2, 1, 1, 2, 1, 2, 1, 3, 3, 1, 1, 1, 3, 3, 1, 1, 2, 3, 3, 1, 1, 1, 3, 3, 2, 3, 3, 1, 3, 3, 2, 3, 3, 2, 1, 1, 1, 3, 1, 3, 2, 2, 2, 1, 3, 3, 2, 2, 3, 2, 1, 1, 1, 3, 3, 1, 3, 3, 2, 1, 2, 1, 3, 2, 2, 1, 2, 1, 1, 2, 3, 3, 3, 1, 3, 3, 1, 3, 2, 1, 1, 2, 2, 1, 3, 3, 3, 3, 2, 3, 3, 2, 2, 3, 2, 3, 2, 2, 3, 3, 1, 3, 3, 1, 1, 3, 1, 2, 1, 2, 1, 3, 3, 1, 3, 3, 3, 2, 3, 3, 1, 1, 3, 3, 3, 2, 3, 2, 3, 2, 1, 1, 3, 3, 2, 1, 2, 1, 1, 3, 1, 3, 1, 2, 3, 1, 1, 1, 3, 2, 1, 1, 2, 3, 1, 2, 1, 3, 3, 3, 1, 3, 3, 2, 3, 2, 3, 1, 1, 3, 1, 1, 3, 2, 1, 3, 1, 2, 3, 3, 3, 3, 1, 2, 3, 3, 3, 3, 2, 2, 3, 2, 1, 3, 3, 3, 2, 1, 2, 2, 1, 3, 3, 3, 3, 2, 2, 3, 3, 1, 3, 2, 1, 3, 1, 3, 3, 2, 1, 1, 3, 2, 1, 1, 3, 1, 3, 2, 2, 1, 2, 3, 2, 1, 2, 2, 1, 3, 3, 1, 2, 3, 1, 3, 2, 3, 1, 2, 1, 3, 1, 3, 1, 1, 2, 2, 2, 1, 2, 1, 3, 2, 2, 1, 1, 2, 2, 1, 2, 1, 3, 2, 1, 3, 1, 3, 2, 3, 1, 1, 3, 1, 2, 2, 2, 3, 3, 1, 1, 2, 1, 1, 3, 1, 1, 3, 3, 3, 2, 3, 2, 3, 2, 3, 3, 2, 2, 3, 3, 2, 2, 3, 3, 2, 1, 1, 3, 1, 1, 2, 1, 1, 2, 3, 1, 2, 1, 2, 1, 1, 1, 1, 2, 3, 3, 3, 1, 2, 3, 2, 1, 3, 2, 1, 3, 2, 2, 2, 1, 2, 2, 1, 2, 1, 2, 1, 2, 3, 2, 2, 1, 3, 1, 1, 2, 3, 1, 1, 1, 1, 3, 3, 3, 2, 1, 2, 1, 2, 2, 2, 2, 1, 3, 1, 1, 3, 1, 2, 1, 2, 2, 2, 3, 3, 3, 2, 2, 2, 1, 1, 3, 3, 1, 1, 1, 1, 1, 2, 1, 2, 2, 3, 1, 2, 3, 1, 2, 3, 3, 3, 3, 2, 2, 3, 1, 3, 3, 3, 1, 3, 1, 3, 2, 2, 3, 3, 3, 1, 1, 2, 1, 2, 1, 1, 2, 2, 1, 1, 2, 1, 1, 1, 1, 1, 1, 3, 1, 2, 1, 1, 1, 1, 2, 2, 1, 3, 3, 1, 3, 1, 1, 3, 3, 1, 3, 2, 2, 3, 1, 2, 1, 3, 2, 3, 1, 1, 3, 1, 1, 2, 2, 1, 3, 2, 1, 3, 2, 1, 3, 3, 1, 3, 2, 1, 2, 1, 1, 1, 2, 3, 1, 2, 2, 1, 3, 1, 2, 2, 3, 3, 2, 2, 3, 2, 3, 2, 2, 2, 3, 1, 2, 1, 1, 3, 3, 2, 2, 2, 2, 2, 3, 3, 3, 3, 3, 2, 2, 3, 3, 2, 2, 3, 1, 1, 3, 3, 2, 2, 3, 3, 1, 2, 2, 2, 2, 2, 2, 3, 1, 2, 3, 2, 2, 1, 2, 2, 1, 3, 1, 2, 2, 2, 2, 2, 3, 3, 2, 2, 2, 3, 2, 3, 2, 3, 2, 1, 2, 1, 3, 1, 2, 1, 3, 2, 1, 3, 2, 3, 3, 2, 3, 1, 1, 2, 2, 3, 1, 3, 1, 1, 3, 1, 2, 2, 2, 2, 2, 2, 2, 2, 1, 3, 2, 2, 2, 1, 2, 2, 1, 1, 2, 1, 1, 2, 1, 1, 2, 1, 1, 2, 1, 1, 3, 2, 1, 1, 2, 3, 1, 2, 2, 2, 2, 1, 1, 3, 1, 3, 2, 1, 3, 1, 1, 1, 1, 3, 1, 1, 3, 3, 3, 3, 3, 1, 3, 2, 2, 3, 1, 1, 3, 3, 2, 2, 3, 1, 2, 1, 2, 3, 2, 3, 2, 3, 3, 2, 1, 1, 3, 1, 2, 2, 3, 3, 2, 1, 3, 1, 3, 2, 2, 2, 3, 2, 3, 1, 2, 2, 2, 2, 1, 3, 1, 3, 1, 2, 1, 3, 2, 2, 3, 2, 1, 2, 1, 3, 2, 3, 1, 1, 2, 1, 2, 2, 3, 1, 1, 1, 3, 2, 3, 2, 1, 2, 1, 3, 1, 1, 1, 1, 1, 2, 3, 2, 3, 3, 3, 2, 3, 3, 3, 2, 3, 3, 3, 1, 1, 1, 3, 1, 1, 3, 3, 2, 3, 1, 3, 2, 2, 3, 1, 1, 3, 2, 2, 2, 2, 2, 2, 1, 3, 3, 2, 2, 3, 2, 1, 2, 3, 2, 2, 3, 2, 3, 1, 3, 2, 2, 2, 1, 3, 2, 2, 1, 1, 2, 3, 1, 1, 2, 3, 2, 1, 3, 2, 3, 2, 2, 1, 2, 1, 2, 1, 2, 2, 2, 3, 2, 3, 2, 1, 2, 1, 2, 2, 3, 1, 2, 2, 3, 2, 1, 1, 1, 1, 3, 3, 1, 3, 2, 3, 2, 2, 2, 1, 1, 1, 2, 2, 2, 1, 3, 2, 3, 1, 1, 2, 2, 1, 1, 3, 2, 2, 2, 3, 3, 2, 1, 2, 3, 1, 1, 2, 2, 3, 1, 3, 1, 1, 2, 1, 3, 1, 1, 2, 2, 3, 1, 3, 3, 1, 1, 3, 2, 3, 1, 2, 3, 2, 2, 2, 2, 2, 3, 2, 2, 1, 1, 3, 3, 1, 2, 3, 2, 3, 1, 3, 1, 2, 2, 3, 3, 3, 2, 3, 3, 2, 2, 2, 2, 2, 2, 3, 2, 3, 1, 1, 1, 2, 2, 2, 1, 2, 2, 3, 1, 2, 1, 2, 3, 3, 2, 3, 3, 3, 2, 2, 1, 1, 2, 3, 2, 3, 3, 2, 2, 2, 3, 3, 3, 3, 2, 3, 3, 2, 2, 3, 2, 2, 3, 2, 3, 3, 2, 2, 2, 1, 1, 1, 1, 3, 2, 2, 2, 1, 3, 1, 2, 2, 1, 2, 2, 1, 2, 3, 2, 2, 3, 1, 2, 2, 2, 1, 3, 1, 2, 1, 2, 3, 1, 3, 1, 3, 2, 3, 3, 3, 3, 3, 3, 1, 1, 1, 3, 1, 3, 1, 3, 1, 3, 1, 2, 1, 3, 3, 1, 1, 3, 3, 3, 3, 2, 3, 2, 3, 1, 2]\n"
          ],
          "name": "stdout"
        }
      ]
    },
    {
      "cell_type": "code",
      "metadata": {
        "id": "-NFvfxSCcy1Y"
      },
      "source": [
        "col_drop = data_submission.columns.tolist()"
      ],
      "execution_count": 357,
      "outputs": []
    },
    {
      "cell_type": "code",
      "metadata": {
        "id": "PyJiexJAcac-"
      },
      "source": [
        "submission = data_submission.drop(col_drop, 1)"
      ],
      "execution_count": 358,
      "outputs": []
    },
    {
      "cell_type": "code",
      "metadata": {
        "id": "UVDFU94MdF9Y"
      },
      "source": [
        "submission['Reservation_status'] = DataFrame(submission_predictions,columns=['Reservation_status'])['Reservation_status'].values"
      ],
      "execution_count": 359,
      "outputs": []
    },
    {
      "cell_type": "code",
      "metadata": {
        "colab": {
          "base_uri": "https://localhost:8080/",
          "height": 235
        },
        "id": "IWPkUTRqe5pN",
        "outputId": "dfabb505-066d-4570-bcab-4dc6a151ddfa"
      },
      "source": [
        "submission.head()"
      ],
      "execution_count": 360,
      "outputs": [
        {
          "output_type": "execute_result",
          "data": {
            "text/html": [
              "<div>\n",
              "<style scoped>\n",
              "    .dataframe tbody tr th:only-of-type {\n",
              "        vertical-align: middle;\n",
              "    }\n",
              "\n",
              "    .dataframe tbody tr th {\n",
              "        vertical-align: top;\n",
              "    }\n",
              "\n",
              "    .dataframe thead th {\n",
              "        text-align: right;\n",
              "    }\n",
              "</style>\n",
              "<table border=\"1\" class=\"dataframe\">\n",
              "  <thead>\n",
              "    <tr style=\"text-align: right;\">\n",
              "      <th></th>\n",
              "      <th>Reservation_status</th>\n",
              "    </tr>\n",
              "    <tr>\n",
              "      <th>Reservation-id</th>\n",
              "      <th></th>\n",
              "    </tr>\n",
              "  </thead>\n",
              "  <tbody>\n",
              "    <tr>\n",
              "      <th>62931593</th>\n",
              "      <td>2</td>\n",
              "    </tr>\n",
              "    <tr>\n",
              "      <th>70586099</th>\n",
              "      <td>3</td>\n",
              "    </tr>\n",
              "    <tr>\n",
              "      <th>4230648</th>\n",
              "      <td>1</td>\n",
              "    </tr>\n",
              "    <tr>\n",
              "      <th>25192322</th>\n",
              "      <td>3</td>\n",
              "    </tr>\n",
              "    <tr>\n",
              "      <th>80931528</th>\n",
              "      <td>1</td>\n",
              "    </tr>\n",
              "  </tbody>\n",
              "</table>\n",
              "</div>"
            ],
            "text/plain": [
              "                Reservation_status\n",
              "Reservation-id                    \n",
              "62931593                         2\n",
              "70586099                         3\n",
              "4230648                          1\n",
              "25192322                         3\n",
              "80931528                         1"
            ]
          },
          "metadata": {
            "tags": []
          },
          "execution_count": 360
        }
      ]
    },
    {
      "cell_type": "code",
      "metadata": {
        "id": "tniFzEWcdHNl"
      },
      "source": [
        "submission.to_csv('gradientboost_noscaler_oversampled.csv')"
      ],
      "execution_count": 361,
      "outputs": []
    },
    {
      "cell_type": "code",
      "metadata": {
        "colab": {
          "base_uri": "https://localhost:8080/"
        },
        "id": "SDQogSMObTsM",
        "outputId": "d1677fe6-e2b2-40ec-88dc-9020118acbad"
      },
      "source": [
        "file_df = pd.read_csv('/content/submission2-day1.csv')\n",
        "print(file_df['Reservation_status'].value_counts())"
      ],
      "execution_count": 223,
      "outputs": [
        {
          "output_type": "stream",
          "text": [
            "1    2831\n",
            "2     969\n",
            "3     518\n",
            "Name: Reservation_status, dtype: int64\n"
          ],
          "name": "stdout"
        }
      ]
    },
    {
      "cell_type": "code",
      "metadata": {
        "id": "281kpcytYhmy"
      },
      "source": [
        "def compare_submissions(file1, file2 = '/content/submission2-day1.csv'):\n",
        "  file1_df = pd.read_csv(file1)\n",
        "  file2_df = pd.read_csv(file2)\n",
        "  file1_results = np.array(file1_df['Reservation_status'])\n",
        "  print(file1_df['Reservation_status'].value_counts())\n",
        "  print(len(file1_results))\n",
        "  file2_results = np.array(file2_df['Reservation_status'])\n",
        "  return np.sum(file1_results == file2_results)"
      ],
      "execution_count": 224,
      "outputs": []
    },
    {
      "cell_type": "code",
      "metadata": {
        "colab": {
          "base_uri": "https://localhost:8080/"
        },
        "id": "6ya14JnAaG3j",
        "outputId": "549cec82-621f-4033-e67c-3e1791cc6113"
      },
      "source": [
        "compare_submissions(file1='/content/submission-2-day3.csv')"
      ],
      "execution_count": 225,
      "outputs": [
        {
          "output_type": "stream",
          "text": [
            "1    4131\n",
            "2     164\n",
            "3      23\n",
            "Name: Reservation_status, dtype: int64\n",
            "4318\n"
          ],
          "name": "stdout"
        },
        {
          "output_type": "execute_result",
          "data": {
            "text/plain": [
              "2769"
            ]
          },
          "metadata": {
            "tags": []
          },
          "execution_count": 225
        }
      ]
    },
    {
      "cell_type": "code",
      "metadata": {
        "colab": {
          "base_uri": "https://localhost:8080/"
        },
        "id": "D9cSDvbuaL0J",
        "outputId": "5bd0983f-76b2-4ec1-f782-812ec9147e51"
      },
      "source": [
        "compare_submissions(file1='/content/submission-2-day3-pca-decisiontree.csv')"
      ],
      "execution_count": 226,
      "outputs": [
        {
          "output_type": "stream",
          "text": [
            "1    3782\n",
            "2     368\n",
            "3     168\n",
            "Name: Reservation_status, dtype: int64\n",
            "4318\n"
          ],
          "name": "stdout"
        },
        {
          "output_type": "execute_result",
          "data": {
            "text/plain": [
              "2650"
            ]
          },
          "metadata": {
            "tags": []
          },
          "execution_count": 226
        }
      ]
    },
    {
      "cell_type": "code",
      "metadata": {
        "colab": {
          "base_uri": "https://localhost:8080/"
        },
        "id": "CJNgc-BwaiRX",
        "outputId": "c4ceca2d-7ae6-4c0f-fda0-c80044ba69be"
      },
      "source": [
        "compare_submissions(file1='/content/submission-2-day3-pca.csv')"
      ],
      "execution_count": 227,
      "outputs": [
        {
          "output_type": "stream",
          "text": [
            "1    3782\n",
            "2     368\n",
            "3     168\n",
            "Name: Reservation_status, dtype: int64\n",
            "4318\n"
          ],
          "name": "stdout"
        },
        {
          "output_type": "execute_result",
          "data": {
            "text/plain": [
              "2650"
            ]
          },
          "metadata": {
            "tags": []
          },
          "execution_count": 227
        }
      ]
    },
    {
      "cell_type": "code",
      "metadata": {
        "colab": {
          "base_uri": "https://localhost:8080/"
        },
        "id": "RuwRkUEqanjn",
        "outputId": "b17cf3a1-2312-4d65-973e-22210b32684b"
      },
      "source": [
        "compare_submissions(file1='/content/submission-1-day3.csv')"
      ],
      "execution_count": 228,
      "outputs": [
        {
          "output_type": "stream",
          "text": [
            "1    3946\n",
            "2     315\n",
            "3      57\n",
            "Name: Reservation_status, dtype: int64\n",
            "4318\n"
          ],
          "name": "stdout"
        },
        {
          "output_type": "execute_result",
          "data": {
            "text/plain": [
              "2724"
            ]
          },
          "metadata": {
            "tags": []
          },
          "execution_count": 228
        }
      ]
    },
    {
      "cell_type": "code",
      "metadata": {
        "colab": {
          "base_uri": "https://localhost:8080/"
        },
        "id": "5i40Z9kva4jY",
        "outputId": "74426d4b-52bb-49cf-a307-79ff5cf30c0e"
      },
      "source": [
        "compare_submissions(file1='/content/decisiontree.csv')"
      ],
      "execution_count": 250,
      "outputs": [
        {
          "output_type": "stream",
          "text": [
            "1    2865\n",
            "2     856\n",
            "3     597\n",
            "Name: Reservation_status, dtype: int64\n",
            "4318\n"
          ],
          "name": "stdout"
        },
        {
          "output_type": "execute_result",
          "data": {
            "text/plain": [
              "2256"
            ]
          },
          "metadata": {
            "tags": []
          },
          "execution_count": 250
        }
      ]
    },
    {
      "cell_type": "code",
      "metadata": {
        "colab": {
          "base_uri": "https://localhost:8080/"
        },
        "id": "RMCTGHF5d00i",
        "outputId": "0d7f433f-b2fd-41dc-c286-4d9bff03c158"
      },
      "source": [
        "compare_submissions(file1='/content/decisiontree_with_params.csv')"
      ],
      "execution_count": 265,
      "outputs": [
        {
          "output_type": "stream",
          "text": [
            "1    3357\n",
            "2     608\n",
            "3     353\n",
            "Name: Reservation_status, dtype: int64\n",
            "4318\n"
          ],
          "name": "stdout"
        },
        {
          "output_type": "execute_result",
          "data": {
            "text/plain": [
              "2490"
            ]
          },
          "metadata": {
            "tags": []
          },
          "execution_count": 265
        }
      ]
    },
    {
      "cell_type": "code",
      "metadata": {
        "colab": {
          "base_uri": "https://localhost:8080/"
        },
        "id": "8Zz-0ipxeY5U",
        "outputId": "83880ad1-f3e3-4aa7-e7cc-69f84c8fab16"
      },
      "source": [
        "compare_submissions(file1='/content/decisiontree_noscaler.csv')"
      ],
      "execution_count": 326,
      "outputs": [
        {
          "output_type": "stream",
          "text": [
            "1    2895\n",
            "2     910\n",
            "3     513\n",
            "Name: Reservation_status, dtype: int64\n",
            "4318\n"
          ],
          "name": "stdout"
        },
        {
          "output_type": "execute_result",
          "data": {
            "text/plain": [
              "2295"
            ]
          },
          "metadata": {
            "tags": []
          },
          "execution_count": 326
        }
      ]
    },
    {
      "cell_type": "code",
      "metadata": {
        "colab": {
          "base_uri": "https://localhost:8080/"
        },
        "id": "DIgvd3qVftcw",
        "outputId": "2acd5c8c-82e4-4045-edda-2c7685f4b20c"
      },
      "source": [
        "compare_submissions(file1='/content/decisiontree_noscaler_with_params.csv')"
      ],
      "execution_count": 341,
      "outputs": [
        {
          "output_type": "stream",
          "text": [
            "1    3307\n",
            "2     668\n",
            "3     343\n",
            "Name: Reservation_status, dtype: int64\n",
            "4318\n"
          ],
          "name": "stdout"
        },
        {
          "output_type": "execute_result",
          "data": {
            "text/plain": [
              "2453"
            ]
          },
          "metadata": {
            "tags": []
          },
          "execution_count": 341
        }
      ]
    },
    {
      "cell_type": "code",
      "metadata": {
        "colab": {
          "base_uri": "https://localhost:8080/"
        },
        "id": "kwkSNRE5gR3E",
        "outputId": "05f4f806-0f7e-4f2c-a772-a20d71fb76d9"
      },
      "source": [
        "compare_submissions(file1='/content/submission-2-day3_Bimsara.csv')"
      ],
      "execution_count": 342,
      "outputs": [
        {
          "output_type": "stream",
          "text": [
            "1    3480\n",
            "2     593\n",
            "3     245\n",
            "Name: Reservation_status, dtype: int64\n",
            "4318\n"
          ],
          "name": "stdout"
        },
        {
          "output_type": "execute_result",
          "data": {
            "text/plain": [
              "2539"
            ]
          },
          "metadata": {
            "tags": []
          },
          "execution_count": 342
        }
      ]
    },
    {
      "cell_type": "code",
      "metadata": {
        "colab": {
          "base_uri": "https://localhost:8080/"
        },
        "id": "zlzvKk7nhpwd",
        "outputId": "58c1bbec-7593-4946-a6f2-d934e889fe0f"
      },
      "source": [
        "compare_submissions(file1='/content/gradientboost_noscaler_oversampled.csv')"
      ],
      "execution_count": 362,
      "outputs": [
        {
          "output_type": "stream",
          "text": [
            "3    1478\n",
            "2    1429\n",
            "1    1411\n",
            "Name: Reservation_status, dtype: int64\n",
            "4318\n"
          ],
          "name": "stdout"
        },
        {
          "output_type": "execute_result",
          "data": {
            "text/plain": [
              "1646"
            ]
          },
          "metadata": {
            "tags": []
          },
          "execution_count": 362
        }
      ]
    },
    {
      "cell_type": "code",
      "metadata": {
        "colab": {
          "base_uri": "https://localhost:8080/"
        },
        "id": "h64SqsWKjieq",
        "outputId": "334985c9-c7dd-4db8-bc98-a0df25e2c0c9"
      },
      "source": [
        "compare_submissions(file1='/content/submission-2-day3_Bimsara3.csv')"
      ],
      "execution_count": 364,
      "outputs": [
        {
          "output_type": "stream",
          "text": [
            "1    3042\n",
            "2     817\n",
            "3     459\n",
            "Name: Reservation_status, dtype: int64\n",
            "4318\n"
          ],
          "name": "stdout"
        },
        {
          "output_type": "execute_result",
          "data": {
            "text/plain": [
              "2304"
            ]
          },
          "metadata": {
            "tags": []
          },
          "execution_count": 364
        }
      ]
    },
    {
      "cell_type": "code",
      "metadata": {
        "id": "A1KVfc7ClOZt"
      },
      "source": [
        ""
      ],
      "execution_count": null,
      "outputs": []
    }
  ]
}